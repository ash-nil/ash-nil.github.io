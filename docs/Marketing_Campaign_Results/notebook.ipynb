{
 "cells": [
  {
   "cell_type": "markdown",
   "metadata": {},
   "source": [
    "# Marketing Campaign Analysis\n",
    "\n",
    "## Background\n",
    "\n",
    "### About the Business\n",
    "\n",
    "Company A is a debt negotiation business. Clients have substantial debt and are unable to make their minimum monthly payments on the debt accounts. Company A creates a dedicated bank account where clients deposit regular monthly payments. Company A then uses these funds to negotiate with creditors on behalf of the client to settle the outstanding debt. \n",
    "\n",
    "Company A's profits come from client-collected fees. When Company A successfully negotiates a settlement agreement these fees are charged to the client's account. The number of settlement agreements Company A can negotiate is proportional to the monthly deposited amount. \n",
    "\n",
    "### Analysis Purpose\n",
    "\n",
    "Company A wishes to analyze the efficacy of a recent marketing campaign promoting their debt relief program and how it helps people achieve financial freedom. The total cost of this campaign was $5 million. \n",
    "\n",
    "The goal of this analysis is to **show marketing, sales and operations the success of the campaign**. Specifically, the analysis includes: \n",
    "\n",
    "- A quantitative assessment of whether the marketing campaign was successful.\n",
    "- Recommended adjustments to the campaign strategy to improve performance.\n",
    "\n",
    "### Defining Success\n",
    "Given our available data, these are the possible success factors that will be considered:\n",
    "\n",
    "- Increase in number of deposits\n",
    "    - How it's a success: \n",
    "    - How to measure:  \n",
    "- Increase in total amount of deposits\n",
    "    - How it's a success: \n",
    "    - How to measure: \n",
    "\n",
    "### Data Overview\n",
    "\n",
    "There are three datasets provided for the analysis; each is already cleaned and prepared for analysis.  \n",
    "\n",
    "**client_data.csv: Fictional clients**\n",
    "\n",
    "| Column Name | Description |\n",
    "|---|---|\n",
    "client_id|Unique client ID|\n",
    "client_geographical_region|Client geo-location (U.S. Census definitions)|\n",
    "client_residence_status|Client residence status|\n",
    "client_age|Client age|\n",
    "\n",
    "\n",
    "**deposit_data.csv: Client deposit behavior**\n",
    "\n",
    "| Column Name | Description |\n",
    "|---|---|\n",
    "client_id|Unique client ID|\n",
    "deposit_type|Scheduled vs. Actual deposit|\n",
    "deposit_amount|Deposit amount|\n",
    "deposit_cadence|Frequency of deposit (scheduled)|\n",
    "deposit_date|Deposit date|\n",
    "\n",
    "\n",
    "**calendar_data.csv: Calendar reference table**\n",
    "\n",
    "| Column Name | Description |\n",
    "|---|---|\n",
    "|gregorian_date|Gregorian calendar date|\n",
    "|month_name|Month relative to data set|\n",
    "\n",
    "Notes: \n",
    "\n",
    "- Month 1 and 2 are pre-campaign\n",
    "- Month 3 is the campaign\n",
    "- Month 4 and 5 are post-campaign\n",
    "\n",
    "Assumptions: \n",
    "\n",
    "- There is no seasonality in the results\n",
    "- The campaign spend was distributed evenly across Month 3 (i.e., spend on the first day is the same as spend on the last day)\n",
    "\n",
    "## Analysis"
   ]
  },
  {
   "cell_type": "code",
   "execution_count": 183,
   "metadata": {},
   "outputs": [],
   "source": [
    "# import packages\n",
    "import numpy as np\n",
    "import pandas as pd\n",
    "import datetime\n",
    "import plotly.express as px"
   ]
  },
  {
   "cell_type": "markdown",
   "metadata": {},
   "source": [
    "### Data Wrangling\n",
    "\n",
    "For this first section, I'm taking a quick look at the provided data. Since the data is already cleaned, we're assuming that there are not duplicate client accounts and all deposits are authentic representations rather than data entry errors.  \n",
    "\n",
    "In the initial review, it's clear that there are *generally* two representations for deposits: a scheduled deposit then the actual deposit. As such, we're going to create dummy variables for the two deposit types then group the deposits together so there is only one sample per deposit. This will create the following options for each deposit:\n",
    "\n",
    "|Actual|Scheduled|Description|  \n",
    "|---|---|---|\n",
    "|True|True|A deposit is scheduled and completed|  \n",
    "|True|False|A deposit is scheduled but not completed|  \n",
    "|False|True|An unscheduled deposit is completed|\n",
    "\n",
    "Note: It is possible for someone to make multiple deposits of the same amount on the same day. As such, we are not dropping deposits that may appear to be duplicated. \n",
    "\n",
    "At the end of this section, we will have a sample representing an individual deposit. The columns are as follows:\n",
    "\n",
    "|Column Name|Description|Value Type/Values|\n",
    "|---|---|---|\n",
    "|client_id| Unique client ID|Integer|\n",
    "|deposit_amount| Amount of Deposit|Decimal |\n",
    "|deposit_cadence| Frequency of Deposit|Categorical: Bi-Weekly, Extra, Monthly |\n",
    "|deposit_date| Date of the deposit| datetime|\n",
    "|actual_deposit| If the deposit was completed | Boolean: True/False|\n",
    "|scheduled_deposit| If the deposit was scheduled | Boolean: True/False|\n",
    "|month_name| Month relative to data set|Categorical: 1, 2, 3, 4, 5 |\n",
    "|client_geographical_region|Client geo-location (U.S. Census definitions)|Categorical: Midwest, West, South, Northeast |\n",
    "|client_residence_status|Client Residence Status |Categorical: Rent, Own|\n",
    "|client_age| Client's Age|Integer |\n",
    "|semimonth| Which half of the month the deposit occurred in<sup>*</sup>| datetime|\n",
    "\n",
    "<sup>*</sup>The date will be the first day of the month if the deposit was on or before the 14th, and the 15th day of the month if not.   \n"
   ]
  },
  {
   "cell_type": "code",
   "execution_count": 184,
   "metadata": {},
   "outputs": [
    {
     "name": "stdout",
     "output_type": "stream",
     "text": [
      "         client_id  ... client_age\n",
      "0  538839486596724  ...         91\n",
      "1  321708286091707  ...         83\n",
      "2  848531901757235  ...         84\n",
      "3  854405182328779  ...         83\n",
      "4  769102176031316  ...         85\n",
      "\n",
      "[5 rows x 4 columns]\n",
      "Total rows:  46347\n",
      "\n",
      "         client_id       deposit_type  ...  deposit_cadence deposit_date\n",
      "0  446495122764671     Actual Deposit  ...          Monthly   2019-10-23\n",
      "1  446495122764671     Actual Deposit  ...          Monthly   2019-09-23\n",
      "2  446495122764671  Scheduled Deposit  ...          Monthly   2019-09-23\n",
      "3  446495122764671  Scheduled Deposit  ...          Monthly   2019-10-23\n",
      "4  446495122764671  Scheduled Deposit  ...          Monthly   2019-06-23\n",
      "\n",
      "[5 rows x 5 columns]\n",
      "Total rows:  480394\n",
      "\n",
      "  gregorian_date month_name\n",
      "0     2019-06-01    Month 1\n",
      "1     2019-06-02    Month 1\n",
      "2     2019-06-03    Month 1\n",
      "3     2019-06-04    Month 1\n",
      "4     2019-06-05    Month 1\n",
      "Total rows:  153\n",
      "\n",
      "         client_id  ... client_age\n",
      "0  538839486596724  ...         91\n",
      "1  321708286091707  ...         83\n",
      "2  848531901757235  ...         84\n",
      "3  854405182328779  ...         83\n",
      "4  769102176031316  ...         85\n",
      "\n",
      "[5 rows x 4 columns]\n",
      "Total rows:  46347\n",
      "\n",
      "         client_id       deposit_type  ...  deposit_cadence deposit_date\n",
      "0  446495122764671     Actual Deposit  ...          Monthly   2019-10-23\n",
      "1  446495122764671     Actual Deposit  ...          Monthly   2019-09-23\n",
      "2  446495122764671  Scheduled Deposit  ...          Monthly   2019-09-23\n",
      "3  446495122764671  Scheduled Deposit  ...          Monthly   2019-10-23\n",
      "4  446495122764671  Scheduled Deposit  ...          Monthly   2019-06-23\n",
      "\n",
      "[5 rows x 5 columns]\n",
      "Total rows:  480394\n",
      "\n",
      "  gregorian_date month_name\n",
      "0     2019-06-01    Month 1\n",
      "1     2019-06-02    Month 1\n",
      "2     2019-06-03    Month 1\n",
      "3     2019-06-04    Month 1\n",
      "4     2019-06-05    Month 1\n",
      "Total rows:  153\n",
      "\n"
     ]
    }
   ],
   "source": [
    "# read in data\n",
    "clients = pd.read_csv('data/client_data.csv')\n",
    "deposits = pd.read_csv('data/deposit_data.csv')\n",
    "calendar = pd.read_csv('data/calendar_data.csv')\n",
    "\n",
    "# return basic details on dataframes\n",
    "df_group = [clients, deposits,calendar]\n",
    "for i in df_group:\n",
    "    print(i.head())\n",
    "    print('Total rows: ',i.shape[0])\n",
    "    print('')"
   ]
  },
  {
   "cell_type": "code",
   "execution_count": 185,
   "metadata": {},
   "outputs": [
    {
     "data": {
      "text/plain": [
       "array(['Actual Deposit', 'Scheduled Deposit'], dtype=object)"
      ]
     },
     "execution_count": null,
     "metadata": {},
     "output_type": "execute_result"
    }
   ],
   "source": [
    "# verify types of deposits\n",
    "deposits.deposit_type.unique()"
   ]
  },
  {
   "cell_type": "code",
   "execution_count": 186,
   "metadata": {},
   "outputs": [
    {
     "name": "stdout",
     "output_type": "stream",
     "text": [
      "         client_id  deposit_amount  ... Actual Deposit Scheduled Deposit\n",
      "0  446495122764671           303.0  ...           True             False\n",
      "1  446495122764671           303.0  ...           True             False\n",
      "2  446495122764671           303.0  ...          False              True\n",
      "3  446495122764671           303.0  ...          False              True\n",
      "4  446495122764671           303.0  ...          False              True\n",
      "\n",
      "[5 rows x 6 columns]\n",
      "Total rows:  480394\n",
      "         client_id  deposit_amount  ... Actual Deposit Scheduled Deposit\n",
      "0  446495122764671           303.0  ...           True             False\n",
      "1  446495122764671           303.0  ...           True             False\n",
      "2  446495122764671           303.0  ...          False              True\n",
      "3  446495122764671           303.0  ...          False              True\n",
      "4  446495122764671           303.0  ...          False              True\n",
      "\n",
      "[5 rows x 6 columns]\n",
      "Total rows:  480394\n"
     ]
    }
   ],
   "source": [
    "# get dummies for deposit types\n",
    "df = pd.get_dummies(data=deposits, prefix='', prefix_sep='', columns=['deposit_type'])\n",
    "print(df.head())\n",
    "print('Total rows: ',df.shape[0])"
   ]
  },
  {
   "cell_type": "code",
   "execution_count": 187,
   "metadata": {},
   "outputs": [
    {
     "name": "stdout",
     "output_type": "stream",
     "text": [
      "      client_id  deposit_amount  ... Actual Deposit Scheduled Deposit\n",
      "0  146046305811           247.0  ...          False              True\n",
      "1  146046305811           247.0  ...           True              True\n",
      "2  146046305811           247.0  ...           True              True\n",
      "3  146046305811           247.0  ...           True              True\n",
      "4  146046305811           247.0  ...           True              True\n",
      "\n",
      "[5 rows x 6 columns]\n",
      "Total Rows:  256143\n",
      "      client_id  deposit_amount  ... Actual Deposit Scheduled Deposit\n",
      "0  146046305811           247.0  ...          False              True\n",
      "1  146046305811           247.0  ...           True              True\n",
      "2  146046305811           247.0  ...           True              True\n",
      "3  146046305811           247.0  ...           True              True\n",
      "4  146046305811           247.0  ...           True              True\n",
      "\n",
      "[5 rows x 6 columns]\n",
      "Total Rows:  256143\n"
     ]
    }
   ],
   "source": [
    "# group scheduled/actual deposits for matching\n",
    "df = df.groupby(['client_id', 'deposit_amount', 'deposit_cadence', 'deposit_date'], \n",
    "    as_index=False).agg({'Actual Deposit': 'max', 'Scheduled Deposit': 'max'})\n",
    "print(df.head())\n",
    "print('Total Rows: ',df.shape[0])"
   ]
  },
  {
   "cell_type": "code",
   "execution_count": 188,
   "metadata": {},
   "outputs": [
    {
     "data": {
      "text/html": [
       "<div>\n",
       "<style scoped>\n",
       "    .dataframe tbody tr th:only-of-type {\n",
       "        vertical-align: middle;\n",
       "    }\n",
       "\n",
       "    .dataframe tbody tr th {\n",
       "        vertical-align: top;\n",
       "    }\n",
       "\n",
       "    .dataframe thead th {\n",
       "        text-align: right;\n",
       "    }\n",
       "</style>\n",
       "<table border=\"1\" class=\"dataframe\">\n",
       "  <thead>\n",
       "    <tr style=\"text-align: right;\">\n",
       "      <th></th>\n",
       "      <th>client_id</th>\n",
       "      <th>deposit_amount</th>\n",
       "      <th>deposit_cadence</th>\n",
       "      <th>deposit_date</th>\n",
       "      <th>actual_deposit</th>\n",
       "      <th>scheduled_deposit</th>\n",
       "      <th>month</th>\n",
       "      <th>client_geographical_region</th>\n",
       "      <th>client_residence_status</th>\n",
       "      <th>client_age</th>\n",
       "    </tr>\n",
       "  </thead>\n",
       "  <tbody>\n",
       "    <tr>\n",
       "      <th>0</th>\n",
       "      <td>146046305811</td>\n",
       "      <td>247.0</td>\n",
       "      <td>Biweekly</td>\n",
       "      <td>2019-06-05</td>\n",
       "      <td>False</td>\n",
       "      <td>True</td>\n",
       "      <td>1</td>\n",
       "      <td>Midwest</td>\n",
       "      <td>Rent</td>\n",
       "      <td>42</td>\n",
       "    </tr>\n",
       "    <tr>\n",
       "      <th>1</th>\n",
       "      <td>146046305811</td>\n",
       "      <td>247.0</td>\n",
       "      <td>Biweekly</td>\n",
       "      <td>2019-06-19</td>\n",
       "      <td>True</td>\n",
       "      <td>True</td>\n",
       "      <td>1</td>\n",
       "      <td>Midwest</td>\n",
       "      <td>Rent</td>\n",
       "      <td>42</td>\n",
       "    </tr>\n",
       "    <tr>\n",
       "      <th>2</th>\n",
       "      <td>146046305811</td>\n",
       "      <td>247.0</td>\n",
       "      <td>Biweekly</td>\n",
       "      <td>2019-07-03</td>\n",
       "      <td>True</td>\n",
       "      <td>True</td>\n",
       "      <td>2</td>\n",
       "      <td>Midwest</td>\n",
       "      <td>Rent</td>\n",
       "      <td>42</td>\n",
       "    </tr>\n",
       "    <tr>\n",
       "      <th>3</th>\n",
       "      <td>146046305811</td>\n",
       "      <td>247.0</td>\n",
       "      <td>Biweekly</td>\n",
       "      <td>2019-07-17</td>\n",
       "      <td>True</td>\n",
       "      <td>True</td>\n",
       "      <td>2</td>\n",
       "      <td>Midwest</td>\n",
       "      <td>Rent</td>\n",
       "      <td>42</td>\n",
       "    </tr>\n",
       "    <tr>\n",
       "      <th>4</th>\n",
       "      <td>146046305811</td>\n",
       "      <td>247.0</td>\n",
       "      <td>Biweekly</td>\n",
       "      <td>2019-07-31</td>\n",
       "      <td>True</td>\n",
       "      <td>True</td>\n",
       "      <td>2</td>\n",
       "      <td>Midwest</td>\n",
       "      <td>Rent</td>\n",
       "      <td>42</td>\n",
       "    </tr>\n",
       "  </tbody>\n",
       "</table>\n",
       "</div>"
      ],
      "text/plain": [
       "      client_id  deposit_amount  ... client_residence_status client_age\n",
       "0  146046305811           247.0  ...                    Rent         42\n",
       "1  146046305811           247.0  ...                    Rent         42\n",
       "2  146046305811           247.0  ...                    Rent         42\n",
       "3  146046305811           247.0  ...                    Rent         42\n",
       "4  146046305811           247.0  ...                    Rent         42\n",
       "\n",
       "[5 rows x 10 columns]"
      ]
     },
     "execution_count": null,
     "metadata": {},
     "output_type": "execute_result"
    }
   ],
   "source": [
    "# merge dataframes\n",
    "df = pd.merge(df, calendar, left_on='deposit_date', right_on='gregorian_date', \n",
    "    how='inner', suffixes=('',''))\n",
    "df = pd.merge(df, clients, on='client_id', how='inner', suffixes=('',''))\n",
    "\n",
    "# clean columns\n",
    "df['month_name'] = df['month_name'].str.extract(r'(\\d+)').astype(int)\n",
    "df = df.rename(columns={'month_name': 'month', 'Actual Deposit': 'actual_deposit', \n",
    "    'Scheduled Deposit': 'scheduled_deposit'})\n",
    "df = df.drop(['gregorian_date'], axis=1)\n",
    "\n",
    "df.head()"
   ]
  },
  {
   "cell_type": "code",
   "execution_count": 189,
   "metadata": {},
   "outputs": [
    {
     "name": "stdout",
     "output_type": "stream",
     "text": [
      "<class 'pandas.core.frame.DataFrame'>\n",
      "RangeIndex: 256143 entries, 0 to 256142\n",
      "Data columns (total 11 columns):\n",
      " #   Column                      Non-Null Count   Dtype         \n",
      "---  ------                      --------------   -----         \n",
      " 0   client_id                   256143 non-null  int64         \n",
      " 1   deposit_amount              256143 non-null  float64       \n",
      " 2   deposit_cadence             256143 non-null  category      \n",
      " 3   deposit_date                256143 non-null  datetime64[ns]\n",
      " 4   actual_deposit              256143 non-null  bool          \n",
      " 5   scheduled_deposit           256143 non-null  bool          \n",
      " 6   month                       256143 non-null  category      \n",
      " 7   client_geographical_region  256143 non-null  category      \n",
      " 8   client_residence_status     256143 non-null  category      \n",
      " 9   client_age                  256143 non-null  int64         \n",
      " 10  semimonth                   256143 non-null  datetime64[ns]\n",
      "dtypes: bool(2), category(4), datetime64[ns](2), float64(1), int64(2)\n",
      "memory usage: 11.2 MB\n",
      "<class 'pandas.core.frame.DataFrame'>\n",
      "RangeIndex: 256143 entries, 0 to 256142\n",
      "Data columns (total 11 columns):\n",
      " #   Column                      Non-Null Count   Dtype         \n",
      "---  ------                      --------------   -----         \n",
      " 0   client_id                   256143 non-null  int64         \n",
      " 1   deposit_amount              256143 non-null  float64       \n",
      " 2   deposit_cadence             256143 non-null  category      \n",
      " 3   deposit_date                256143 non-null  datetime64[ns]\n",
      " 4   actual_deposit              256143 non-null  bool          \n",
      " 5   scheduled_deposit           256143 non-null  bool          \n",
      " 6   month                       256143 non-null  category      \n",
      " 7   client_geographical_region  256143 non-null  category      \n",
      " 8   client_residence_status     256143 non-null  category      \n",
      " 9   client_age                  256143 non-null  int64         \n",
      " 10  semimonth                   256143 non-null  datetime64[ns]\n",
      "dtypes: bool(2), category(4), datetime64[ns](2), float64(1), int64(2)\n",
      "memory usage: 11.2 MB\n"
     ]
    }
   ],
   "source": [
    "# update categorical columns\n",
    "df = df.astype({'deposit_cadence':'category', 'month':'category', \n",
    "    'client_geographical_region':'category', 'client_residence_status':'category'})\n",
    "\n",
    "\n",
    "# add semi-monthly deposit dates\n",
    "df['deposit_date'] = pd.to_datetime(df['deposit_date'])\n",
    "def modify_date(date):\n",
    "    day = date.day\n",
    "    if day <= 14:\n",
    "        return date.replace(day=1)\n",
    "    else:\n",
    "        return date.replace(day=15)\n",
    "df['semimonth'] = df['deposit_date'].apply(modify_date)\n",
    "\n",
    "df.info()"
   ]
  },
  {
   "cell_type": "markdown",
   "metadata": {},
   "source": [
    "### Data Exploration"
   ]
  },
  {
   "cell_type": "code",
   "execution_count": 182,
   "metadata": {},
   "outputs": [
    {
     "ename": "AttributeError",
     "evalue": "module '_plotly_utils.colors.qualitative' has no attribute 'dark2'",
     "output_type": "error",
     "traceback": [
      "\u001b[0;31m---------------------------------------------------------------------------\u001b[0m\n",
      "\u001b[0;31mAttributeError\u001b[0m                            Traceback (most recent call last)\n",
      "Cell \u001b[0;32mIn[182], line 1\u001b[0m\n",
      "\u001b[0;32m----> 1\u001b[0m fig1 \u001b[38;5;241m=\u001b[39m px\u001b[38;5;241m.\u001b[39mbar(df, x\u001b[38;5;241m=\u001b[39m\u001b[38;5;124m'\u001b[39m\u001b[38;5;124mdeposit_cadence\u001b[39m\u001b[38;5;124m'\u001b[39m, color_discrete_sequence\u001b[38;5;241m=\u001b[39m\u001b[43mpx\u001b[49m\u001b[38;5;241;43m.\u001b[39;49m\u001b[43mcolors\u001b[49m\u001b[38;5;241;43m.\u001b[39;49m\u001b[43mqualitative\u001b[49m\u001b[38;5;241;43m.\u001b[39;49m\u001b[43mdark2\u001b[49m,)\n",
      "\u001b[1;32m      2\u001b[0m fig1\u001b[38;5;241m.\u001b[39mshow()\n",
      "\n",
      "\u001b[0;31mAttributeError\u001b[0m: module '_plotly_utils.colors.qualitative' has no attribute 'dark2'"
     ]
    }
   ],
   "source": [
    "fig1 = px.bar(df, x='deposit_cadence', color_discrete_sequence=px.colors.qualitative.dark2,)\n",
    "fig1.show()"
   ]
  },
  {
   "cell_type": "markdown",
   "metadata": {},
   "source": [
    "### Initial Results \n",
    "\n",
    "Following that, we'll create a new df with clients who already had accounts in month 1 of the dataset since the first three success methods are dependent on the existing client base. We'll also filter out \"Extra\" deposits because company profits are tied to recurring deposits. "
   ]
  },
  {
   "cell_type": "code",
   "execution_count": 160,
   "metadata": {},
   "outputs": [
    {
     "name": "stdout",
     "output_type": "stream",
     "text": [
      "Existing Customers\n",
      "      client_id  deposit_amount  ... client_age deposit_week\n",
      "0  146046305811           247.0  ...         42   2019-06-01\n",
      "1  146046305811           247.0  ...         42   2019-06-14\n",
      "2  146046305811           247.0  ...         42   2019-07-01\n",
      "3  146046305811           247.0  ...         42   2019-07-14\n",
      "4  146046305811           247.0  ...         42   2019-07-21\n",
      "\n",
      "[5 rows x 11 columns]\n",
      "Total rows:  195343\n",
      "\n",
      "Completed Deposits by Existing Customers\n",
      "      client_id  deposit_amount  ... client_age deposit_week\n",
      "1  146046305811           247.0  ...         42   2019-06-14\n",
      "2  146046305811           247.0  ...         42   2019-07-01\n",
      "3  146046305811           247.0  ...         42   2019-07-14\n",
      "4  146046305811           247.0  ...         42   2019-07-21\n",
      "5  146046305811           247.0  ...         42   2019-08-07\n",
      "\n",
      "[5 rows x 11 columns]\n",
      "Total rows:  172774\n",
      "Existing Customers\n",
      "      client_id  deposit_amount  ... client_age deposit_week\n",
      "0  146046305811           247.0  ...         42   2019-06-01\n",
      "1  146046305811           247.0  ...         42   2019-06-14\n",
      "2  146046305811           247.0  ...         42   2019-07-01\n",
      "3  146046305811           247.0  ...         42   2019-07-14\n",
      "4  146046305811           247.0  ...         42   2019-07-21\n",
      "\n",
      "[5 rows x 11 columns]\n",
      "Total rows:  195343\n",
      "\n",
      "Completed Deposits by Existing Customers\n",
      "      client_id  deposit_amount  ... client_age deposit_week\n",
      "1  146046305811           247.0  ...         42   2019-06-14\n",
      "2  146046305811           247.0  ...         42   2019-07-01\n",
      "3  146046305811           247.0  ...         42   2019-07-14\n",
      "4  146046305811           247.0  ...         42   2019-07-21\n",
      "5  146046305811           247.0  ...         42   2019-08-07\n",
      "\n",
      "[5 rows x 11 columns]\n",
      "Total rows:  172774\n"
     ]
    }
   ],
   "source": [
    "# get details specific to month 3 for visualizations\n",
    "month3 = df[df['month'] == 3]\n",
    "month3_start = month3['deposit_date'].min()\n",
    "month3_end = month3['deposit_date'].max()\n",
    "\n",
    "# get a list of clients who had accounts in month 1\n",
    "month_1_clients = df[df['month'] == 1]\n",
    "month_1_clients = month_1_clients.client_id.unique()\n",
    "\n",
    "# df only containing clients from month 1\n",
    "df2 = df[df['client_id'].isin(month_1_clients)]\n",
    "\n",
    "# focus only on biweekly and monthly deposits\n",
    "df2 = df2[df2['deposit_cadence'].isin(['Biweekly', 'Monthly'])]\n",
    "\n",
    "# setup dataframe specific to completed deposits\n",
    "df3 = df2[df2['actual_deposit'] == True]\n",
    "\n",
    "# return results\n",
    "print('Existing Customers')\n",
    "print(df2.head())\n",
    "print('Total rows: ',df2.shape[0])\n",
    "print('')\n",
    "print('Completed Deposits by Existing Customers')\n",
    "print(df3.head())\n",
    "print('Total rows: ',df3.shape[0])\n"
   ]
  },
  {
   "cell_type": "markdown",
   "metadata": {},
   "source": [
    "#### Decrease in incomplete scheduled deposits\n",
    "\n",
    "    - How to measure: Time-based comparison of incomeplete vs. complete scheduled deposits for clients who had accounts prior to the campaign.  "
   ]
  },
  {
   "cell_type": "code",
   "execution_count": 161,
   "metadata": {},
   "outputs": [
    {
     "data": {
      "text/html": [
       "<div>\n",
       "<style scoped>\n",
       "    .dataframe tbody tr th:only-of-type {\n",
       "        vertical-align: middle;\n",
       "    }\n",
       "\n",
       "    .dataframe tbody tr th {\n",
       "        vertical-align: top;\n",
       "    }\n",
       "\n",
       "    .dataframe thead th {\n",
       "        text-align: right;\n",
       "    }\n",
       "</style>\n",
       "<table border=\"1\" class=\"dataframe\">\n",
       "  <thead>\n",
       "    <tr style=\"text-align: right;\">\n",
       "      <th></th>\n",
       "      <th>deposit_week</th>\n",
       "      <th>actual_deposit</th>\n",
       "      <th>deposit_cadence</th>\n",
       "      <th>size</th>\n",
       "    </tr>\n",
       "  </thead>\n",
       "  <tbody>\n",
       "    <tr>\n",
       "      <th>0</th>\n",
       "      <td>2019-06-01</td>\n",
       "      <td>False</td>\n",
       "      <td>Biweekly</td>\n",
       "      <td>513</td>\n",
       "    </tr>\n",
       "    <tr>\n",
       "      <th>1</th>\n",
       "      <td>2019-06-01</td>\n",
       "      <td>False</td>\n",
       "      <td>Monthly</td>\n",
       "      <td>676</td>\n",
       "    </tr>\n",
       "    <tr>\n",
       "      <th>2</th>\n",
       "      <td>2019-06-01</td>\n",
       "      <td>True</td>\n",
       "      <td>Biweekly</td>\n",
       "      <td>3694</td>\n",
       "    </tr>\n",
       "    <tr>\n",
       "      <th>3</th>\n",
       "      <td>2019-06-01</td>\n",
       "      <td>True</td>\n",
       "      <td>Monthly</td>\n",
       "      <td>5801</td>\n",
       "    </tr>\n",
       "    <tr>\n",
       "      <th>4</th>\n",
       "      <td>2019-06-07</td>\n",
       "      <td>False</td>\n",
       "      <td>Biweekly</td>\n",
       "      <td>522</td>\n",
       "    </tr>\n",
       "  </tbody>\n",
       "</table>\n",
       "</div>"
      ],
      "text/plain": [
       "  deposit_week  actual_deposit deposit_cadence  size\n",
       "0   2019-06-01           False        Biweekly   513\n",
       "1   2019-06-01           False         Monthly   676\n",
       "2   2019-06-01            True        Biweekly  3694\n",
       "3   2019-06-01            True         Monthly  5801\n",
       "4   2019-06-07           False        Biweekly   522"
      ]
     },
     "execution_count": null,
     "metadata": {},
     "output_type": "execute_result"
    }
   ],
   "source": [
    "# establish df for incomplete and complete transactions, divided by cadence\n",
    "status = df2[['deposit_week', 'actual_deposit', 'deposit_cadence']]\n",
    "status = status.groupby(['deposit_week', 'actual_deposit', 'deposit_cadence'], \n",
    "    as_index=False, observed=True).size()\n",
    "\n",
    "status.head()"
   ]
  },
  {
   "cell_type": "code",
   "execution_count": 162,
   "metadata": {},
   "outputs": [
    {
     "data": {
      "application/vnd.plotly.v1+json": {
       "config": {
        "plotlyServerURL": "https://plot.ly"
       },
       "data": [
        {
         "hovertemplate": "actual_deposit=False<br>deposit_cadence=Biweekly<br>deposit_week=%{x}<br>size=%{y}<extra></extra>",
         "legendgroup": "False",
         "line": {
          "color": "#636efa",
          "dash": "solid"
         },
         "marker": {
          "symbol": "circle"
         },
         "mode": "lines",
         "name": "False",
         "orientation": "v",
         "showlegend": true,
         "type": "scatter",
         "x": [
          "2019-06-01T00:00:00",
          "2019-06-07T00:00:00",
          "2019-06-14T00:00:00",
          "2019-06-21T00:00:00",
          "2019-07-01T00:00:00",
          "2019-07-07T00:00:00",
          "2019-07-14T00:00:00",
          "2019-07-21T00:00:00",
          "2019-08-01T00:00:00",
          "2019-08-07T00:00:00",
          "2019-08-14T00:00:00",
          "2019-08-21T00:00:00",
          "2019-09-01T00:00:00",
          "2019-09-07T00:00:00",
          "2019-09-14T00:00:00",
          "2019-09-21T00:00:00",
          "2019-10-01T00:00:00",
          "2019-10-07T00:00:00",
          "2019-10-14T00:00:00",
          "2019-10-21T00:00:00"
         ],
         "xaxis": "x2",
         "y": [
          513,
          522,
          516,
          607,
          484,
          514,
          455,
          598,
          490,
          414,
          558,
          664,
          442,
          383,
          456,
          446,
          421,
          377,
          436,
          504
         ],
         "yaxis": "y2"
        },
        {
         "hovertemplate": "actual_deposit=False<br>deposit_cadence=Monthly<br>deposit_week=%{x}<br>size=%{y}<extra></extra>",
         "legendgroup": "False",
         "line": {
          "color": "#636efa",
          "dash": "solid"
         },
         "marker": {
          "symbol": "circle"
         },
         "mode": "lines",
         "name": "False",
         "orientation": "v",
         "showlegend": false,
         "type": "scatter",
         "x": [
          "2019-06-01T00:00:00",
          "2019-06-07T00:00:00",
          "2019-06-14T00:00:00",
          "2019-06-21T00:00:00",
          "2019-07-01T00:00:00",
          "2019-07-07T00:00:00",
          "2019-07-14T00:00:00",
          "2019-07-21T00:00:00",
          "2019-08-01T00:00:00",
          "2019-08-07T00:00:00",
          "2019-08-14T00:00:00",
          "2019-08-21T00:00:00",
          "2019-09-01T00:00:00",
          "2019-09-07T00:00:00",
          "2019-09-14T00:00:00",
          "2019-09-21T00:00:00",
          "2019-10-01T00:00:00",
          "2019-10-07T00:00:00",
          "2019-10-14T00:00:00",
          "2019-10-21T00:00:00"
         ],
         "xaxis": "x",
         "y": [
          676,
          395,
          797,
          783,
          639,
          384,
          798,
          733,
          610,
          365,
          827,
          881,
          585,
          331,
          721,
          715,
          573,
          347,
          693,
          916
         ],
         "yaxis": "y"
        },
        {
         "hovertemplate": "actual_deposit=True<br>deposit_cadence=Biweekly<br>deposit_week=%{x}<br>size=%{y}<extra></extra>",
         "legendgroup": "True",
         "line": {
          "color": "#EF553B",
          "dash": "solid"
         },
         "marker": {
          "symbol": "circle"
         },
         "mode": "lines",
         "name": "True",
         "orientation": "v",
         "showlegend": true,
         "type": "scatter",
         "x": [
          "2019-06-01T00:00:00",
          "2019-06-07T00:00:00",
          "2019-06-14T00:00:00",
          "2019-06-21T00:00:00",
          "2019-07-01T00:00:00",
          "2019-07-07T00:00:00",
          "2019-07-14T00:00:00",
          "2019-07-21T00:00:00",
          "2019-08-01T00:00:00",
          "2019-08-07T00:00:00",
          "2019-08-14T00:00:00",
          "2019-08-21T00:00:00",
          "2019-09-01T00:00:00",
          "2019-09-07T00:00:00",
          "2019-09-14T00:00:00",
          "2019-09-21T00:00:00",
          "2019-10-01T00:00:00",
          "2019-10-07T00:00:00",
          "2019-10-14T00:00:00",
          "2019-10-21T00:00:00"
         ],
         "xaxis": "x2",
         "y": [
          3694,
          4063,
          3819,
          4426,
          3688,
          4069,
          3634,
          4554,
          4063,
          3659,
          3847,
          3682,
          3779,
          3344,
          3736,
          3546,
          3863,
          3459,
          3825,
          3954
         ],
         "yaxis": "y2"
        },
        {
         "hovertemplate": "actual_deposit=True<br>deposit_cadence=Monthly<br>deposit_week=%{x}<br>size=%{y}<extra></extra>",
         "legendgroup": "True",
         "line": {
          "color": "#EF553B",
          "dash": "solid"
         },
         "marker": {
          "symbol": "circle"
         },
         "mode": "lines",
         "name": "True",
         "orientation": "v",
         "showlegend": false,
         "type": "scatter",
         "x": [
          "2019-06-01T00:00:00",
          "2019-06-07T00:00:00",
          "2019-06-14T00:00:00",
          "2019-06-21T00:00:00",
          "2019-07-01T00:00:00",
          "2019-07-07T00:00:00",
          "2019-07-14T00:00:00",
          "2019-07-21T00:00:00",
          "2019-08-01T00:00:00",
          "2019-08-07T00:00:00",
          "2019-08-14T00:00:00",
          "2019-08-21T00:00:00",
          "2019-09-01T00:00:00",
          "2019-09-07T00:00:00",
          "2019-09-14T00:00:00",
          "2019-09-21T00:00:00",
          "2019-10-01T00:00:00",
          "2019-10-07T00:00:00",
          "2019-10-14T00:00:00",
          "2019-10-21T00:00:00"
         ],
         "xaxis": "x",
         "y": [
          5801,
          2987,
          6227,
          5341,
          5610,
          2854,
          6023,
          5163,
          5659,
          2841,
          6052,
          5158,
          5127,
          2632,
          5527,
          4649,
          5249,
          2714,
          5702,
          4754
         ],
         "yaxis": "y"
        }
       ],
       "layout": {
        "annotations": [
         {
          "showarrow": false,
          "text": "deposit_cadence=Monthly",
          "textangle": 90,
          "x": 0.98,
          "xanchor": "left",
          "xref": "paper",
          "y": 0.2425,
          "yanchor": "middle",
          "yref": "paper"
         },
         {
          "showarrow": false,
          "text": "deposit_cadence=Biweekly",
          "textangle": 90,
          "x": 0.98,
          "xanchor": "left",
          "xref": "paper",
          "y": 0.7575000000000001,
          "yanchor": "middle",
          "yref": "paper"
         }
        ],
        "legend": {
         "title": {
          "text": "actual_deposit"
         },
         "tracegroupgap": 0
        },
        "margin": {
         "t": 60
        },
        "shapes": [
         {
          "fillcolor": "red",
          "line": {
           "width": 0
          },
          "opacity": 0.2,
          "type": "rect",
          "x0": "2019-08-01T00:00:00",
          "x1": "2019-08-31T00:00:00",
          "xref": "x",
          "y0": 0,
          "y1": 1,
          "yref": "y domain"
         },
         {
          "fillcolor": "red",
          "line": {
           "width": 0
          },
          "opacity": 0.2,
          "type": "rect",
          "x0": "2019-08-01T00:00:00",
          "x1": "2019-08-31T00:00:00",
          "xref": "x2",
          "y0": 0,
          "y1": 1,
          "yref": "y2 domain"
         }
        ],
        "template": {
         "data": {
          "bar": [
           {
            "error_x": {
             "color": "#2a3f5f"
            },
            "error_y": {
             "color": "#2a3f5f"
            },
            "marker": {
             "line": {
              "color": "#E5ECF6",
              "width": 0.5
             },
             "pattern": {
              "fillmode": "overlay",
              "size": 10,
              "solidity": 0.2
             }
            },
            "type": "bar"
           }
          ],
          "barpolar": [
           {
            "marker": {
             "line": {
              "color": "#E5ECF6",
              "width": 0.5
             },
             "pattern": {
              "fillmode": "overlay",
              "size": 10,
              "solidity": 0.2
             }
            },
            "type": "barpolar"
           }
          ],
          "carpet": [
           {
            "aaxis": {
             "endlinecolor": "#2a3f5f",
             "gridcolor": "white",
             "linecolor": "white",
             "minorgridcolor": "white",
             "startlinecolor": "#2a3f5f"
            },
            "baxis": {
             "endlinecolor": "#2a3f5f",
             "gridcolor": "white",
             "linecolor": "white",
             "minorgridcolor": "white",
             "startlinecolor": "#2a3f5f"
            },
            "type": "carpet"
           }
          ],
          "choropleth": [
           {
            "colorbar": {
             "outlinewidth": 0,
             "ticks": ""
            },
            "type": "choropleth"
           }
          ],
          "contour": [
           {
            "colorbar": {
             "outlinewidth": 0,
             "ticks": ""
            },
            "colorscale": [
             [
              0,
              "#0d0887"
             ],
             [
              0.1111111111111111,
              "#46039f"
             ],
             [
              0.2222222222222222,
              "#7201a8"
             ],
             [
              0.3333333333333333,
              "#9c179e"
             ],
             [
              0.4444444444444444,
              "#bd3786"
             ],
             [
              0.5555555555555556,
              "#d8576b"
             ],
             [
              0.6666666666666666,
              "#ed7953"
             ],
             [
              0.7777777777777778,
              "#fb9f3a"
             ],
             [
              0.8888888888888888,
              "#fdca26"
             ],
             [
              1,
              "#f0f921"
             ]
            ],
            "type": "contour"
           }
          ],
          "contourcarpet": [
           {
            "colorbar": {
             "outlinewidth": 0,
             "ticks": ""
            },
            "type": "contourcarpet"
           }
          ],
          "heatmap": [
           {
            "colorbar": {
             "outlinewidth": 0,
             "ticks": ""
            },
            "colorscale": [
             [
              0,
              "#0d0887"
             ],
             [
              0.1111111111111111,
              "#46039f"
             ],
             [
              0.2222222222222222,
              "#7201a8"
             ],
             [
              0.3333333333333333,
              "#9c179e"
             ],
             [
              0.4444444444444444,
              "#bd3786"
             ],
             [
              0.5555555555555556,
              "#d8576b"
             ],
             [
              0.6666666666666666,
              "#ed7953"
             ],
             [
              0.7777777777777778,
              "#fb9f3a"
             ],
             [
              0.8888888888888888,
              "#fdca26"
             ],
             [
              1,
              "#f0f921"
             ]
            ],
            "type": "heatmap"
           }
          ],
          "heatmapgl": [
           {
            "colorbar": {
             "outlinewidth": 0,
             "ticks": ""
            },
            "colorscale": [
             [
              0,
              "#0d0887"
             ],
             [
              0.1111111111111111,
              "#46039f"
             ],
             [
              0.2222222222222222,
              "#7201a8"
             ],
             [
              0.3333333333333333,
              "#9c179e"
             ],
             [
              0.4444444444444444,
              "#bd3786"
             ],
             [
              0.5555555555555556,
              "#d8576b"
             ],
             [
              0.6666666666666666,
              "#ed7953"
             ],
             [
              0.7777777777777778,
              "#fb9f3a"
             ],
             [
              0.8888888888888888,
              "#fdca26"
             ],
             [
              1,
              "#f0f921"
             ]
            ],
            "type": "heatmapgl"
           }
          ],
          "histogram": [
           {
            "marker": {
             "pattern": {
              "fillmode": "overlay",
              "size": 10,
              "solidity": 0.2
             }
            },
            "type": "histogram"
           }
          ],
          "histogram2d": [
           {
            "colorbar": {
             "outlinewidth": 0,
             "ticks": ""
            },
            "colorscale": [
             [
              0,
              "#0d0887"
             ],
             [
              0.1111111111111111,
              "#46039f"
             ],
             [
              0.2222222222222222,
              "#7201a8"
             ],
             [
              0.3333333333333333,
              "#9c179e"
             ],
             [
              0.4444444444444444,
              "#bd3786"
             ],
             [
              0.5555555555555556,
              "#d8576b"
             ],
             [
              0.6666666666666666,
              "#ed7953"
             ],
             [
              0.7777777777777778,
              "#fb9f3a"
             ],
             [
              0.8888888888888888,
              "#fdca26"
             ],
             [
              1,
              "#f0f921"
             ]
            ],
            "type": "histogram2d"
           }
          ],
          "histogram2dcontour": [
           {
            "colorbar": {
             "outlinewidth": 0,
             "ticks": ""
            },
            "colorscale": [
             [
              0,
              "#0d0887"
             ],
             [
              0.1111111111111111,
              "#46039f"
             ],
             [
              0.2222222222222222,
              "#7201a8"
             ],
             [
              0.3333333333333333,
              "#9c179e"
             ],
             [
              0.4444444444444444,
              "#bd3786"
             ],
             [
              0.5555555555555556,
              "#d8576b"
             ],
             [
              0.6666666666666666,
              "#ed7953"
             ],
             [
              0.7777777777777778,
              "#fb9f3a"
             ],
             [
              0.8888888888888888,
              "#fdca26"
             ],
             [
              1,
              "#f0f921"
             ]
            ],
            "type": "histogram2dcontour"
           }
          ],
          "mesh3d": [
           {
            "colorbar": {
             "outlinewidth": 0,
             "ticks": ""
            },
            "type": "mesh3d"
           }
          ],
          "parcoords": [
           {
            "line": {
             "colorbar": {
              "outlinewidth": 0,
              "ticks": ""
             }
            },
            "type": "parcoords"
           }
          ],
          "pie": [
           {
            "automargin": true,
            "type": "pie"
           }
          ],
          "scatter": [
           {
            "fillpattern": {
             "fillmode": "overlay",
             "size": 10,
             "solidity": 0.2
            },
            "type": "scatter"
           }
          ],
          "scatter3d": [
           {
            "line": {
             "colorbar": {
              "outlinewidth": 0,
              "ticks": ""
             }
            },
            "marker": {
             "colorbar": {
              "outlinewidth": 0,
              "ticks": ""
             }
            },
            "type": "scatter3d"
           }
          ],
          "scattercarpet": [
           {
            "marker": {
             "colorbar": {
              "outlinewidth": 0,
              "ticks": ""
             }
            },
            "type": "scattercarpet"
           }
          ],
          "scattergeo": [
           {
            "marker": {
             "colorbar": {
              "outlinewidth": 0,
              "ticks": ""
             }
            },
            "type": "scattergeo"
           }
          ],
          "scattergl": [
           {
            "marker": {
             "colorbar": {
              "outlinewidth": 0,
              "ticks": ""
             }
            },
            "type": "scattergl"
           }
          ],
          "scattermapbox": [
           {
            "marker": {
             "colorbar": {
              "outlinewidth": 0,
              "ticks": ""
             }
            },
            "type": "scattermapbox"
           }
          ],
          "scatterpolar": [
           {
            "marker": {
             "colorbar": {
              "outlinewidth": 0,
              "ticks": ""
             }
            },
            "type": "scatterpolar"
           }
          ],
          "scatterpolargl": [
           {
            "marker": {
             "colorbar": {
              "outlinewidth": 0,
              "ticks": ""
             }
            },
            "type": "scatterpolargl"
           }
          ],
          "scatterternary": [
           {
            "marker": {
             "colorbar": {
              "outlinewidth": 0,
              "ticks": ""
             }
            },
            "type": "scatterternary"
           }
          ],
          "surface": [
           {
            "colorbar": {
             "outlinewidth": 0,
             "ticks": ""
            },
            "colorscale": [
             [
              0,
              "#0d0887"
             ],
             [
              0.1111111111111111,
              "#46039f"
             ],
             [
              0.2222222222222222,
              "#7201a8"
             ],
             [
              0.3333333333333333,
              "#9c179e"
             ],
             [
              0.4444444444444444,
              "#bd3786"
             ],
             [
              0.5555555555555556,
              "#d8576b"
             ],
             [
              0.6666666666666666,
              "#ed7953"
             ],
             [
              0.7777777777777778,
              "#fb9f3a"
             ],
             [
              0.8888888888888888,
              "#fdca26"
             ],
             [
              1,
              "#f0f921"
             ]
            ],
            "type": "surface"
           }
          ],
          "table": [
           {
            "cells": {
             "fill": {
              "color": "#EBF0F8"
             },
             "line": {
              "color": "white"
             }
            },
            "header": {
             "fill": {
              "color": "#C8D4E3"
             },
             "line": {
              "color": "white"
             }
            },
            "type": "table"
           }
          ]
         },
         "layout": {
          "annotationdefaults": {
           "arrowcolor": "#2a3f5f",
           "arrowhead": 0,
           "arrowwidth": 1
          },
          "autotypenumbers": "strict",
          "coloraxis": {
           "colorbar": {
            "outlinewidth": 0,
            "ticks": ""
           }
          },
          "colorscale": {
           "diverging": [
            [
             0,
             "#8e0152"
            ],
            [
             0.1,
             "#c51b7d"
            ],
            [
             0.2,
             "#de77ae"
            ],
            [
             0.3,
             "#f1b6da"
            ],
            [
             0.4,
             "#fde0ef"
            ],
            [
             0.5,
             "#f7f7f7"
            ],
            [
             0.6,
             "#e6f5d0"
            ],
            [
             0.7,
             "#b8e186"
            ],
            [
             0.8,
             "#7fbc41"
            ],
            [
             0.9,
             "#4d9221"
            ],
            [
             1,
             "#276419"
            ]
           ],
           "sequential": [
            [
             0,
             "#0d0887"
            ],
            [
             0.1111111111111111,
             "#46039f"
            ],
            [
             0.2222222222222222,
             "#7201a8"
            ],
            [
             0.3333333333333333,
             "#9c179e"
            ],
            [
             0.4444444444444444,
             "#bd3786"
            ],
            [
             0.5555555555555556,
             "#d8576b"
            ],
            [
             0.6666666666666666,
             "#ed7953"
            ],
            [
             0.7777777777777778,
             "#fb9f3a"
            ],
            [
             0.8888888888888888,
             "#fdca26"
            ],
            [
             1,
             "#f0f921"
            ]
           ],
           "sequentialminus": [
            [
             0,
             "#0d0887"
            ],
            [
             0.1111111111111111,
             "#46039f"
            ],
            [
             0.2222222222222222,
             "#7201a8"
            ],
            [
             0.3333333333333333,
             "#9c179e"
            ],
            [
             0.4444444444444444,
             "#bd3786"
            ],
            [
             0.5555555555555556,
             "#d8576b"
            ],
            [
             0.6666666666666666,
             "#ed7953"
            ],
            [
             0.7777777777777778,
             "#fb9f3a"
            ],
            [
             0.8888888888888888,
             "#fdca26"
            ],
            [
             1,
             "#f0f921"
            ]
           ]
          },
          "colorway": [
           "#636efa",
           "#EF553B",
           "#00cc96",
           "#ab63fa",
           "#FFA15A",
           "#19d3f3",
           "#FF6692",
           "#B6E880",
           "#FF97FF",
           "#FECB52"
          ],
          "font": {
           "color": "#2a3f5f"
          },
          "geo": {
           "bgcolor": "white",
           "lakecolor": "white",
           "landcolor": "#E5ECF6",
           "showlakes": true,
           "showland": true,
           "subunitcolor": "white"
          },
          "hoverlabel": {
           "align": "left"
          },
          "hovermode": "closest",
          "mapbox": {
           "style": "light"
          },
          "paper_bgcolor": "white",
          "plot_bgcolor": "#E5ECF6",
          "polar": {
           "angularaxis": {
            "gridcolor": "white",
            "linecolor": "white",
            "ticks": ""
           },
           "bgcolor": "#E5ECF6",
           "radialaxis": {
            "gridcolor": "white",
            "linecolor": "white",
            "ticks": ""
           }
          },
          "scene": {
           "xaxis": {
            "backgroundcolor": "#E5ECF6",
            "gridcolor": "white",
            "gridwidth": 2,
            "linecolor": "white",
            "showbackground": true,
            "ticks": "",
            "zerolinecolor": "white"
           },
           "yaxis": {
            "backgroundcolor": "#E5ECF6",
            "gridcolor": "white",
            "gridwidth": 2,
            "linecolor": "white",
            "showbackground": true,
            "ticks": "",
            "zerolinecolor": "white"
           },
           "zaxis": {
            "backgroundcolor": "#E5ECF6",
            "gridcolor": "white",
            "gridwidth": 2,
            "linecolor": "white",
            "showbackground": true,
            "ticks": "",
            "zerolinecolor": "white"
           }
          },
          "shapedefaults": {
           "line": {
            "color": "#2a3f5f"
           }
          },
          "ternary": {
           "aaxis": {
            "gridcolor": "white",
            "linecolor": "white",
            "ticks": ""
           },
           "baxis": {
            "gridcolor": "white",
            "linecolor": "white",
            "ticks": ""
           },
           "bgcolor": "#E5ECF6",
           "caxis": {
            "gridcolor": "white",
            "linecolor": "white",
            "ticks": ""
           }
          },
          "title": {
           "x": 0.05
          },
          "xaxis": {
           "automargin": true,
           "gridcolor": "white",
           "linecolor": "white",
           "ticks": "",
           "title": {
            "standoff": 15
           },
           "zerolinecolor": "white",
           "zerolinewidth": 2
          },
          "yaxis": {
           "automargin": true,
           "gridcolor": "white",
           "linecolor": "white",
           "ticks": "",
           "title": {
            "standoff": 15
           },
           "zerolinecolor": "white",
           "zerolinewidth": 2
          }
         }
        },
        "xaxis": {
         "anchor": "y",
         "domain": [
          0,
          0.98
         ],
         "title": {
          "text": "deposit_week"
         }
        },
        "xaxis2": {
         "anchor": "y2",
         "domain": [
          0,
          0.98
         ],
         "matches": "x",
         "showticklabels": false
        },
        "yaxis": {
         "anchor": "x",
         "domain": [
          0,
          0.485
         ],
         "title": {
          "text": "size"
         }
        },
        "yaxis2": {
         "anchor": "x2",
         "domain": [
          0.515,
          1
         ],
         "matches": "y",
         "title": {
          "text": "size"
         }
        }
       }
      }
     },
     "metadata": {},
     "output_type": "display_data"
    }
   ],
   "source": [
    "fig = px.line(status, x='deposit_week', y='size', color='actual_deposit', facet_row='deposit_cadence')\n",
    "fig.add_vrect(x0=month3_start, x1=month3_end, line_width=0, fillcolor=\"red\", opacity=0.2)\n",
    "fig.show()"
   ]
  },
  {
   "cell_type": "markdown",
   "metadata": {},
   "source": [
    "#### Increase in deposit frequency\n",
    "\n",
    "    - How to measure: Time-based comparison of the number of different deposit frequencies for clients who had accounts prior to the campaign.  "
   ]
  },
  {
   "cell_type": "code",
   "execution_count": 164,
   "metadata": {},
   "outputs": [
    {
     "data": {
      "text/html": [
       "<div>\n",
       "<style scoped>\n",
       "    .dataframe tbody tr th:only-of-type {\n",
       "        vertical-align: middle;\n",
       "    }\n",
       "\n",
       "    .dataframe tbody tr th {\n",
       "        vertical-align: top;\n",
       "    }\n",
       "\n",
       "    .dataframe thead th {\n",
       "        text-align: right;\n",
       "    }\n",
       "</style>\n",
       "<table border=\"1\" class=\"dataframe\">\n",
       "  <thead>\n",
       "    <tr style=\"text-align: right;\">\n",
       "      <th></th>\n",
       "      <th>deposit_week</th>\n",
       "      <th>deposit_cadence</th>\n",
       "      <th>size</th>\n",
       "    </tr>\n",
       "  </thead>\n",
       "  <tbody>\n",
       "    <tr>\n",
       "      <th>0</th>\n",
       "      <td>2019-06-01</td>\n",
       "      <td>Biweekly</td>\n",
       "      <td>3694</td>\n",
       "    </tr>\n",
       "    <tr>\n",
       "      <th>1</th>\n",
       "      <td>2019-06-01</td>\n",
       "      <td>Monthly</td>\n",
       "      <td>5801</td>\n",
       "    </tr>\n",
       "    <tr>\n",
       "      <th>2</th>\n",
       "      <td>2019-06-07</td>\n",
       "      <td>Biweekly</td>\n",
       "      <td>4063</td>\n",
       "    </tr>\n",
       "    <tr>\n",
       "      <th>3</th>\n",
       "      <td>2019-06-07</td>\n",
       "      <td>Monthly</td>\n",
       "      <td>2987</td>\n",
       "    </tr>\n",
       "    <tr>\n",
       "      <th>4</th>\n",
       "      <td>2019-06-14</td>\n",
       "      <td>Biweekly</td>\n",
       "      <td>3819</td>\n",
       "    </tr>\n",
       "    <tr>\n",
       "      <th>5</th>\n",
       "      <td>2019-06-14</td>\n",
       "      <td>Monthly</td>\n",
       "      <td>6227</td>\n",
       "    </tr>\n",
       "    <tr>\n",
       "      <th>6</th>\n",
       "      <td>2019-06-21</td>\n",
       "      <td>Biweekly</td>\n",
       "      <td>4426</td>\n",
       "    </tr>\n",
       "    <tr>\n",
       "      <th>7</th>\n",
       "      <td>2019-06-21</td>\n",
       "      <td>Monthly</td>\n",
       "      <td>5341</td>\n",
       "    </tr>\n",
       "    <tr>\n",
       "      <th>8</th>\n",
       "      <td>2019-07-01</td>\n",
       "      <td>Biweekly</td>\n",
       "      <td>3688</td>\n",
       "    </tr>\n",
       "    <tr>\n",
       "      <th>9</th>\n",
       "      <td>2019-07-01</td>\n",
       "      <td>Monthly</td>\n",
       "      <td>5610</td>\n",
       "    </tr>\n",
       "    <tr>\n",
       "      <th>10</th>\n",
       "      <td>2019-07-07</td>\n",
       "      <td>Biweekly</td>\n",
       "      <td>4069</td>\n",
       "    </tr>\n",
       "    <tr>\n",
       "      <th>11</th>\n",
       "      <td>2019-07-07</td>\n",
       "      <td>Monthly</td>\n",
       "      <td>2854</td>\n",
       "    </tr>\n",
       "    <tr>\n",
       "      <th>12</th>\n",
       "      <td>2019-07-14</td>\n",
       "      <td>Biweekly</td>\n",
       "      <td>3634</td>\n",
       "    </tr>\n",
       "    <tr>\n",
       "      <th>13</th>\n",
       "      <td>2019-07-14</td>\n",
       "      <td>Monthly</td>\n",
       "      <td>6023</td>\n",
       "    </tr>\n",
       "    <tr>\n",
       "      <th>14</th>\n",
       "      <td>2019-07-21</td>\n",
       "      <td>Biweekly</td>\n",
       "      <td>4554</td>\n",
       "    </tr>\n",
       "    <tr>\n",
       "      <th>15</th>\n",
       "      <td>2019-07-21</td>\n",
       "      <td>Monthly</td>\n",
       "      <td>5163</td>\n",
       "    </tr>\n",
       "    <tr>\n",
       "      <th>16</th>\n",
       "      <td>2019-08-01</td>\n",
       "      <td>Biweekly</td>\n",
       "      <td>4063</td>\n",
       "    </tr>\n",
       "    <tr>\n",
       "      <th>17</th>\n",
       "      <td>2019-08-01</td>\n",
       "      <td>Monthly</td>\n",
       "      <td>5659</td>\n",
       "    </tr>\n",
       "    <tr>\n",
       "      <th>18</th>\n",
       "      <td>2019-08-07</td>\n",
       "      <td>Biweekly</td>\n",
       "      <td>3659</td>\n",
       "    </tr>\n",
       "    <tr>\n",
       "      <th>19</th>\n",
       "      <td>2019-08-07</td>\n",
       "      <td>Monthly</td>\n",
       "      <td>2841</td>\n",
       "    </tr>\n",
       "    <tr>\n",
       "      <th>20</th>\n",
       "      <td>2019-08-14</td>\n",
       "      <td>Biweekly</td>\n",
       "      <td>3847</td>\n",
       "    </tr>\n",
       "    <tr>\n",
       "      <th>21</th>\n",
       "      <td>2019-08-14</td>\n",
       "      <td>Monthly</td>\n",
       "      <td>6052</td>\n",
       "    </tr>\n",
       "    <tr>\n",
       "      <th>22</th>\n",
       "      <td>2019-08-21</td>\n",
       "      <td>Biweekly</td>\n",
       "      <td>3682</td>\n",
       "    </tr>\n",
       "    <tr>\n",
       "      <th>23</th>\n",
       "      <td>2019-08-21</td>\n",
       "      <td>Monthly</td>\n",
       "      <td>5158</td>\n",
       "    </tr>\n",
       "    <tr>\n",
       "      <th>24</th>\n",
       "      <td>2019-09-01</td>\n",
       "      <td>Biweekly</td>\n",
       "      <td>3779</td>\n",
       "    </tr>\n",
       "    <tr>\n",
       "      <th>25</th>\n",
       "      <td>2019-09-01</td>\n",
       "      <td>Monthly</td>\n",
       "      <td>5127</td>\n",
       "    </tr>\n",
       "    <tr>\n",
       "      <th>26</th>\n",
       "      <td>2019-09-07</td>\n",
       "      <td>Biweekly</td>\n",
       "      <td>3344</td>\n",
       "    </tr>\n",
       "    <tr>\n",
       "      <th>27</th>\n",
       "      <td>2019-09-07</td>\n",
       "      <td>Monthly</td>\n",
       "      <td>2632</td>\n",
       "    </tr>\n",
       "    <tr>\n",
       "      <th>28</th>\n",
       "      <td>2019-09-14</td>\n",
       "      <td>Biweekly</td>\n",
       "      <td>3736</td>\n",
       "    </tr>\n",
       "    <tr>\n",
       "      <th>29</th>\n",
       "      <td>2019-09-14</td>\n",
       "      <td>Monthly</td>\n",
       "      <td>5527</td>\n",
       "    </tr>\n",
       "    <tr>\n",
       "      <th>30</th>\n",
       "      <td>2019-09-21</td>\n",
       "      <td>Biweekly</td>\n",
       "      <td>3546</td>\n",
       "    </tr>\n",
       "    <tr>\n",
       "      <th>31</th>\n",
       "      <td>2019-09-21</td>\n",
       "      <td>Monthly</td>\n",
       "      <td>4649</td>\n",
       "    </tr>\n",
       "    <tr>\n",
       "      <th>32</th>\n",
       "      <td>2019-10-01</td>\n",
       "      <td>Biweekly</td>\n",
       "      <td>3863</td>\n",
       "    </tr>\n",
       "    <tr>\n",
       "      <th>33</th>\n",
       "      <td>2019-10-01</td>\n",
       "      <td>Monthly</td>\n",
       "      <td>5249</td>\n",
       "    </tr>\n",
       "    <tr>\n",
       "      <th>34</th>\n",
       "      <td>2019-10-07</td>\n",
       "      <td>Biweekly</td>\n",
       "      <td>3459</td>\n",
       "    </tr>\n",
       "    <tr>\n",
       "      <th>35</th>\n",
       "      <td>2019-10-07</td>\n",
       "      <td>Monthly</td>\n",
       "      <td>2714</td>\n",
       "    </tr>\n",
       "    <tr>\n",
       "      <th>36</th>\n",
       "      <td>2019-10-14</td>\n",
       "      <td>Biweekly</td>\n",
       "      <td>3825</td>\n",
       "    </tr>\n",
       "    <tr>\n",
       "      <th>37</th>\n",
       "      <td>2019-10-14</td>\n",
       "      <td>Monthly</td>\n",
       "      <td>5702</td>\n",
       "    </tr>\n",
       "    <tr>\n",
       "      <th>38</th>\n",
       "      <td>2019-10-21</td>\n",
       "      <td>Biweekly</td>\n",
       "      <td>3954</td>\n",
       "    </tr>\n",
       "    <tr>\n",
       "      <th>39</th>\n",
       "      <td>2019-10-21</td>\n",
       "      <td>Monthly</td>\n",
       "      <td>4754</td>\n",
       "    </tr>\n",
       "  </tbody>\n",
       "</table>\n",
       "</div>"
      ],
      "text/plain": [
       "   deposit_week deposit_cadence  size\n",
       "0    2019-06-01        Biweekly  3694\n",
       "1    2019-06-01         Monthly  5801\n",
       "2    2019-06-07        Biweekly  4063\n",
       "3    2019-06-07         Monthly  2987\n",
       "4    2019-06-14        Biweekly  3819\n",
       "5    2019-06-14         Monthly  6227\n",
       "6    2019-06-21        Biweekly  4426\n",
       "7    2019-06-21         Monthly  5341\n",
       "8    2019-07-01        Biweekly  3688\n",
       "9    2019-07-01         Monthly  5610\n",
       "10   2019-07-07        Biweekly  4069\n",
       "11   2019-07-07         Monthly  2854\n",
       "12   2019-07-14        Biweekly  3634\n",
       "13   2019-07-14         Monthly  6023\n",
       "14   2019-07-21        Biweekly  4554\n",
       "15   2019-07-21         Monthly  5163\n",
       "16   2019-08-01        Biweekly  4063\n",
       "17   2019-08-01         Monthly  5659\n",
       "18   2019-08-07        Biweekly  3659\n",
       "19   2019-08-07         Monthly  2841\n",
       "20   2019-08-14        Biweekly  3847\n",
       "21   2019-08-14         Monthly  6052\n",
       "22   2019-08-21        Biweekly  3682\n",
       "23   2019-08-21         Monthly  5158\n",
       "24   2019-09-01        Biweekly  3779\n",
       "25   2019-09-01         Monthly  5127\n",
       "26   2019-09-07        Biweekly  3344\n",
       "27   2019-09-07         Monthly  2632\n",
       "28   2019-09-14        Biweekly  3736\n",
       "29   2019-09-14         Monthly  5527\n",
       "30   2019-09-21        Biweekly  3546\n",
       "31   2019-09-21         Monthly  4649\n",
       "32   2019-10-01        Biweekly  3863\n",
       "33   2019-10-01         Monthly  5249\n",
       "34   2019-10-07        Biweekly  3459\n",
       "35   2019-10-07         Monthly  2714\n",
       "36   2019-10-14        Biweekly  3825\n",
       "37   2019-10-14         Monthly  5702\n",
       "38   2019-10-21        Biweekly  3954\n",
       "39   2019-10-21         Monthly  4754"
      ]
     },
     "execution_count": null,
     "metadata": {},
     "output_type": "execute_result"
    }
   ],
   "source": [
    "# establish df for different cadences\n",
    "cadence = df3[['deposit_week', 'deposit_cadence']]\n",
    "cadence = cadence.groupby(['deposit_week', 'deposit_cadence'], \n",
    "    as_index=False, observed=True).size()\n",
    "cadence"
   ]
  },
  {
   "cell_type": "code",
   "execution_count": 165,
   "metadata": {},
   "outputs": [
    {
     "data": {
      "application/vnd.plotly.v1+json": {
       "config": {
        "plotlyServerURL": "https://plot.ly"
       },
       "data": [
        {
         "alignmentgroup": "True",
         "hovertemplate": "deposit_cadence=Biweekly<br>deposit_week=%{x}<br>size=%{y}<extra></extra>",
         "legendgroup": "Biweekly",
         "marker": {
          "color": "#636efa",
          "pattern": {
           "shape": ""
          }
         },
         "name": "Biweekly",
         "offsetgroup": "Biweekly",
         "orientation": "v",
         "showlegend": true,
         "textposition": "auto",
         "type": "bar",
         "x": [
          "2019-06-01T00:00:00",
          "2019-06-07T00:00:00",
          "2019-06-14T00:00:00",
          "2019-06-21T00:00:00",
          "2019-07-01T00:00:00",
          "2019-07-07T00:00:00",
          "2019-07-14T00:00:00",
          "2019-07-21T00:00:00",
          "2019-08-01T00:00:00",
          "2019-08-07T00:00:00",
          "2019-08-14T00:00:00",
          "2019-08-21T00:00:00",
          "2019-09-01T00:00:00",
          "2019-09-07T00:00:00",
          "2019-09-14T00:00:00",
          "2019-09-21T00:00:00",
          "2019-10-01T00:00:00",
          "2019-10-07T00:00:00",
          "2019-10-14T00:00:00",
          "2019-10-21T00:00:00"
         ],
         "xaxis": "x",
         "y": [
          3694,
          4063,
          3819,
          4426,
          3688,
          4069,
          3634,
          4554,
          4063,
          3659,
          3847,
          3682,
          3779,
          3344,
          3736,
          3546,
          3863,
          3459,
          3825,
          3954
         ],
         "yaxis": "y"
        },
        {
         "alignmentgroup": "True",
         "hovertemplate": "deposit_cadence=Monthly<br>deposit_week=%{x}<br>size=%{y}<extra></extra>",
         "legendgroup": "Monthly",
         "marker": {
          "color": "#EF553B",
          "pattern": {
           "shape": ""
          }
         },
         "name": "Monthly",
         "offsetgroup": "Monthly",
         "orientation": "v",
         "showlegend": true,
         "textposition": "auto",
         "type": "bar",
         "x": [
          "2019-06-01T00:00:00",
          "2019-06-07T00:00:00",
          "2019-06-14T00:00:00",
          "2019-06-21T00:00:00",
          "2019-07-01T00:00:00",
          "2019-07-07T00:00:00",
          "2019-07-14T00:00:00",
          "2019-07-21T00:00:00",
          "2019-08-01T00:00:00",
          "2019-08-07T00:00:00",
          "2019-08-14T00:00:00",
          "2019-08-21T00:00:00",
          "2019-09-01T00:00:00",
          "2019-09-07T00:00:00",
          "2019-09-14T00:00:00",
          "2019-09-21T00:00:00",
          "2019-10-01T00:00:00",
          "2019-10-07T00:00:00",
          "2019-10-14T00:00:00",
          "2019-10-21T00:00:00"
         ],
         "xaxis": "x",
         "y": [
          5801,
          2987,
          6227,
          5341,
          5610,
          2854,
          6023,
          5163,
          5659,
          2841,
          6052,
          5158,
          5127,
          2632,
          5527,
          4649,
          5249,
          2714,
          5702,
          4754
         ],
         "yaxis": "y"
        }
       ],
       "layout": {
        "barmode": "relative",
        "legend": {
         "title": {
          "text": "deposit_cadence"
         },
         "tracegroupgap": 0
        },
        "margin": {
         "t": 60
        },
        "shapes": [
         {
          "fillcolor": "red",
          "line": {
           "width": 0
          },
          "opacity": 0.2,
          "type": "rect",
          "x0": "2019-08-01T00:00:00",
          "x1": "2019-08-31T00:00:00",
          "xref": "x",
          "y0": 0,
          "y1": 1,
          "yref": "y domain"
         }
        ],
        "template": {
         "data": {
          "bar": [
           {
            "error_x": {
             "color": "#2a3f5f"
            },
            "error_y": {
             "color": "#2a3f5f"
            },
            "marker": {
             "line": {
              "color": "#E5ECF6",
              "width": 0.5
             },
             "pattern": {
              "fillmode": "overlay",
              "size": 10,
              "solidity": 0.2
             }
            },
            "type": "bar"
           }
          ],
          "barpolar": [
           {
            "marker": {
             "line": {
              "color": "#E5ECF6",
              "width": 0.5
             },
             "pattern": {
              "fillmode": "overlay",
              "size": 10,
              "solidity": 0.2
             }
            },
            "type": "barpolar"
           }
          ],
          "carpet": [
           {
            "aaxis": {
             "endlinecolor": "#2a3f5f",
             "gridcolor": "white",
             "linecolor": "white",
             "minorgridcolor": "white",
             "startlinecolor": "#2a3f5f"
            },
            "baxis": {
             "endlinecolor": "#2a3f5f",
             "gridcolor": "white",
             "linecolor": "white",
             "minorgridcolor": "white",
             "startlinecolor": "#2a3f5f"
            },
            "type": "carpet"
           }
          ],
          "choropleth": [
           {
            "colorbar": {
             "outlinewidth": 0,
             "ticks": ""
            },
            "type": "choropleth"
           }
          ],
          "contour": [
           {
            "colorbar": {
             "outlinewidth": 0,
             "ticks": ""
            },
            "colorscale": [
             [
              0,
              "#0d0887"
             ],
             [
              0.1111111111111111,
              "#46039f"
             ],
             [
              0.2222222222222222,
              "#7201a8"
             ],
             [
              0.3333333333333333,
              "#9c179e"
             ],
             [
              0.4444444444444444,
              "#bd3786"
             ],
             [
              0.5555555555555556,
              "#d8576b"
             ],
             [
              0.6666666666666666,
              "#ed7953"
             ],
             [
              0.7777777777777778,
              "#fb9f3a"
             ],
             [
              0.8888888888888888,
              "#fdca26"
             ],
             [
              1,
              "#f0f921"
             ]
            ],
            "type": "contour"
           }
          ],
          "contourcarpet": [
           {
            "colorbar": {
             "outlinewidth": 0,
             "ticks": ""
            },
            "type": "contourcarpet"
           }
          ],
          "heatmap": [
           {
            "colorbar": {
             "outlinewidth": 0,
             "ticks": ""
            },
            "colorscale": [
             [
              0,
              "#0d0887"
             ],
             [
              0.1111111111111111,
              "#46039f"
             ],
             [
              0.2222222222222222,
              "#7201a8"
             ],
             [
              0.3333333333333333,
              "#9c179e"
             ],
             [
              0.4444444444444444,
              "#bd3786"
             ],
             [
              0.5555555555555556,
              "#d8576b"
             ],
             [
              0.6666666666666666,
              "#ed7953"
             ],
             [
              0.7777777777777778,
              "#fb9f3a"
             ],
             [
              0.8888888888888888,
              "#fdca26"
             ],
             [
              1,
              "#f0f921"
             ]
            ],
            "type": "heatmap"
           }
          ],
          "heatmapgl": [
           {
            "colorbar": {
             "outlinewidth": 0,
             "ticks": ""
            },
            "colorscale": [
             [
              0,
              "#0d0887"
             ],
             [
              0.1111111111111111,
              "#46039f"
             ],
             [
              0.2222222222222222,
              "#7201a8"
             ],
             [
              0.3333333333333333,
              "#9c179e"
             ],
             [
              0.4444444444444444,
              "#bd3786"
             ],
             [
              0.5555555555555556,
              "#d8576b"
             ],
             [
              0.6666666666666666,
              "#ed7953"
             ],
             [
              0.7777777777777778,
              "#fb9f3a"
             ],
             [
              0.8888888888888888,
              "#fdca26"
             ],
             [
              1,
              "#f0f921"
             ]
            ],
            "type": "heatmapgl"
           }
          ],
          "histogram": [
           {
            "marker": {
             "pattern": {
              "fillmode": "overlay",
              "size": 10,
              "solidity": 0.2
             }
            },
            "type": "histogram"
           }
          ],
          "histogram2d": [
           {
            "colorbar": {
             "outlinewidth": 0,
             "ticks": ""
            },
            "colorscale": [
             [
              0,
              "#0d0887"
             ],
             [
              0.1111111111111111,
              "#46039f"
             ],
             [
              0.2222222222222222,
              "#7201a8"
             ],
             [
              0.3333333333333333,
              "#9c179e"
             ],
             [
              0.4444444444444444,
              "#bd3786"
             ],
             [
              0.5555555555555556,
              "#d8576b"
             ],
             [
              0.6666666666666666,
              "#ed7953"
             ],
             [
              0.7777777777777778,
              "#fb9f3a"
             ],
             [
              0.8888888888888888,
              "#fdca26"
             ],
             [
              1,
              "#f0f921"
             ]
            ],
            "type": "histogram2d"
           }
          ],
          "histogram2dcontour": [
           {
            "colorbar": {
             "outlinewidth": 0,
             "ticks": ""
            },
            "colorscale": [
             [
              0,
              "#0d0887"
             ],
             [
              0.1111111111111111,
              "#46039f"
             ],
             [
              0.2222222222222222,
              "#7201a8"
             ],
             [
              0.3333333333333333,
              "#9c179e"
             ],
             [
              0.4444444444444444,
              "#bd3786"
             ],
             [
              0.5555555555555556,
              "#d8576b"
             ],
             [
              0.6666666666666666,
              "#ed7953"
             ],
             [
              0.7777777777777778,
              "#fb9f3a"
             ],
             [
              0.8888888888888888,
              "#fdca26"
             ],
             [
              1,
              "#f0f921"
             ]
            ],
            "type": "histogram2dcontour"
           }
          ],
          "mesh3d": [
           {
            "colorbar": {
             "outlinewidth": 0,
             "ticks": ""
            },
            "type": "mesh3d"
           }
          ],
          "parcoords": [
           {
            "line": {
             "colorbar": {
              "outlinewidth": 0,
              "ticks": ""
             }
            },
            "type": "parcoords"
           }
          ],
          "pie": [
           {
            "automargin": true,
            "type": "pie"
           }
          ],
          "scatter": [
           {
            "fillpattern": {
             "fillmode": "overlay",
             "size": 10,
             "solidity": 0.2
            },
            "type": "scatter"
           }
          ],
          "scatter3d": [
           {
            "line": {
             "colorbar": {
              "outlinewidth": 0,
              "ticks": ""
             }
            },
            "marker": {
             "colorbar": {
              "outlinewidth": 0,
              "ticks": ""
             }
            },
            "type": "scatter3d"
           }
          ],
          "scattercarpet": [
           {
            "marker": {
             "colorbar": {
              "outlinewidth": 0,
              "ticks": ""
             }
            },
            "type": "scattercarpet"
           }
          ],
          "scattergeo": [
           {
            "marker": {
             "colorbar": {
              "outlinewidth": 0,
              "ticks": ""
             }
            },
            "type": "scattergeo"
           }
          ],
          "scattergl": [
           {
            "marker": {
             "colorbar": {
              "outlinewidth": 0,
              "ticks": ""
             }
            },
            "type": "scattergl"
           }
          ],
          "scattermapbox": [
           {
            "marker": {
             "colorbar": {
              "outlinewidth": 0,
              "ticks": ""
             }
            },
            "type": "scattermapbox"
           }
          ],
          "scatterpolar": [
           {
            "marker": {
             "colorbar": {
              "outlinewidth": 0,
              "ticks": ""
             }
            },
            "type": "scatterpolar"
           }
          ],
          "scatterpolargl": [
           {
            "marker": {
             "colorbar": {
              "outlinewidth": 0,
              "ticks": ""
             }
            },
            "type": "scatterpolargl"
           }
          ],
          "scatterternary": [
           {
            "marker": {
             "colorbar": {
              "outlinewidth": 0,
              "ticks": ""
             }
            },
            "type": "scatterternary"
           }
          ],
          "surface": [
           {
            "colorbar": {
             "outlinewidth": 0,
             "ticks": ""
            },
            "colorscale": [
             [
              0,
              "#0d0887"
             ],
             [
              0.1111111111111111,
              "#46039f"
             ],
             [
              0.2222222222222222,
              "#7201a8"
             ],
             [
              0.3333333333333333,
              "#9c179e"
             ],
             [
              0.4444444444444444,
              "#bd3786"
             ],
             [
              0.5555555555555556,
              "#d8576b"
             ],
             [
              0.6666666666666666,
              "#ed7953"
             ],
             [
              0.7777777777777778,
              "#fb9f3a"
             ],
             [
              0.8888888888888888,
              "#fdca26"
             ],
             [
              1,
              "#f0f921"
             ]
            ],
            "type": "surface"
           }
          ],
          "table": [
           {
            "cells": {
             "fill": {
              "color": "#EBF0F8"
             },
             "line": {
              "color": "white"
             }
            },
            "header": {
             "fill": {
              "color": "#C8D4E3"
             },
             "line": {
              "color": "white"
             }
            },
            "type": "table"
           }
          ]
         },
         "layout": {
          "annotationdefaults": {
           "arrowcolor": "#2a3f5f",
           "arrowhead": 0,
           "arrowwidth": 1
          },
          "autotypenumbers": "strict",
          "coloraxis": {
           "colorbar": {
            "outlinewidth": 0,
            "ticks": ""
           }
          },
          "colorscale": {
           "diverging": [
            [
             0,
             "#8e0152"
            ],
            [
             0.1,
             "#c51b7d"
            ],
            [
             0.2,
             "#de77ae"
            ],
            [
             0.3,
             "#f1b6da"
            ],
            [
             0.4,
             "#fde0ef"
            ],
            [
             0.5,
             "#f7f7f7"
            ],
            [
             0.6,
             "#e6f5d0"
            ],
            [
             0.7,
             "#b8e186"
            ],
            [
             0.8,
             "#7fbc41"
            ],
            [
             0.9,
             "#4d9221"
            ],
            [
             1,
             "#276419"
            ]
           ],
           "sequential": [
            [
             0,
             "#0d0887"
            ],
            [
             0.1111111111111111,
             "#46039f"
            ],
            [
             0.2222222222222222,
             "#7201a8"
            ],
            [
             0.3333333333333333,
             "#9c179e"
            ],
            [
             0.4444444444444444,
             "#bd3786"
            ],
            [
             0.5555555555555556,
             "#d8576b"
            ],
            [
             0.6666666666666666,
             "#ed7953"
            ],
            [
             0.7777777777777778,
             "#fb9f3a"
            ],
            [
             0.8888888888888888,
             "#fdca26"
            ],
            [
             1,
             "#f0f921"
            ]
           ],
           "sequentialminus": [
            [
             0,
             "#0d0887"
            ],
            [
             0.1111111111111111,
             "#46039f"
            ],
            [
             0.2222222222222222,
             "#7201a8"
            ],
            [
             0.3333333333333333,
             "#9c179e"
            ],
            [
             0.4444444444444444,
             "#bd3786"
            ],
            [
             0.5555555555555556,
             "#d8576b"
            ],
            [
             0.6666666666666666,
             "#ed7953"
            ],
            [
             0.7777777777777778,
             "#fb9f3a"
            ],
            [
             0.8888888888888888,
             "#fdca26"
            ],
            [
             1,
             "#f0f921"
            ]
           ]
          },
          "colorway": [
           "#636efa",
           "#EF553B",
           "#00cc96",
           "#ab63fa",
           "#FFA15A",
           "#19d3f3",
           "#FF6692",
           "#B6E880",
           "#FF97FF",
           "#FECB52"
          ],
          "font": {
           "color": "#2a3f5f"
          },
          "geo": {
           "bgcolor": "white",
           "lakecolor": "white",
           "landcolor": "#E5ECF6",
           "showlakes": true,
           "showland": true,
           "subunitcolor": "white"
          },
          "hoverlabel": {
           "align": "left"
          },
          "hovermode": "closest",
          "mapbox": {
           "style": "light"
          },
          "paper_bgcolor": "white",
          "plot_bgcolor": "#E5ECF6",
          "polar": {
           "angularaxis": {
            "gridcolor": "white",
            "linecolor": "white",
            "ticks": ""
           },
           "bgcolor": "#E5ECF6",
           "radialaxis": {
            "gridcolor": "white",
            "linecolor": "white",
            "ticks": ""
           }
          },
          "scene": {
           "xaxis": {
            "backgroundcolor": "#E5ECF6",
            "gridcolor": "white",
            "gridwidth": 2,
            "linecolor": "white",
            "showbackground": true,
            "ticks": "",
            "zerolinecolor": "white"
           },
           "yaxis": {
            "backgroundcolor": "#E5ECF6",
            "gridcolor": "white",
            "gridwidth": 2,
            "linecolor": "white",
            "showbackground": true,
            "ticks": "",
            "zerolinecolor": "white"
           },
           "zaxis": {
            "backgroundcolor": "#E5ECF6",
            "gridcolor": "white",
            "gridwidth": 2,
            "linecolor": "white",
            "showbackground": true,
            "ticks": "",
            "zerolinecolor": "white"
           }
          },
          "shapedefaults": {
           "line": {
            "color": "#2a3f5f"
           }
          },
          "ternary": {
           "aaxis": {
            "gridcolor": "white",
            "linecolor": "white",
            "ticks": ""
           },
           "baxis": {
            "gridcolor": "white",
            "linecolor": "white",
            "ticks": ""
           },
           "bgcolor": "#E5ECF6",
           "caxis": {
            "gridcolor": "white",
            "linecolor": "white",
            "ticks": ""
           }
          },
          "title": {
           "x": 0.05
          },
          "xaxis": {
           "automargin": true,
           "gridcolor": "white",
           "linecolor": "white",
           "ticks": "",
           "title": {
            "standoff": 15
           },
           "zerolinecolor": "white",
           "zerolinewidth": 2
          },
          "yaxis": {
           "automargin": true,
           "gridcolor": "white",
           "linecolor": "white",
           "ticks": "",
           "title": {
            "standoff": 15
           },
           "zerolinecolor": "white",
           "zerolinewidth": 2
          }
         }
        },
        "xaxis": {
         "anchor": "y",
         "domain": [
          0,
          1
         ],
         "title": {
          "text": "deposit_week"
         }
        },
        "yaxis": {
         "anchor": "x",
         "domain": [
          0,
          1
         ],
         "title": {
          "text": "size"
         }
        }
       }
      }
     },
     "metadata": {},
     "output_type": "display_data"
    }
   ],
   "source": [
    "fig = px.bar(cadence, x='deposit_week', y='size', color='deposit_cadence')\n",
    "fig.add_vrect(x0=month3_start, x1=month3_end, line_width=0, fillcolor=\"red\", opacity=0.2)\n",
    "fig.show()"
   ]
  },
  {
   "cell_type": "markdown",
   "metadata": {},
   "source": [
    "#### Increase in average amount deposited each month per client\n",
    "\n",
    "    - How to measure: Time-based comparison of average summed mothly deposits for clients who had accounts prior to the campaign. "
   ]
  },
  {
   "cell_type": "code",
   "execution_count": 263,
   "metadata": {},
   "outputs": [
    {
     "data": {
      "text/html": [
       "<div>\n",
       "<style scoped>\n",
       "    .dataframe tbody tr th:only-of-type {\n",
       "        vertical-align: middle;\n",
       "    }\n",
       "\n",
       "    .dataframe tbody tr th {\n",
       "        vertical-align: top;\n",
       "    }\n",
       "\n",
       "    .dataframe thead th {\n",
       "        text-align: right;\n",
       "    }\n",
       "</style>\n",
       "<table border=\"1\" class=\"dataframe\">\n",
       "  <thead>\n",
       "    <tr style=\"text-align: right;\">\n",
       "      <th></th>\n",
       "      <th>month</th>\n",
       "      <th>deposit_amount</th>\n",
       "    </tr>\n",
       "  </thead>\n",
       "  <tbody>\n",
       "    <tr>\n",
       "      <th>0</th>\n",
       "      <td>1</td>\n",
       "      <td>470.162524</td>\n",
       "    </tr>\n",
       "    <tr>\n",
       "      <th>1</th>\n",
       "      <td>2</td>\n",
       "      <td>472.484384</td>\n",
       "    </tr>\n",
       "    <tr>\n",
       "      <th>2</th>\n",
       "      <td>3</td>\n",
       "      <td>465.540002</td>\n",
       "    </tr>\n",
       "    <tr>\n",
       "      <th>3</th>\n",
       "      <td>4</td>\n",
       "      <td>468.167816</td>\n",
       "    </tr>\n",
       "    <tr>\n",
       "      <th>4</th>\n",
       "      <td>5</td>\n",
       "      <td>470.272147</td>\n",
       "    </tr>\n",
       "  </tbody>\n",
       "</table>\n",
       "</div>"
      ],
      "text/plain": [
       "  month  deposit_amount\n",
       "0     1      470.162524\n",
       "1     2      472.484384\n",
       "2     3      465.540002\n",
       "3     4      468.167816\n",
       "4     5      470.272147"
      ]
     },
     "execution_count": null,
     "metadata": {},
     "output_type": "execute_result"
    }
   ],
   "source": [
    "# establish df for summed monthly deposits\n",
    "amount = df3[['month', 'client_id', 'deposit_amount']]\n",
    "amount = amount.groupby(['client_id', 'month'], as_index=False, observed=True).agg({'deposit_amount': 'sum'})\n",
    "amount = amount.groupby(['month'], as_index=False, observed=True).agg({'deposit_amount': 'mean'})\n",
    "amount"
   ]
  },
  {
   "cell_type": "markdown",
   "metadata": {},
   "source": [
    "#### Increase in client base\n",
    "\n",
    "- How to measure: Time-based comparison of total client count during the 5 months of data. "
   ]
  },
  {
   "cell_type": "code",
   "execution_count": 266,
   "metadata": {},
   "outputs": [
    {
     "data": {
      "text/html": [
       "<div>\n",
       "<style scoped>\n",
       "    .dataframe tbody tr th:only-of-type {\n",
       "        vertical-align: middle;\n",
       "    }\n",
       "\n",
       "    .dataframe tbody tr th {\n",
       "        vertical-align: top;\n",
       "    }\n",
       "\n",
       "    .dataframe thead th {\n",
       "        text-align: right;\n",
       "    }\n",
       "</style>\n",
       "<table border=\"1\" class=\"dataframe\">\n",
       "  <thead>\n",
       "    <tr style=\"text-align: right;\">\n",
       "      <th></th>\n",
       "      <th>month</th>\n",
       "      <th>size</th>\n",
       "    </tr>\n",
       "  </thead>\n",
       "  <tbody>\n",
       "    <tr>\n",
       "      <th>0</th>\n",
       "      <td>1</td>\n",
       "      <td>41167</td>\n",
       "    </tr>\n",
       "    <tr>\n",
       "      <th>1</th>\n",
       "      <td>2</td>\n",
       "      <td>40200</td>\n",
       "    </tr>\n",
       "    <tr>\n",
       "      <th>2</th>\n",
       "      <td>3</td>\n",
       "      <td>39770</td>\n",
       "    </tr>\n",
       "    <tr>\n",
       "      <th>3</th>\n",
       "      <td>4</td>\n",
       "      <td>36419</td>\n",
       "    </tr>\n",
       "    <tr>\n",
       "      <th>4</th>\n",
       "      <td>5</td>\n",
       "      <td>37787</td>\n",
       "    </tr>\n",
       "  </tbody>\n",
       "</table>\n",
       "</div>"
      ],
      "text/plain": [
       "  month   size\n",
       "0     1  41167\n",
       "1     2  40200\n",
       "2     3  39770\n",
       "3     4  36419\n",
       "4     5  37787"
      ]
     },
     "execution_count": null,
     "metadata": {},
     "output_type": "execute_result"
    }
   ],
   "source": [
    "client_count = df2[['client_id', 'month']]\n",
    "client_count = client_count.drop_duplicates()\n",
    "client_count = df2[['month']]\n",
    "client_count = client_count.groupby(['month'], as_index=False, observed=True).size()\n",
    "client_count.head()\n"
   ]
  },
  {
   "cell_type": "code",
   "execution_count": null,
   "metadata": {},
   "outputs": [],
   "source": [
    "fig4 = px.line(df2, x=\"deposit_date\", y=\"size\", color='deposit_cadence')\n",
    "fig4.show()"
   ]
  }
 ],
 "metadata": {
  "language_info": {
   "name": "python"
  }
 },
 "nbformat": 4,
 "nbformat_minor": 2
}
