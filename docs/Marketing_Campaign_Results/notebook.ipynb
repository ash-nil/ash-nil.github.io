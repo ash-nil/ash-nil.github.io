{
 "cells": [
  {
   "cell_type": "markdown",
   "metadata": {},
   "source": [
    "# Marketing Campaign Results\n",
    "\n",
    "## Background\n",
    "\n",
    "### About the Business\n",
    "\n",
    "Company A's customers have substantial debt and because of unexpected hardship are no longer able to make their minimum monthly on their debts. Customers enroll with Company A and rather than making payments to creditors, they make affordable deposits into a dedicated account with Company A, who uses these funds to negotiate with the creditors to settle the customer's outstanding debt. Company A then collects fees from the client for the that was settled. \n",
    "\n",
    "Company A earns fees for each account it successfully negotiates a settlement agreement; the number of settlement agreements Company A can negotiate is proportional to the monthly deposited amount. \n",
    "\n",
    "### Project Details\n",
    "\n",
    "Company A ran a recent marketing campaign to promote the value proposition of how the debt relief program helps people achieve financial freedom; the cost of this campaign was $5 million. The goal of this analysis is to **show marketing, sales and operations the success of the campaign**. Specifically, the analysis includes: \n",
    "\n",
    "- A quantitative assessment of whether the marketing campaign was successful.\n",
    "- Recommended adjustments to the campaign strategy to improve performance.\n",
    "\n",
    "### Defining Success\n",
    "What success looks like....\n",
    "\n",
    "### Data Overview\n",
    "\n",
    "There are three datasets provided for the analysis; each is already cleaned and prepared for analysis.  \n",
    "\n",
    "**client_data.csv: Fictional clients**\n",
    "\n",
    "| Name | Description |\n",
    "|---|---|\n",
    "client_id|Randomly generated unique surrogate identifier for a client|\n",
    "client_geographical_region|Client geographical location in relation to U.S. Census definitions|\n",
    "client_residence_status|Client residence status in relation to whether they rent or own|\n",
    "client_age|Client age in relation to date of birth|\n",
    "\n",
    "\n",
    "**deposit_data.csv: Client deposit behavior**\n",
    "\n",
    "| Name | Description |\n",
    "|---|---|\n",
    "client_id|Randomly generated unique surrogate identifier for a client|\n",
    "deposit_type|Delineates whether a client deposit is the scheduled record or actual record|\n",
    "deposit_amount|Client deposit amount to the dedicated bank account with Freedom|\n",
    "deposit_cadence|Timing and pattern of client deposit activity|\n",
    "deposit_date|Deposit date for deposit type|\n",
    "\n",
    "\n",
    "**calendar_data.csv: Calendar reference table**\n",
    "\n",
    "| Name | Description |\n",
    "|---|---|\n",
    "|gregorian_date|This date aligns with the Gregorian calendar|\n",
    "|month_name|These are the designated months in the case study|\n",
    "\n",
    "Notes: \n",
    "\n",
    "- Month 1 and 2 are pre-campaign\n",
    "- Month 3 is the campaign\n",
    "- Month 4 and 5 are post-campaign\n",
    "\n",
    "Assumptions: \n",
    "\n",
    "- There is no seasonality in the results\n",
    "- The campaign spend was distributed evenly across Month 3 (i.e., spend on the first day is the same as spend on the last day)\n",
    "\n",
    "## Analysis"
   ]
  },
  {
   "cell_type": "code",
   "execution_count": 181,
   "metadata": {
    "vscode": {
     "languageId": "plaintext"
    }
   },
   "outputs": [],
   "source": [
    "# import packages\n",
    "import numpy as np\n",
    "import pandas as pd\n",
    "import matplotlib.pyplot as plt\n",
    "from scipy.stats import ttest_ind"
   ]
  },
  {
   "cell_type": "markdown",
   "metadata": {},
   "source": [
    "### Data Wrangling\n",
    "\n",
    "For this first section, I'm taking a quick look at the provided data. A few things to note from my review:\n",
    "\n",
    "- There are more "
   ]
  },
  {
   "cell_type": "code",
   "execution_count": 182,
   "metadata": {
    "vscode": {
     "languageId": "plaintext"
    }
   },
   "outputs": [
    {
     "name": "stdout",
     "output_type": "stream",
     "text": [
      "         client_id client_geographical_region client_residence_status  client_age\n",
      "0  538839486596724                  Northeast                    Rent          91\n",
      "1  321708286091707                       West                     Own          83\n",
      "2  848531901757235                    Midwest                     Own          84\n",
      "3  854405182328779                  Northeast                     Own          83\n",
      "4  769102176031316                       West                     Own          85\n",
      "Total rows:  46347\n",
      "\n",
      "         client_id       deposit_type  deposit_amount deposit_cadence deposit_date\n",
      "0  446495122764671     Actual Deposit           303.0         Monthly   2019-10-23\n",
      "1  446495122764671     Actual Deposit           303.0         Monthly   2019-09-23\n",
      "2  446495122764671  Scheduled Deposit           303.0         Monthly   2019-09-23\n",
      "3  446495122764671  Scheduled Deposit           303.0         Monthly   2019-10-23\n",
      "4  446495122764671  Scheduled Deposit           303.0         Monthly   2019-06-23\n",
      "Total rows:  46347\n",
      "\n",
      "  gregorian_date month_name\n",
      "0     2019-06-01    Month 1\n",
      "1     2019-06-02    Month 1\n",
      "2     2019-06-03    Month 1\n",
      "3     2019-06-04    Month 1\n",
      "4     2019-06-05    Month 1\n",
      "Total rows:  46347\n",
      "\n",
      "         client_id client_geographical_region client_residence_status  client_age\n",
      "0  538839486596724                  Northeast                    Rent          91\n",
      "1  321708286091707                       West                     Own          83\n",
      "2  848531901757235                    Midwest                     Own          84\n",
      "3  854405182328779                  Northeast                     Own          83\n",
      "4  769102176031316                       West                     Own          85\n",
      "Total rows:  46347\n",
      "\n",
      "         client_id       deposit_type  deposit_amount deposit_cadence deposit_date\n",
      "0  446495122764671     Actual Deposit           303.0         Monthly   2019-10-23\n",
      "1  446495122764671     Actual Deposit           303.0         Monthly   2019-09-23\n",
      "2  446495122764671  Scheduled Deposit           303.0         Monthly   2019-09-23\n",
      "3  446495122764671  Scheduled Deposit           303.0         Monthly   2019-10-23\n",
      "4  446495122764671  Scheduled Deposit           303.0         Monthly   2019-06-23\n",
      "Total rows:  46347\n",
      "\n",
      "  gregorian_date month_name\n",
      "0     2019-06-01    Month 1\n",
      "1     2019-06-02    Month 1\n",
      "2     2019-06-03    Month 1\n",
      "3     2019-06-04    Month 1\n",
      "4     2019-06-05    Month 1\n",
      "Total rows:  46347\n",
      "\n"
     ]
    }
   ],
   "source": [
    "# read in data\n",
    "clients = pd.read_csv('data/client_data.csv')\n",
    "deposits = pd.read_csv('data/deposit_data.csv')\n",
    "calendar = pd.read_csv('data/calendar_data.csv')\n",
    "\n",
    "# return basic details on dataframes\n",
    "df_group = [clients, deposit,calendar]\n",
    "for i in df_group:\n",
    "    print(i.head())\n",
    "    print('Total rows: ',len(clients))\n",
    "    print('')"
   ]
  },
  {
   "cell_type": "code",
   "execution_count": 183,
   "metadata": {
    "vscode": {
     "languageId": "plaintext"
    }
   },
   "outputs": [
    {
     "data": {
      "text/plain": [
       "array(['Actual Deposit', 'Scheduled Deposit'], dtype=object)"
      ]
     },
     "execution_count": null,
     "metadata": {},
     "output_type": "execute_result"
    }
   ],
   "source": [
    "# verify types of deposits\n",
    "deposits.deposit_type.unique()"
   ]
  },
  {
   "cell_type": "code",
   "execution_count": 185,
   "metadata": {
    "vscode": {
     "languageId": "plaintext"
    }
   },
   "outputs": [
    {
     "name": "stdout",
     "output_type": "stream",
     "text": [
      "         client_id  deposit_amount deposit_cadence deposit_date  Actual Deposit  Scheduled Deposit\n",
      "0  446495122764671           303.0         Monthly   2019-10-23            True              False\n",
      "1  446495122764671           303.0         Monthly   2019-09-23            True              False\n",
      "2  446495122764671           303.0         Monthly   2019-09-23           False               True\n",
      "3  446495122764671           303.0         Monthly   2019-10-23           False               True\n",
      "4  446495122764671           303.0         Monthly   2019-06-23           False               True\n",
      "Total rows:  480394\n",
      "         client_id  deposit_amount deposit_cadence deposit_date  Actual Deposit  Scheduled Deposit\n",
      "0  446495122764671           303.0         Monthly   2019-10-23            True              False\n",
      "1  446495122764671           303.0         Monthly   2019-09-23            True              False\n",
      "2  446495122764671           303.0         Monthly   2019-09-23           False               True\n",
      "3  446495122764671           303.0         Monthly   2019-10-23           False               True\n",
      "4  446495122764671           303.0         Monthly   2019-06-23           False               True\n",
      "Total rows:  480394\n"
     ]
    }
   ],
   "source": [
    "# get dummies for deposit types\n",
    "df = pd.get_dummies(data=deposits, prefix='', prefix_sep='', columns=['deposit_type'])\n",
    "print(df.head())\n",
    "print('Total rows: ',len(df))"
   ]
  },
  {
   "cell_type": "code",
   "execution_count": 168,
   "metadata": {
    "vscode": {
     "languageId": "plaintext"
    }
   },
   "outputs": [
    {
     "name": "stdout",
     "output_type": "stream",
     "text": [
      "         client_id  deposit_amount deposit_cadence deposit_date  Actual Deposit  Scheduled Deposit\n",
      "0  446495122764671           303.0         Monthly   2019-10-23            True              False\n",
      "1  446495122764671           303.0         Monthly   2019-09-23            True              False\n",
      "2  446495122764671           303.0         Monthly   2019-09-23           False               True\n",
      "3  446495122764671           303.0         Monthly   2019-10-23           False               True\n",
      "4  446495122764671           303.0         Monthly   2019-06-23           False               True\n",
      "Total rows:  472019\n",
      "         client_id  deposit_amount deposit_cadence deposit_date  Actual Deposit  Scheduled Deposit\n",
      "0  446495122764671           303.0         Monthly   2019-10-23            True              False\n",
      "1  446495122764671           303.0         Monthly   2019-09-23            True              False\n",
      "2  446495122764671           303.0         Monthly   2019-09-23           False               True\n",
      "3  446495122764671           303.0         Monthly   2019-10-23           False               True\n",
      "4  446495122764671           303.0         Monthly   2019-06-23           False               True\n",
      "Total rows:  472019\n"
     ]
    }
   ],
   "source": [
    "df = df.drop_duplicates()\n",
    "print(df.head())\n",
    "print('Total rows: ',len(df))"
   ]
  },
  {
   "cell_type": "code",
   "execution_count": 163,
   "metadata": {
    "vscode": {
     "languageId": "plaintext"
    }
   },
   "outputs": [
    {
     "name": "stdout",
     "output_type": "stream",
     "text": [
      "      client_id  deposit_amount deposit_cadence deposit_date  Actual Deposit  Scheduled Deposit\n",
      "0  146046305811           247.0        Biweekly   2019-06-05           False               True\n",
      "1  146046305811           247.0        Biweekly   2019-06-19            True               True\n",
      "2  146046305811           247.0        Biweekly   2019-07-03            True               True\n",
      "3  146046305811           247.0        Biweekly   2019-07-17            True               True\n",
      "4  146046305811           247.0        Biweekly   2019-07-31            True               True\n",
      "Total Rows:  256143\n",
      "      client_id  deposit_amount deposit_cadence deposit_date  Actual Deposit  Scheduled Deposit\n",
      "0  146046305811           247.0        Biweekly   2019-06-05           False               True\n",
      "1  146046305811           247.0        Biweekly   2019-06-19            True               True\n",
      "2  146046305811           247.0        Biweekly   2019-07-03            True               True\n",
      "3  146046305811           247.0        Biweekly   2019-07-17            True               True\n",
      "4  146046305811           247.0        Biweekly   2019-07-31            True               True\n",
      "Total Rows:  256143\n"
     ]
    }
   ],
   "source": [
    "# group scheduled/actual deposits for matching\n",
    "df = df.groupby(['client_id', 'deposit_amount', 'deposit_cadence', 'deposit_date'], as_index=False).agg({'Actual Deposit': 'max', 'Scheduled Deposit': 'max'})\n",
    "print(df.head())\n",
    "print('Total Rows: ',len(df))"
   ]
  },
  {
   "cell_type": "code",
   "execution_count": 138,
   "metadata": {
    "vscode": {
     "languageId": "plaintext"
    }
   },
   "outputs": [
    {
     "name": "stdout",
     "output_type": "stream",
     "text": [
      "      client_id  deposit_amount deposit_cadence deposit_date  Actual Deposit  Scheduled Deposit month_name client_geographical_region client_residence_status  client_age\n",
      "0  146046305811           247.0        Biweekly   2019-06-05           False               True    Month 1                    Midwest                    Rent          42\n",
      "1  146046305811           247.0        Biweekly   2019-06-19            True               True    Month 1                    Midwest                    Rent          42\n",
      "2  146046305811           247.0        Biweekly   2019-07-03            True               True    Month 2                    Midwest                    Rent          42\n",
      "3  146046305811           247.0        Biweekly   2019-07-17            True               True    Month 2                    Midwest                    Rent          42\n",
      "4  146046305811           247.0        Biweekly   2019-07-31            True               True    Month 2                    Midwest                    Rent          42\n",
      "Total rows:  256143\n",
      "      client_id  deposit_amount deposit_cadence deposit_date  Actual Deposit  Scheduled Deposit month_name client_geographical_region client_residence_status  client_age\n",
      "0  146046305811           247.0        Biweekly   2019-06-05           False               True    Month 1                    Midwest                    Rent          42\n",
      "1  146046305811           247.0        Biweekly   2019-06-19            True               True    Month 1                    Midwest                    Rent          42\n",
      "2  146046305811           247.0        Biweekly   2019-07-03            True               True    Month 2                    Midwest                    Rent          42\n",
      "3  146046305811           247.0        Biweekly   2019-07-17            True               True    Month 2                    Midwest                    Rent          42\n",
      "4  146046305811           247.0        Biweekly   2019-07-31            True               True    Month 2                    Midwest                    Rent          42\n",
      "Total rows:  256143\n"
     ]
    }
   ],
   "source": [
    "# merge dataframes\n",
    "df = pd.merge(df, calendar, left_on='deposit_date', right_on='gregorian_date', how='inner')\n",
    "df = df.drop('gregorian_date', axis=1)\n",
    "df = pd.merge(df, clients, on='client_id', how='inner')\n",
    "print(df.head())\n",
    "print('Total rows: ',len(df))"
   ]
  }
 ],
 "metadata": {
  "language_info": {
   "name": "python"
  }
 },
 "nbformat": 4,
 "nbformat_minor": 2
}
