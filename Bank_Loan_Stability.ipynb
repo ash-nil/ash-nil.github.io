{
  "cells": [
    {
      "cell_type": "markdown",
      "metadata": {
        "id": "G3-xcjK04f80"
      },
      "source": [
        "# Bank Loan Stability\n",
        "**Author**: Ashley Nilson\n",
        "\n",
        "**Overview**: This analysis reviews a [bank loan status dataset](https://www.kaggle.com/datasets/zaurbegiev/my-dataset) obtained from [Kaggle](https://www.kaggle.com). The original dataset contains 100,000 samples of individual loans which have either been charged off or paid in full, with various details on the customer and loan itself.\n",
        "\n",
        "The goal of this analysis is to identify correlations between loans that are charged off versus those that are not. Using the results of this review, we can adapt our approval methods for new loans to reduce the likihood of charge offs for new loans. With that goal in mind, we will conduct a k-cluster, linear regression, and logistic regression analysis.\n",
        "\n",
        "As we conduct this analysis, the focus will be on recall (sensitivity) false negatives are more impactful to our business functions than false positives since the entire goal of this analysis is to ensure we do not give loans to individual who are likely to have it charged off.\n",
        "\n",
        "The variables used for the analysis portion of this dataset are:\n",
        "\n",
        "*  Charged_Off: binary variable\n",
        " * Indicates if the loan was charged off (1) or paid in full (0)\n",
        "*  Loan_Amount: continuous variable\n",
        " * Total amount loaned to the customer\n",
        "*  Credit_Score: continuous variable\n",
        " * Customer's credit score\n",
        "*  Annual_Income: continuous variable\n",
        " * Customer's gross pay per year.\n",
        "*  Employment_Years: continuous variable\n",
        " * Total years of employment with current employer\n",
        "*  Monthly_Debt: continuous variable\n",
        " * How much debt the customer has to pay off per month\n",
        "*  Credit_History_Years: continuous variable\n",
        " * Count of the number of years int he customer's credit history\n",
        "*  Months_Last_Delinquent: continuous variable\n",
        " * Count of the number of months since the customer was last delinquent\n",
        "*  Total_Open_Accts: continuous variable\n",
        " * Count of the open accounts the customer has\n",
        "*  Credit_Problems: continuous variable\n",
        " * Count of the customer's credit problems.\n",
        "*  Credit_Balance: continuous variable\n",
        " * Total credit in use for the customer\n",
        "*  Max_Credit: continuous variable\n",
        " * Total credit available to a customer.\n",
        "*  Bankruptcies: continuous variable\n",
        " * Count of a customer's bankruptcies. Note: after removing outliers, this appears as a binary variable since most customers have 1 or 0 bankruptcies.  \n",
        "*  Num_Loans: continuous variable\n",
        " * Total count of the number of loans for an individual customer included in this dataset.\n",
        "*  Term_Short: binary variable\n",
        " * Indicates if the loan is a short-term (1) or long-term (0) loan.\n",
        "* Home: binary variables generated from categorical column\n",
        " * The options are: Home_Own, Home_Rent, or Home_Mortgage. These are used to indicate the customer's housing situation.\n",
        "* Purpose: variables values generated from categorical column\n",
        " * The options are: Purpose_Business, Purpose_Debt, Purpose_Educational_Expenses, Purpose_HomeImprovement, Purpose_MajorPurchase, Purpose_Other, or Purpose_Recreation. These are used to indicate the purpose for the customer's loan.\n",
        "\n",
        "\n",
        "**Analysis Results Summary**: None of the machine learning models used in this analysis generated a predictive model that performed better than the null hypothesis. This is not to say that creating a model from this dataset is not possible. Rather, it is simply that the methods used to clean and organize the data thus far do not assist the model. As next steps, we would recommend delving deeper into calculations that can be made from the available data (for example, using Monthly_Debt and Annual_Income to create a debt-to-income ratio).\n",
        "\n",
        "As a note: the model would also be improved by normalizing the training and testing data separately, rather than in bulk as we have in this notebook."
      ]
    },
    {
      "cell_type": "markdown",
      "metadata": {
        "id": "21sDYrhVdZ2E"
      },
      "source": [
        "## Preliminaries\n",
        "\n",
        "To set up the notebook we must install needed packages, set common variables, and establish the working directory. As general best practices, we will also include the date/time for the most recent analysis in GMT."
      ]
    },
    {
      "cell_type": "code",
      "execution_count": 4,
      "metadata": {
        "colab": {
          "base_uri": "https://localhost:8080/"
        },
        "id": "PLab7lZV4wFU",
        "outputId": "fde085e7-c88f-4832-9b9a-7df1f7b3fba7"
      },
      "outputs": [
        {
          "name": "stdout",
          "output_type": "stream",
          "text": [
            "Analysis on 2024-07-27 at 09:59\n",
            "Analysis on 2024-07-27 at 09:59\n"
          ]
        }
      ],
      "source": [
        "#install packages\n",
        "import pandas as pd\n",
        "import numpy as np\n",
        "import seaborn as sns\n",
        "import matplotlib.pyplot as plt\n",
        "import datetime as dt\n",
        "import re\n",
        "from datetime import datetime\n",
        "from sklearn import metrics, preprocessing\n",
        "from sklearn.preprocessing import MinMaxScaler\n",
        "from sklearn.cluster import KMeans\n",
        "from sklearn.metrics import pairwise_distances, silhouette_samples, silhouette_score, accuracy_score, confusion_matrix, \\\n",
        "      recall_score, precision_score, f1_score\n",
        "from sklearn.linear_model import LinearRegression, LogisticRegression\n",
        "from sklearn.model_selection import train_test_split, KFold, cross_validate\n",
        "from sklearn.feature_selection import RFE\n",
        "\n",
        "#set variable names for processing\n",
        "mm_scaler = preprocessing.MinMaxScaler()\n",
        "\n",
        "#date time\n",
        "now = datetime.now()\n",
        "print(\"Analysis on\", now.strftime(\"%Y-%m-%d\"), \"at\", now.strftime(\"%H:%M\"))"
      ]
    },
    {
      "cell_type": "markdown",
      "metadata": {
        "id": "q9WJkMxWCdt0"
      },
      "source": [
        "## Data wrangling\n",
        "\n",
        "In this section, we'll be importing our dataset and completing some basic modifications to ensure our analysis is not skewed by inaccurate or extreme data representations.\n"
      ]
    },
    {
      "cell_type": "code",
      "execution_count": 5,
      "metadata": {
        "colab": {
          "base_uri": "https://localhost:8080/"
        },
        "id": "5lgT3_BUReHt",
        "outputId": "981e24e2-2ba0-47b4-ba9f-7f0a2ad1bb60"
      },
      "outputs": [
        {
          "data": {
            "text/plain": [
              "(100000, 18)"
            ]
          },
          "execution_count": null,
          "metadata": {},
          "output_type": "execute_result"
        }
      ],
      "source": [
        "#read in data and review\n",
        "d = pd.read_csv('data/LOAN-acct_info.csv')\n",
        "\n",
        "#set loan as index\n",
        "d = d.set_index('Loan ID')\n",
        "\n",
        "d.shape"
      ]
    },
    {
      "cell_type": "code",
      "execution_count": 6,
      "metadata": {
        "colab": {
          "base_uri": "https://localhost:8080/"
        },
        "id": "Gkv_ZAb_YDAT",
        "outputId": "9d0a99ca-b5c2-42e9-fd91-68d3136e96d0"
      },
      "outputs": [
        {
          "name": "stdout",
          "output_type": "stream",
          "text": [
            "Unique values from Customer_ID :\n",
            " ['981165ec-3274-42f5-a3b4-d104041a9ca9' '2de017a3-2e01-49cb-a581-08169e83be29' '5efb2b2b-bf11-4dfd-a572-3761a2694725'\n",
            " ... '2ced5f10-bd60-4a11-9134-cadce4e7b0a3' '3e45ffda-99fd-4cfc-b8b8-446f4a505f36'\n",
            " '1b3014be-5c07-4d41-abe7-44573c375886'] \n",
            "\n",
            "Unique values from Loan_Status :\n",
            " ['Fully_Paid' 'Charged_Off'] \n",
            "\n",
            "Unique values from Term :\n",
            " ['Short_Term' 'Long_Term'] \n",
            "\n",
            "Unique values from Years_in_current_job :\n",
            " ['8_years' '10+_years' '3_years' '5_years' '<_1_year' '2_years' '4_years' '9_years' '7_years' '1_year' nan '6_years'] \n",
            "\n",
            "Unique values from Home_Ownership :\n",
            " ['Home_Mortgage' 'Own_Home' 'Rent' 'HaveMortgage'] \n",
            "\n",
            "Unique values from Purpose :\n",
            " ['Home_Improvements' 'Debt_Consolidation' 'Buy_House' 'other' 'Business_Loan' 'Buy_a_Car' 'major_purchase'\n",
            " 'Take_a_Trip' 'Other' 'small_business' 'Medical_Bills' 'wedding' 'vacation' 'Educational_Expenses' 'moving'\n",
            " 'renewable_energy'] \n",
            "\n",
            "Unique values from Customer_ID :\n",
            " ['981165ec-3274-42f5-a3b4-d104041a9ca9' '2de017a3-2e01-49cb-a581-08169e83be29' '5efb2b2b-bf11-4dfd-a572-3761a2694725'\n",
            " ... '2ced5f10-bd60-4a11-9134-cadce4e7b0a3' '3e45ffda-99fd-4cfc-b8b8-446f4a505f36'\n",
            " '1b3014be-5c07-4d41-abe7-44573c375886'] \n",
            "\n",
            "Unique values from Loan_Status :\n",
            " ['Fully_Paid' 'Charged_Off'] \n",
            "\n",
            "Unique values from Term :\n",
            " ['Short_Term' 'Long_Term'] \n",
            "\n",
            "Unique values from Years_in_current_job :\n",
            " ['8_years' '10+_years' '3_years' '5_years' '<_1_year' '2_years' '4_years' '9_years' '7_years' '1_year' nan '6_years'] \n",
            "\n",
            "Unique values from Home_Ownership :\n",
            " ['Home_Mortgage' 'Own_Home' 'Rent' 'HaveMortgage'] \n",
            "\n",
            "Unique values from Purpose :\n",
            " ['Home_Improvements' 'Debt_Consolidation' 'Buy_House' 'other' 'Business_Loan' 'Buy_a_Car' 'major_purchase'\n",
            " 'Take_a_Trip' 'Other' 'small_business' 'Medical_Bills' 'wedding' 'vacation' 'Educational_Expenses' 'moving'\n",
            " 'renewable_energy'] \n",
            "\n"
          ]
        }
      ],
      "source": [
        "#replace spaces with underscores in column names\n",
        "d.columns = d.columns.str.replace(' ', '_')\n",
        "\n",
        "#replace spaces with underscores in text values, and review values\n",
        "for col in list(d.select_dtypes(include=['object', 'category']).columns):\n",
        "  d[col] = d[col].str.replace(' ', '_')\n",
        "  print('Unique values from',col,':\\n',d[col].unique(),'\\n')"
      ]
    },
    {
      "cell_type": "code",
      "execution_count": 7,
      "metadata": {
        "colab": {
          "base_uri": "https://localhost:8080/"
        },
        "id": "mdOaW_d59fTi",
        "outputId": "9e8fe5d7-559f-4a64-af05-aaca3841349c"
      },
      "outputs": [
        {
          "name": "stdout",
          "output_type": "stream",
          "text": [
            "Unique values from Customer_ID :\n",
            " ['981165ec-3274-42f5-a3b4-d104041a9ca9' '2de017a3-2e01-49cb-a581-08169e83be29' '5efb2b2b-bf11-4dfd-a572-3761a2694725'\n",
            " ... '2ced5f10-bd60-4a11-9134-cadce4e7b0a3' '3e45ffda-99fd-4cfc-b8b8-446f4a505f36'\n",
            " '1b3014be-5c07-4d41-abe7-44573c375886'] \n",
            "\n",
            "Unique values from Loan_Status :\n",
            " ['Fully_Paid' 'Charged_Off'] \n",
            "\n",
            "Unique values from Term :\n",
            " ['Short' 'Long'] \n",
            "\n",
            "Unique values from Home_Ownership :\n",
            " ['Mortgage' 'Own' 'Rent'] \n",
            "\n",
            "Unique values from Purpose :\n",
            " ['HomeImprovement' 'Debt' 'MajorPurchase' 'Other' 'Business' 'Recreation' 'Educational_Expenses'] \n",
            "\n",
            "Unique values from Customer_ID :\n",
            " ['981165ec-3274-42f5-a3b4-d104041a9ca9' '2de017a3-2e01-49cb-a581-08169e83be29' '5efb2b2b-bf11-4dfd-a572-3761a2694725'\n",
            " ... '2ced5f10-bd60-4a11-9134-cadce4e7b0a3' '3e45ffda-99fd-4cfc-b8b8-446f4a505f36'\n",
            " '1b3014be-5c07-4d41-abe7-44573c375886'] \n",
            "\n",
            "Unique values from Loan_Status :\n",
            " ['Fully_Paid' 'Charged_Off'] \n",
            "\n",
            "Unique values from Term :\n",
            " ['Short' 'Long'] \n",
            "\n",
            "Unique values from Home_Ownership :\n",
            " ['Mortgage' 'Own' 'Rent'] \n",
            "\n",
            "Unique values from Purpose :\n",
            " ['HomeImprovement' 'Debt' 'MajorPurchase' 'Other' 'Business' 'Recreation' 'Educational_Expenses'] \n",
            "\n"
          ]
        }
      ],
      "source": [
        "#update values in columns containing text for uniformity\n",
        "d['Years_in_current_job'] = pd.to_numeric(d['Years_in_current_job'].str.replace(r'\\D', '', regex=True))\n",
        "d['Term'] = d['Term'].str.replace('_Term', '', regex=False)\n",
        "d['Home_Ownership'] = d['Home_Ownership'].str.replace('.*Mortgage', 'Mortgage', regex=True)\n",
        "d['Home_Ownership'] = d['Home_Ownership'].str.replace('Own.*', 'Own', regex=True)\n",
        "d['Purpose'] = d['Purpose'].str.replace('.*(Home|energy).*', 'HomeImprovement', regex=True)\n",
        "d['Purpose'] = d['Purpose'].str.replace('.*(Debt|Bills).*', 'Debt', regex=True)\n",
        "d['Purpose'] = d['Purpose'].str.replace('.*(wedding|Trip|vacation).*', 'Recreation', regex=True)\n",
        "d['Purpose'] = d['Purpose'].str.replace('Educational Expenses', 'Education', regex=False)\n",
        "d['Purpose'] = d['Purpose'].str.replace('(other|moving)', 'Other', regex=True)\n",
        "d['Purpose'] = d['Purpose'].str.replace('.*(B|b)usiness.*', 'Business', regex=True)\n",
        "d['Purpose'] = d['Purpose'].str.replace('.*(purchase|Car|House).*', 'MajorPurchase', regex=True)\n",
        "\n",
        "for col in list(d.select_dtypes(include=['object', 'category']).columns):\n",
        "  print('Unique values from',col,':\\n',d[col].unique(),'\\n')"
      ]
    },
    {
      "cell_type": "code",
      "execution_count": 8,
      "metadata": {
        "colab": {
          "base_uri": "https://localhost:8080/"
        },
        "id": "aunDsVf79nhz",
        "outputId": "04965ae9-0027-4052-e10c-e551d55f89c3"
      },
      "outputs": [
        {
          "name": "stdout",
          "output_type": "stream",
          "text": [
            "Details for Current_Loan_Amount \n",
            "  Min: 10802 \n",
            "  Max: 99999999 \n",
            "  Median: 312246.0 \n",
            "  Mean: 11760447.0 \n",
            "\n",
            "Details for Credit_Score \n",
            "  Min: 585.0 \n",
            "  Max: 7510.0 \n",
            "  Median: 724.0 \n",
            "  Mean: 1076.0 \n",
            "\n",
            "Details for Annual_Income \n",
            "  Min: 76627.0 \n",
            "  Max: 165557393.0 \n",
            "  Median: 1174162.0 \n",
            "  Mean: 1378277.0 \n",
            "\n",
            "Details for Years_in_current_job \n",
            "  Min: 1.0 \n",
            "  Max: 10.0 \n",
            "  Median: 6.0 \n",
            "  Mean: 6.0 \n",
            "\n",
            "Details for Monthly_Debt \n",
            "  Min: 0.0 \n",
            "  Max: 435843.28 \n",
            "  Median: 16220.0 \n",
            "  Mean: 18472.0 \n",
            "\n",
            "Details for Years_of_Credit_History \n",
            "  Min: 3.6 \n",
            "  Max: 70.5 \n",
            "  Median: 17.0 \n",
            "  Mean: 18.0 \n",
            "\n",
            "Details for Months_since_last_delinquent \n",
            "  Min: 0.0 \n",
            "  Max: 176.0 \n",
            "  Median: 32.0 \n",
            "  Mean: 35.0 \n",
            "\n",
            "Details for Number_of_Open_Accounts \n",
            "  Min: 0 \n",
            "  Max: 76 \n",
            "  Median: 10.0 \n",
            "  Mean: 11.0 \n",
            "\n",
            "Details for Number_of_Credit_Problems \n",
            "  Min: 0 \n",
            "  Max: 15 \n",
            "  Median: 0.0 \n",
            "  Mean: 0.0 \n",
            "\n",
            "Details for Current_Credit_Balance \n",
            "  Min: 0 \n",
            "  Max: 32878968 \n",
            "  Median: 209817.0 \n",
            "  Mean: 294637.0 \n",
            "\n",
            "Details for Maximum_Open_Credit \n",
            "  Min: 0.0 \n",
            "  Max: 1539737892.0 \n",
            "  Median: 467874.0 \n",
            "  Mean: 760798.0 \n",
            "\n",
            "Details for Bankruptcies \n",
            "  Min: 0.0 \n",
            "  Max: 7.0 \n",
            "  Median: 0.0 \n",
            "  Mean: 0.0 \n",
            "\n",
            "Details for Tax_Liens \n",
            "  Min: 0.0 \n",
            "  Max: 15.0 \n",
            "  Median: 0.0 \n",
            "  Mean: 0.0 \n",
            "\n",
            "Details for Current_Loan_Amount \n",
            "  Min: 10802 \n",
            "  Max: 99999999 \n",
            "  Median: 312246.0 \n",
            "  Mean: 11760447.0 \n",
            "\n",
            "Details for Credit_Score \n",
            "  Min: 585.0 \n",
            "  Max: 7510.0 \n",
            "  Median: 724.0 \n",
            "  Mean: 1076.0 \n",
            "\n",
            "Details for Annual_Income \n",
            "  Min: 76627.0 \n",
            "  Max: 165557393.0 \n",
            "  Median: 1174162.0 \n",
            "  Mean: 1378277.0 \n",
            "\n",
            "Details for Years_in_current_job \n",
            "  Min: 1.0 \n",
            "  Max: 10.0 \n",
            "  Median: 6.0 \n",
            "  Mean: 6.0 \n",
            "\n",
            "Details for Monthly_Debt \n",
            "  Min: 0.0 \n",
            "  Max: 435843.28 \n",
            "  Median: 16220.0 \n",
            "  Mean: 18472.0 \n",
            "\n",
            "Details for Years_of_Credit_History \n",
            "  Min: 3.6 \n",
            "  Max: 70.5 \n",
            "  Median: 17.0 \n",
            "  Mean: 18.0 \n",
            "\n",
            "Details for Months_since_last_delinquent \n",
            "  Min: 0.0 \n",
            "  Max: 176.0 \n",
            "  Median: 32.0 \n",
            "  Mean: 35.0 \n",
            "\n",
            "Details for Number_of_Open_Accounts \n",
            "  Min: 0 \n",
            "  Max: 76 \n",
            "  Median: 10.0 \n",
            "  Mean: 11.0 \n",
            "\n",
            "Details for Number_of_Credit_Problems \n",
            "  Min: 0 \n",
            "  Max: 15 \n",
            "  Median: 0.0 \n",
            "  Mean: 0.0 \n",
            "\n",
            "Details for Current_Credit_Balance \n",
            "  Min: 0 \n",
            "  Max: 32878968 \n",
            "  Median: 209817.0 \n",
            "  Mean: 294637.0 \n",
            "\n",
            "Details for Maximum_Open_Credit \n",
            "  Min: 0.0 \n",
            "  Max: 1539737892.0 \n",
            "  Median: 467874.0 \n",
            "  Mean: 760798.0 \n",
            "\n",
            "Details for Bankruptcies \n",
            "  Min: 0.0 \n",
            "  Max: 7.0 \n",
            "  Median: 0.0 \n",
            "  Mean: 0.0 \n",
            "\n",
            "Details for Tax_Liens \n",
            "  Min: 0.0 \n",
            "  Max: 15.0 \n",
            "  Median: 0.0 \n",
            "  Mean: 0.0 \n",
            "\n"
          ]
        }
      ],
      "source": [
        "#review numerical data for anomalies\n",
        "for col in list(d.select_dtypes(include=['int', 'float']).columns):\n",
        "  print('Details for',col,\n",
        "        '\\n  Min:',d[col].min(),\n",
        "        '\\n  Max:',d[col].max(),\n",
        "        '\\n  Median:',d[col].median().round(),\n",
        "        '\\n  Mean:',d[col].mean().round(),'\\n'\n",
        "        )"
      ]
    },
    {
      "cell_type": "code",
      "execution_count": 9,
      "metadata": {
        "colab": {
          "base_uri": "https://localhost:8080/"
        },
        "id": "LtDK4Q959oBr",
        "outputId": "827c057b-c661-44da-876b-71c844cc0ba0"
      },
      "outputs": [
        {
          "name": "stdout",
          "output_type": "stream",
          "text": [
            "Min Outlier Values: 99999999 \n",
            "Max Outlier Values: 99999999 \n",
            "Count of values: 11484\n",
            "Min Outlier Values: 99999999 \n",
            "Max Outlier Values: 99999999 \n",
            "Count of values: 11484\n"
          ]
        }
      ],
      "source": [
        "#Amount: top value ranges\n",
        "top = d.query('Current_Loan_Amount > 800000')\n",
        "print('Min Outlier Values:',top['Current_Loan_Amount'].min(),\n",
        "      '\\nMax Outlier Values:',top['Current_Loan_Amount'].max(),\n",
        "      '\\nCount of values:',len(top.index))"
      ]
    },
    {
      "cell_type": "code",
      "execution_count": 10,
      "metadata": {
        "colab": {
          "base_uri": "https://localhost:8080/"
        },
        "id": "WxYqHPYfSD8N",
        "outputId": "4ff60072-d9b7-4fee-d194-a0717759cffe"
      },
      "outputs": [
        {
          "data": {
            "text/plain": [
              "Loan ID\n",
              "4fed402f-4298-4f5c-8d30-05b1f1819c00    789250\n",
              "b7923e12-395b-49d6-97ee-ca0ed25b65c2    789250\n",
              "Name: Current_Loan_Amount, dtype: int64"
            ]
          },
          "execution_count": null,
          "metadata": {},
          "output_type": "execute_result"
        }
      ],
      "source": [
        "#check the next highest values, as we wouldn't want to remove 10k+ samples\n",
        "check = d.query('Current_Loan_Amount < 800000')\n",
        "check['Current_Loan_Amount'].nlargest(2)"
      ]
    },
    {
      "cell_type": "code",
      "execution_count": 11,
      "metadata": {
        "colab": {
          "base_uri": "https://localhost:8080/"
        },
        "id": "LVDHYOA99yUx",
        "outputId": "026e79d9-7832-4af0-8950-ac8cd5cea089"
      },
      "outputs": [
        {
          "data": {
            "text/plain": [
              "1000000"
            ]
          },
          "execution_count": null,
          "metadata": {},
          "output_type": "execute_result"
        }
      ],
      "source": [
        "#Replace highest values with 1mil to bring them closer to the standard range\n",
        "d['Current_Loan_Amount'] = d['Current_Loan_Amount'].replace(99999999, 1000000)\n",
        "\n",
        "#verify\n",
        "d['Current_Loan_Amount'].max()"
      ]
    },
    {
      "cell_type": "code",
      "execution_count": 12,
      "metadata": {
        "colab": {
          "base_uri": "https://localhost:8080/",
          "height": 996
        },
        "id": "7nz__0rH9yLv",
        "outputId": "4787eee4-690d-46c3-8b56-fb5d4301a99d"
      },
      "outputs": [
        {
          "data": {
            "text/html": [
              "<div>\n",
              "<style scoped>\n",
              "    .dataframe tbody tr th:only-of-type {\n",
              "        vertical-align: middle;\n",
              "    }\n",
              "\n",
              "    .dataframe tbody tr th {\n",
              "        vertical-align: top;\n",
              "    }\n",
              "\n",
              "    .dataframe thead th {\n",
              "        text-align: right;\n",
              "    }\n",
              "</style>\n",
              "<table border=\"1\" class=\"dataframe\">\n",
              "  <thead>\n",
              "    <tr style=\"text-align: right;\">\n",
              "      <th></th>\n",
              "      <th>Customer_ID</th>\n",
              "      <th>Loan_Status</th>\n",
              "      <th>Current_Loan_Amount</th>\n",
              "      <th>Term</th>\n",
              "      <th>Credit_Score</th>\n",
              "      <th>Annual_Income</th>\n",
              "      <th>Years_in_current_job</th>\n",
              "      <th>Home_Ownership</th>\n",
              "      <th>Purpose</th>\n",
              "      <th>Monthly_Debt</th>\n",
              "      <th>Years_of_Credit_History</th>\n",
              "      <th>Months_since_last_delinquent</th>\n",
              "      <th>Number_of_Open_Accounts</th>\n",
              "      <th>Number_of_Credit_Problems</th>\n",
              "      <th>Current_Credit_Balance</th>\n",
              "      <th>Maximum_Open_Credit</th>\n",
              "      <th>Bankruptcies</th>\n",
              "      <th>Tax_Liens</th>\n",
              "    </tr>\n",
              "    <tr>\n",
              "      <th>Loan ID</th>\n",
              "      <th></th>\n",
              "      <th></th>\n",
              "      <th></th>\n",
              "      <th></th>\n",
              "      <th></th>\n",
              "      <th></th>\n",
              "      <th></th>\n",
              "      <th></th>\n",
              "      <th></th>\n",
              "      <th></th>\n",
              "      <th></th>\n",
              "      <th></th>\n",
              "      <th></th>\n",
              "      <th></th>\n",
              "      <th></th>\n",
              "      <th></th>\n",
              "      <th></th>\n",
              "      <th></th>\n",
              "    </tr>\n",
              "  </thead>\n",
              "  <tbody>\n",
              "    <tr>\n",
              "      <th>89d8cb0c-e5c2-4f54-b056-48a645c543dd</th>\n",
              "      <td>4ffe99d3-7f2a-44db-afc1-40943f1f9750</td>\n",
              "      <td>Charged_Off</td>\n",
              "      <td>206602</td>\n",
              "      <td>Short</td>\n",
              "      <td>7290.0</td>\n",
              "      <td>896857.0</td>\n",
              "      <td>10.0</td>\n",
              "      <td>Mortgage</td>\n",
              "      <td>Debt</td>\n",
              "      <td>16367.74</td>\n",
              "      <td>17.3</td>\n",
              "      <td>NaN</td>\n",
              "      <td>6</td>\n",
              "      <td>0</td>\n",
              "      <td>215308</td>\n",
              "      <td>272448.0</td>\n",
              "      <td>0.0</td>\n",
              "      <td>0.0</td>\n",
              "    </tr>\n",
              "    <tr>\n",
              "      <th>0c84b81a-e5a9-4a92-8dc8-fb179add03a4</th>\n",
              "      <td>628b0914-b1d7-4028-b590-b50f5da53d06</td>\n",
              "      <td>Charged_Off</td>\n",
              "      <td>288948</td>\n",
              "      <td>Short</td>\n",
              "      <td>7120.0</td>\n",
              "      <td>537472.0</td>\n",
              "      <td>10.0</td>\n",
              "      <td>Rent</td>\n",
              "      <td>Debt</td>\n",
              "      <td>5777.90</td>\n",
              "      <td>14.8</td>\n",
              "      <td>NaN</td>\n",
              "      <td>4</td>\n",
              "      <td>0</td>\n",
              "      <td>132468</td>\n",
              "      <td>164406.0</td>\n",
              "      <td>0.0</td>\n",
              "      <td>0.0</td>\n",
              "    </tr>\n",
              "    <tr>\n",
              "      <th>0daecc08-0354-4753-b282-52124b2420df</th>\n",
              "      <td>2884d362-391a-4941-af69-c825cae18002</td>\n",
              "      <td>Charged_Off</td>\n",
              "      <td>219692</td>\n",
              "      <td>Long</td>\n",
              "      <td>6610.0</td>\n",
              "      <td>527839.0</td>\n",
              "      <td>10.0</td>\n",
              "      <td>Rent</td>\n",
              "      <td>Debt</td>\n",
              "      <td>14207.63</td>\n",
              "      <td>17.0</td>\n",
              "      <td>48.0</td>\n",
              "      <td>9</td>\n",
              "      <td>0</td>\n",
              "      <td>254277</td>\n",
              "      <td>379918.0</td>\n",
              "      <td>0.0</td>\n",
              "      <td>0.0</td>\n",
              "    </tr>\n",
              "    <tr>\n",
              "      <th>a5ada080-a058-4ad2-8953-002b7ec1ae31</th>\n",
              "      <td>9966e08c-04a6-41ab-86d0-e4062c64bd41</td>\n",
              "      <td>Charged_Off</td>\n",
              "      <td>78012</td>\n",
              "      <td>Short</td>\n",
              "      <td>7380.0</td>\n",
              "      <td>728726.0</td>\n",
              "      <td>4.0</td>\n",
              "      <td>Rent</td>\n",
              "      <td>MajorPurchase</td>\n",
              "      <td>10135.36</td>\n",
              "      <td>11.4</td>\n",
              "      <td>NaN</td>\n",
              "      <td>8</td>\n",
              "      <td>0</td>\n",
              "      <td>104633</td>\n",
              "      <td>199936.0</td>\n",
              "      <td>0.0</td>\n",
              "      <td>0.0</td>\n",
              "    </tr>\n",
              "    <tr>\n",
              "      <th>1704367e-1d71-4551-8d33-49aa15cab4b1</th>\n",
              "      <td>88f97adf-070a-47b1-9657-38276eef7d19</td>\n",
              "      <td>Charged_Off</td>\n",
              "      <td>523908</td>\n",
              "      <td>Long</td>\n",
              "      <td>7370.0</td>\n",
              "      <td>1028774.0</td>\n",
              "      <td>6.0</td>\n",
              "      <td>Mortgage</td>\n",
              "      <td>Debt</td>\n",
              "      <td>22632.99</td>\n",
              "      <td>19.3</td>\n",
              "      <td>NaN</td>\n",
              "      <td>5</td>\n",
              "      <td>0</td>\n",
              "      <td>474658</td>\n",
              "      <td>742720.0</td>\n",
              "      <td>0.0</td>\n",
              "      <td>0.0</td>\n",
              "    </tr>\n",
              "    <tr>\n",
              "      <th>...</th>\n",
              "      <td>...</td>\n",
              "      <td>...</td>\n",
              "      <td>...</td>\n",
              "      <td>...</td>\n",
              "      <td>...</td>\n",
              "      <td>...</td>\n",
              "      <td>...</td>\n",
              "      <td>...</td>\n",
              "      <td>...</td>\n",
              "      <td>...</td>\n",
              "      <td>...</td>\n",
              "      <td>...</td>\n",
              "      <td>...</td>\n",
              "      <td>...</td>\n",
              "      <td>...</td>\n",
              "      <td>...</td>\n",
              "      <td>...</td>\n",
              "      <td>...</td>\n",
              "    </tr>\n",
              "    <tr>\n",
              "      <th>5eee6c31-62d4-400c-a81f-37bd373db926</th>\n",
              "      <td>039ee8d2-3321-4683-9592-cb1a360c34e2</td>\n",
              "      <td>Charged_Off</td>\n",
              "      <td>198572</td>\n",
              "      <td>Short</td>\n",
              "      <td>7420.0</td>\n",
              "      <td>526205.0</td>\n",
              "      <td>2.0</td>\n",
              "      <td>Rent</td>\n",
              "      <td>Debt</td>\n",
              "      <td>9910.02</td>\n",
              "      <td>16.5</td>\n",
              "      <td>NaN</td>\n",
              "      <td>8</td>\n",
              "      <td>0</td>\n",
              "      <td>296704</td>\n",
              "      <td>433224.0</td>\n",
              "      <td>0.0</td>\n",
              "      <td>0.0</td>\n",
              "    </tr>\n",
              "    <tr>\n",
              "      <th>ce1f8220-7eba-4ec1-8bef-ca28f4916801</th>\n",
              "      <td>3e108ac9-9b7c-44a9-9289-e389cf3085b1</td>\n",
              "      <td>Charged_Off</td>\n",
              "      <td>110924</td>\n",
              "      <td>Short</td>\n",
              "      <td>7070.0</td>\n",
              "      <td>804631.0</td>\n",
              "      <td>4.0</td>\n",
              "      <td>Rent</td>\n",
              "      <td>Debt</td>\n",
              "      <td>11533.00</td>\n",
              "      <td>13.3</td>\n",
              "      <td>61.0</td>\n",
              "      <td>9</td>\n",
              "      <td>0</td>\n",
              "      <td>60154</td>\n",
              "      <td>96470.0</td>\n",
              "      <td>0.0</td>\n",
              "      <td>0.0</td>\n",
              "    </tr>\n",
              "    <tr>\n",
              "      <th>096471bd-820e-4d0e-88a7-d699a59ab87a</th>\n",
              "      <td>4cfda7f6-790e-4493-a9b1-4d35a8b63af9</td>\n",
              "      <td>Charged_Off</td>\n",
              "      <td>175362</td>\n",
              "      <td>Short</td>\n",
              "      <td>6880.0</td>\n",
              "      <td>1060162.0</td>\n",
              "      <td>9.0</td>\n",
              "      <td>Rent</td>\n",
              "      <td>Debt</td>\n",
              "      <td>16079.13</td>\n",
              "      <td>17.3</td>\n",
              "      <td>NaN</td>\n",
              "      <td>13</td>\n",
              "      <td>0</td>\n",
              "      <td>277153</td>\n",
              "      <td>333234.0</td>\n",
              "      <td>0.0</td>\n",
              "      <td>0.0</td>\n",
              "    </tr>\n",
              "    <tr>\n",
              "      <th>36da0533-8664-4156-8e96-f0d07966acdb</th>\n",
              "      <td>070e3aa9-d077-404c-8946-59ce976e0b70</td>\n",
              "      <td>Charged_Off</td>\n",
              "      <td>88968</td>\n",
              "      <td>Short</td>\n",
              "      <td>6790.0</td>\n",
              "      <td>441845.0</td>\n",
              "      <td>1.0</td>\n",
              "      <td>Rent</td>\n",
              "      <td>Other</td>\n",
              "      <td>5375.86</td>\n",
              "      <td>8.5</td>\n",
              "      <td>NaN</td>\n",
              "      <td>10</td>\n",
              "      <td>0</td>\n",
              "      <td>193306</td>\n",
              "      <td>535458.0</td>\n",
              "      <td>0.0</td>\n",
              "      <td>0.0</td>\n",
              "    </tr>\n",
              "    <tr>\n",
              "      <th>0ee71c4c-10ca-4849-b437-314317022f62</th>\n",
              "      <td>05979eaa-82f7-4909-8cbb-548bd44d1b02</td>\n",
              "      <td>Charged_Off</td>\n",
              "      <td>205458</td>\n",
              "      <td>Long</td>\n",
              "      <td>6940.0</td>\n",
              "      <td>1681101.0</td>\n",
              "      <td>6.0</td>\n",
              "      <td>Rent</td>\n",
              "      <td>Business</td>\n",
              "      <td>14877.76</td>\n",
              "      <td>10.5</td>\n",
              "      <td>NaN</td>\n",
              "      <td>8</td>\n",
              "      <td>0</td>\n",
              "      <td>259844</td>\n",
              "      <td>527846.0</td>\n",
              "      <td>0.0</td>\n",
              "      <td>0.0</td>\n",
              "    </tr>\n",
              "  </tbody>\n",
              "</table>\n",
              "<p>4551 rows × 18 columns</p>\n",
              "</div>"
            ],
            "text/plain": [
              "                                                               Customer_ID  Loan_Status  ...  Bankruptcies Tax_Liens\n",
              "Loan ID                                                                                  ...                        \n",
              "89d8cb0c-e5c2-4f54-b056-48a645c543dd  4ffe99d3-7f2a-44db-afc1-40943f1f9750  Charged_Off  ...           0.0       0.0\n",
              "0c84b81a-e5a9-4a92-8dc8-fb179add03a4  628b0914-b1d7-4028-b590-b50f5da53d06  Charged_Off  ...           0.0       0.0\n",
              "0daecc08-0354-4753-b282-52124b2420df  2884d362-391a-4941-af69-c825cae18002  Charged_Off  ...           0.0       0.0\n",
              "a5ada080-a058-4ad2-8953-002b7ec1ae31  9966e08c-04a6-41ab-86d0-e4062c64bd41  Charged_Off  ...           0.0       0.0\n",
              "1704367e-1d71-4551-8d33-49aa15cab4b1  88f97adf-070a-47b1-9657-38276eef7d19  Charged_Off  ...           0.0       0.0\n",
              "...                                                                    ...          ...  ...           ...       ...\n",
              "5eee6c31-62d4-400c-a81f-37bd373db926  039ee8d2-3321-4683-9592-cb1a360c34e2  Charged_Off  ...           0.0       0.0\n",
              "ce1f8220-7eba-4ec1-8bef-ca28f4916801  3e108ac9-9b7c-44a9-9289-e389cf3085b1  Charged_Off  ...           0.0       0.0\n",
              "096471bd-820e-4d0e-88a7-d699a59ab87a  4cfda7f6-790e-4493-a9b1-4d35a8b63af9  Charged_Off  ...           0.0       0.0\n",
              "36da0533-8664-4156-8e96-f0d07966acdb  070e3aa9-d077-404c-8946-59ce976e0b70  Charged_Off  ...           0.0       0.0\n",
              "0ee71c4c-10ca-4849-b437-314317022f62  05979eaa-82f7-4909-8cbb-548bd44d1b02  Charged_Off  ...           0.0       0.0\n",
              "\n",
              "[4551 rows x 18 columns]"
            ]
          },
          "execution_count": null,
          "metadata": {},
          "output_type": "execute_result"
        }
      ],
      "source": [
        "#Credit scores: review anything outside standard values\n",
        "d.query('Credit_Score > 800')"
      ]
    },
    {
      "cell_type": "code",
      "execution_count": 13,
      "metadata": {
        "colab": {
          "base_uri": "https://localhost:8080/"
        },
        "id": "Y0tA6mR89x_J",
        "outputId": "05666fcf-d55a-4ab2-df2b-7c7f7a5dcaa0"
      },
      "outputs": [
        {
          "data": {
            "text/plain": [
              "729.0"
            ]
          },
          "execution_count": null,
          "metadata": {},
          "output_type": "execute_result"
        }
      ],
      "source": [
        "#Credit scores: adjust any with extra 0's (likely typos)\n",
        "for row in range(0,len(d.index)):\n",
        "  if d.iloc[row,4] > 800:\n",
        "    d.iloc[row,4] = d.iloc[row,4]/10\n",
        "\n",
        "#verify\n",
        "d.loc['89d8cb0c-e5c2-4f54-b056-48a645c543dd','Credit_Score']"
      ]
    },
    {
      "cell_type": "code",
      "execution_count": 14,
      "metadata": {
        "colab": {
          "base_uri": "https://localhost:8080/"
        },
        "id": "PQZP7rVSy-YR",
        "outputId": "ee71c3cb-7b9f-4ecc-ed02-2b8621af9e82"
      },
      "outputs": [
        {
          "name": "stdout",
          "output_type": "stream",
          "text": [
            "Min Outlier Values: 10148546.0 \n",
            "Max Outlier Values: 165557393.0 \n",
            "Total Outlier Values: 68\n",
            "Min Outlier Values: 10148546.0 \n",
            "Max Outlier Values: 165557393.0 \n",
            "Total Outlier Values: 68\n"
          ]
        }
      ],
      "source": [
        "#Income: review top value ranges\n",
        "top = d.query('Annual_Income > 10000000')\n",
        "print('Min Outlier Values:',top['Annual_Income'].min(),\n",
        "      '\\nMax Outlier Values:',top['Annual_Income'].max(),\n",
        "      '\\nTotal Outlier Values:',len(top.index))"
      ]
    },
    {
      "cell_type": "code",
      "execution_count": 15,
      "metadata": {
        "id": "uyOu-entzYvz"
      },
      "outputs": [],
      "source": [
        "#Income: remove any at or above 10mil\n",
        "d = d.query('Annual_Income < 10000000')"
      ]
    },
    {
      "cell_type": "code",
      "execution_count": 16,
      "metadata": {
        "colab": {
          "base_uri": "https://localhost:8080/"
        },
        "id": "qDyXh89uYRas",
        "outputId": "2f3345f5-620e-451e-aeb4-f94b6953b51a"
      },
      "outputs": [
        {
          "data": {
            "text/plain": [
              "(80778, 18)"
            ]
          },
          "execution_count": null,
          "metadata": {},
          "output_type": "execute_result"
        }
      ],
      "source": [
        "d.shape"
      ]
    },
    {
      "cell_type": "markdown",
      "metadata": {
        "id": "e0z5Kk0h-L_L"
      },
      "source": [
        "## Data preprocessing\n",
        "\n",
        "Prior to our analysis we will clean the data to elimitate and account for values that will impact the accuracy of our analysis. In this section we will:\n",
        "\n",
        "\n",
        "1.   Review samples with null values to remove or fill in those values according to use case.\n",
        "2. Review outliers for each numerical variable to adjust and remove as needed.\n",
        "3.   Establish an additional column that has a count of total loans in this dataset for each customer.\n",
        "4. Make binary columns for text-based column values to ensure all data is numerical.\n",
        "\n"
      ]
    },
    {
      "cell_type": "code",
      "execution_count": 17,
      "metadata": {
        "colab": {
          "base_uri": "https://localhost:8080/"
        },
        "id": "nj8igkq2aNVn",
        "outputId": "da2fb476-f051-499f-c020-fb587dbb8494"
      },
      "outputs": [
        {
          "name": "stdout",
          "output_type": "stream",
          "text": [
            "Customer_ID                         0\n",
            "Loan_Status                         0\n",
            "Current_Loan_Amount                 0\n",
            "Term                                0\n",
            "Credit_Score                        0\n",
            "Annual_Income                       0\n",
            "Years_in_current_job             3412\n",
            "Home_Ownership                      0\n",
            "Purpose                             0\n",
            "Monthly_Debt                        0\n",
            "Years_of_Credit_History             0\n",
            "Months_since_last_delinquent    42637\n",
            "Number_of_Open_Accounts             0\n",
            "Number_of_Credit_Problems           0\n",
            "Current_Credit_Balance              0\n",
            "Maximum_Open_Credit                 1\n",
            "Bankruptcies                      161\n",
            "Tax_Liens                           6\n",
            "dtype: int64\n",
            "\n",
            "Rows with Missing Data: 44386\n",
            "Customer_ID                         0\n",
            "Loan_Status                         0\n",
            "Current_Loan_Amount                 0\n",
            "Term                                0\n",
            "Credit_Score                        0\n",
            "Annual_Income                       0\n",
            "Years_in_current_job             3412\n",
            "Home_Ownership                      0\n",
            "Purpose                             0\n",
            "Monthly_Debt                        0\n",
            "Years_of_Credit_History             0\n",
            "Months_since_last_delinquent    42637\n",
            "Number_of_Open_Accounts             0\n",
            "Number_of_Credit_Problems           0\n",
            "Current_Credit_Balance              0\n",
            "Maximum_Open_Credit                 1\n",
            "Bankruptcies                      161\n",
            "Tax_Liens                           6\n",
            "dtype: int64\n",
            "\n",
            "Rows with Missing Data: 44386\n"
          ]
        }
      ],
      "source": [
        "#check for NaN\n",
        "print(d.isna().sum())\n",
        "print('\\nRows with Missing Data:', d.isnull().any(axis=1).sum())"
      ]
    },
    {
      "cell_type": "code",
      "execution_count": 18,
      "metadata": {
        "colab": {
          "base_uri": "https://localhost:8080/"
        },
        "id": "HsElLf6EwD0j",
        "outputId": "2af379e2-cbfa-4d6f-9ab0-73de41f0ba2b"
      },
      "outputs": [
        {
          "name": "stdout",
          "output_type": "stream",
          "text": [
            "Details for Years_in_current_job \n",
            "  Min: 1.0 \n",
            "  Max: 10.0 \n",
            "  Median: 6.0 \n",
            "  Mean: 6.0 \n",
            "\n",
            "Details for Months_since_last_delinquent \n",
            "  Min: 0.0 \n",
            "  Max: 176.0 \n",
            "  Median: 32.0 \n",
            "  Mean: 35.0 \n",
            "\n",
            "Details for Bankruptcies \n",
            "  Min: 0.0 \n",
            "  Max: 7.0 \n",
            "  Median: 0.0 \n",
            "  Mean: 0.0 \n",
            "\n",
            "Details for Years_in_current_job \n",
            "  Min: 1.0 \n",
            "  Max: 10.0 \n",
            "  Median: 6.0 \n",
            "  Mean: 6.0 \n",
            "\n",
            "Details for Months_since_last_delinquent \n",
            "  Min: 0.0 \n",
            "  Max: 176.0 \n",
            "  Median: 32.0 \n",
            "  Mean: 35.0 \n",
            "\n",
            "Details for Bankruptcies \n",
            "  Min: 0.0 \n",
            "  Max: 7.0 \n",
            "  Median: 0.0 \n",
            "  Mean: 0.0 \n",
            "\n"
          ]
        }
      ],
      "source": [
        "#drop rows with na values in columns that have few na values\n",
        "d = d.dropna(subset = ['Maximum_Open_Credit','Tax_Liens'])\n",
        "\n",
        "#review na col details\n",
        "nacol = d.columns[d.isna().any()].tolist()\n",
        "for col in nacol:\n",
        "  print('Details for',col,\n",
        "        '\\n  Min:',d[col].min(),\n",
        "        '\\n  Max:',d[col].max(),\n",
        "        '\\n  Median:',d[col].median().round(),\n",
        "        '\\n  Mean:',d[col].mean().round(),'\\n'\n",
        "        )"
      ]
    },
    {
      "cell_type": "code",
      "execution_count": 19,
      "metadata": {
        "id": "YlvJtRr8-N9j"
      },
      "outputs": [],
      "source": [
        "#fill in median remaining na values\n",
        "d = d.fillna(d.median(numeric_only = True))"
      ]
    },
    {
      "cell_type": "markdown",
      "metadata": {
        "id": "euXifRSJNGyt"
      },
      "source": [
        "Now that we've removed the most obvious data errors and outliers, we'll conduct a visual review to make further adjustments on samples that might skew our data."
      ]
    },
    {
      "cell_type": "code",
      "execution_count": 20,
      "metadata": {
        "colab": {
          "base_uri": "https://localhost:8080/",
          "height": 183
        },
        "id": "jdTqTPusLeA6",
        "outputId": "56208210-0777-41d5-dd86-8e3fbba3bab9"
      },
      "outputs": [
        {
          "data": {
            "text/plain": [
              "<Axes: xlabel='Current_Loan_Amount'>"
            ]
          },
          "execution_count": null,
          "metadata": {},
          "output_type": "execute_result"
        },
        {
          "data": {
            "image/png": "[encoded data removed]",
            "text/plain": [
              "<Figure size 1000x100 with 1 Axes>"
            ]
          },
          "metadata": {},
          "output_type": "display_data"
        }
      ],
      "source": [
        "plt.figure(figsize=(10,1))\n",
        "sns.boxplot(x=d['Current_Loan_Amount'], color='darkorange')"
      ]
    },
    {
      "cell_type": "code",
      "execution_count": 21,
      "metadata": {
        "colab": {
          "base_uri": "https://localhost:8080/",
          "height": 184
        },
        "id": "hvQ36lm0MeDG",
        "outputId": "3c4fb4bb-345c-4a7e-8fd0-5eede91b76ef"
      },
      "outputs": [
        {
          "data": {
            "text/plain": [
              "<Axes: xlabel='Credit_Score'>"
            ]
          },
          "execution_count": null,
          "metadata": {},
          "output_type": "execute_result"
        },
        {
          "data": {
            "image/png": "[encoded data removed]",
            "text/plain": [
              "<Figure size 1000x100 with 1 Axes>"
            ]
          },
          "metadata": {},
          "output_type": "display_data"
        }
      ],
      "source": [
        "plt.figure(figsize=(10,1))\n",
        "sns.boxplot(x=d['Credit_Score'], color='indigo')"
      ]
    },
    {
      "cell_type": "code",
      "execution_count": 22,
      "metadata": {
        "colab": {
          "base_uri": "https://localhost:8080/",
          "height": 184
        },
        "id": "vFHhgWBHMfsF",
        "outputId": "9cf28233-6dfc-43cd-9900-b5f82f8230a8"
      },
      "outputs": [
        {
          "data": {
            "text/plain": [
              "<Axes: xlabel='Annual_Income'>"
            ]
          },
          "execution_count": null,
          "metadata": {},
          "output_type": "execute_result"
        },
        {
          "data": {
            "image/png": "[encoded data removed]",
            "text/plain": [
              "<Figure size 1000x100 with 1 Axes>"
            ]
          },
          "metadata": {},
          "output_type": "display_data"
        }
      ],
      "source": [
        "plt.figure(figsize=(10,1))\n",
        "sns.boxplot(x=d['Annual_Income'], color='darkorange')"
      ]
    },
    {
      "cell_type": "code",
      "execution_count": 23,
      "metadata": {
        "colab": {
          "base_uri": "https://localhost:8080/"
        },
        "id": "ZI8Ljt23Nf1H",
        "outputId": "a93331a4-051c-487c-b6ff-28b7af2dda2c"
      },
      "outputs": [
        {
          "data": {
            "text/plain": [
              "513"
            ]
          },
          "execution_count": null,
          "metadata": {},
          "output_type": "execute_result"
        }
      ],
      "source": [
        "#review count of upper income values to determine cutoff\n",
        "len(d[d[\"Annual_Income\"] > 5000000])"
      ]
    },
    {
      "cell_type": "code",
      "execution_count": 24,
      "metadata": {
        "colab": {
          "base_uri": "https://localhost:8080/"
        },
        "id": "KKlO7nSTOTi9",
        "outputId": "839625b2-6855-41dd-a02a-373f8d54659b"
      },
      "outputs": [
        {
          "data": {
            "text/plain": [
              "(80258, 18)"
            ]
          },
          "execution_count": null,
          "metadata": {},
          "output_type": "execute_result"
        }
      ],
      "source": [
        "#limit dataframe to values below cutoff\n",
        "d = d.query('Annual_Income < 5000000')\n",
        "d.shape"
      ]
    },
    {
      "cell_type": "code",
      "execution_count": 25,
      "metadata": {
        "colab": {
          "base_uri": "https://localhost:8080/",
          "height": 184
        },
        "id": "5MQxILH7Mg9N",
        "outputId": "53c35e87-8cd1-4d50-9452-285cccb7af14"
      },
      "outputs": [
        {
          "data": {
            "text/plain": [
              "<Axes: xlabel='Years_in_current_job'>"
            ]
          },
          "execution_count": null,
          "metadata": {},
          "output_type": "execute_result"
        },
        {
          "data": {
            "image/png": "[encoded data removed]",
            "text/plain": [
              "<Figure size 1000x100 with 1 Axes>"
            ]
          },
          "metadata": {},
          "output_type": "display_data"
        }
      ],
      "source": [
        "plt.figure(figsize=(10,1))\n",
        "sns.boxplot(x=d['Years_in_current_job'], color='indigo')"
      ]
    },
    {
      "cell_type": "code",
      "execution_count": 26,
      "metadata": {
        "colab": {
          "base_uri": "https://localhost:8080/",
          "height": 184
        },
        "id": "9WQs1Fx9MiFs",
        "outputId": "1c81f282-61f5-46c3-a8a4-f75447e76beb"
      },
      "outputs": [
        {
          "data": {
            "text/plain": [
              "<Axes: xlabel='Monthly_Debt'>"
            ]
          },
          "execution_count": null,
          "metadata": {},
          "output_type": "execute_result"
        },
        {
          "data": {
            "image/png": "[encoded data removed]",
            "text/plain": [
              "<Figure size 1000x100 with 1 Axes>"
            ]
          },
          "metadata": {},
          "output_type": "display_data"
        }
      ],
      "source": [
        "plt.figure(figsize=(10,1))\n",
        "sns.boxplot(x=d['Monthly_Debt'], color='darkorange')"
      ]
    },
    {
      "cell_type": "code",
      "execution_count": 27,
      "metadata": {
        "colab": {
          "base_uri": "https://localhost:8080/"
        },
        "id": "Ig13R-p_WkL7",
        "outputId": "b01fd45b-9d06-4c79-9b44-e0da33e7ecd2"
      },
      "outputs": [
        {
          "data": {
            "text/plain": [
              "13"
            ]
          },
          "execution_count": null,
          "metadata": {},
          "output_type": "execute_result"
        }
      ],
      "source": [
        "#count outliers to help determine cutoff\n",
        "len(d[d[\"Monthly_Debt\"] > 100000])"
      ]
    },
    {
      "cell_type": "code",
      "execution_count": 28,
      "metadata": {
        "colab": {
          "base_uri": "https://localhost:8080/"
        },
        "id": "If8ProWLO1Vl",
        "outputId": "92bf4611-00bb-47f2-82e4-9687dd405001"
      },
      "outputs": [
        {
          "data": {
            "text/plain": [
              "(80245, 18)"
            ]
          },
          "execution_count": null,
          "metadata": {},
          "output_type": "execute_result"
        }
      ],
      "source": [
        "#limit dataframe to remove outliers\n",
        "d = d.query('Monthly_Debt < 100000')\n",
        "d.shape"
      ]
    },
    {
      "cell_type": "code",
      "execution_count": 29,
      "metadata": {
        "colab": {
          "base_uri": "https://localhost:8080/",
          "height": 184
        },
        "id": "h-79qoF2Mj06",
        "outputId": "1ec4bf1c-63b3-45c0-c0c1-6e463ac4cd29"
      },
      "outputs": [
        {
          "data": {
            "text/plain": [
              "<Axes: xlabel='Years_of_Credit_History'>"
            ]
          },
          "execution_count": null,
          "metadata": {},
          "output_type": "execute_result"
        },
        {
          "data": {
            "image/png": "[encoded data removed]",
            "text/plain": [
              "<Figure size 1000x100 with 1 Axes>"
            ]
          },
          "metadata": {},
          "output_type": "display_data"
        }
      ],
      "source": [
        "plt.figure(figsize=(10,1))\n",
        "sns.boxplot(x=d['Years_of_Credit_History'], color='indigo')"
      ]
    },
    {
      "cell_type": "code",
      "execution_count": 30,
      "metadata": {
        "colab": {
          "base_uri": "https://localhost:8080/"
        },
        "id": "7Qb3YiqwW3DI",
        "outputId": "ab732858-6cd9-4736-b7fb-8276463c00b1"
      },
      "outputs": [
        {
          "data": {
            "text/plain": [
              "65"
            ]
          },
          "execution_count": null,
          "metadata": {},
          "output_type": "execute_result"
        }
      ],
      "source": [
        "#count outliers to help determine cutoff\n",
        "len(d[d[\"Years_of_Credit_History\"] > 50])"
      ]
    },
    {
      "cell_type": "code",
      "execution_count": 31,
      "metadata": {
        "colab": {
          "base_uri": "https://localhost:8080/"
        },
        "id": "DLnay8N1O8gs",
        "outputId": "4dfa8fb2-8829-443a-d6b7-703eb3a824db"
      },
      "outputs": [
        {
          "data": {
            "text/plain": [
              "(80176, 18)"
            ]
          },
          "execution_count": null,
          "metadata": {},
          "output_type": "execute_result"
        }
      ],
      "source": [
        "#limit dataframe to remove outliers\n",
        "d = d.query('Years_of_Credit_History < 50')\n",
        "d.shape"
      ]
    },
    {
      "cell_type": "code",
      "execution_count": 32,
      "metadata": {
        "colab": {
          "base_uri": "https://localhost:8080/",
          "height": 184
        },
        "id": "AbC5VSjqMlEf",
        "outputId": "c09624b2-3282-4775-8146-bbad8c417efe"
      },
      "outputs": [
        {
          "data": {
            "text/plain": [
              "<Axes: xlabel='Months_since_last_delinquent'>"
            ]
          },
          "execution_count": null,
          "metadata": {},
          "output_type": "execute_result"
        },
        {
          "data": {
            "image/png": "[encoded data removed]",
            "text/plain": [
              "<Figure size 1000x100 with 1 Axes>"
            ]
          },
          "metadata": {},
          "output_type": "display_data"
        }
      ],
      "source": [
        "plt.figure(figsize=(10,1))\n",
        "sns.boxplot(x=d['Months_since_last_delinquent'], color='darkorange')"
      ]
    },
    {
      "cell_type": "code",
      "execution_count": 33,
      "metadata": {
        "colab": {
          "base_uri": "https://localhost:8080/"
        },
        "id": "SBABB40yW_je",
        "outputId": "dbaeaccf-a2eb-4fd7-f77e-dc99f439faa5"
      },
      "outputs": [
        {
          "data": {
            "text/plain": [
              "14"
            ]
          },
          "execution_count": null,
          "metadata": {},
          "output_type": "execute_result"
        }
      ],
      "source": [
        "#count outliers to help determine cutoff\n",
        "len(d[d[\"Months_since_last_delinquent\"] > 99])"
      ]
    },
    {
      "cell_type": "code",
      "execution_count": 34,
      "metadata": {
        "colab": {
          "base_uri": "https://localhost:8080/"
        },
        "id": "CcbAmn3ePICV",
        "outputId": "fc2489cb-9597-4a3c-b171-a1b42d5b453f"
      },
      "outputs": [
        {
          "data": {
            "text/plain": [
              "(80162, 18)"
            ]
          },
          "execution_count": null,
          "metadata": {},
          "output_type": "execute_result"
        }
      ],
      "source": [
        "#limit dataframe to remove outliers\n",
        "d = d.query('Months_since_last_delinquent < 100')\n",
        "d.shape"
      ]
    },
    {
      "cell_type": "code",
      "execution_count": 35,
      "metadata": {
        "colab": {
          "base_uri": "https://localhost:8080/",
          "height": 184
        },
        "id": "_t4MwunRMmWI",
        "outputId": "ddaeaa1b-884a-4fc8-c609-d8e3aa847282"
      },
      "outputs": [
        {
          "data": {
            "text/plain": [
              "<Axes: xlabel='Number_of_Open_Accounts'>"
            ]
          },
          "execution_count": null,
          "metadata": {},
          "output_type": "execute_result"
        },
        {
          "data": {
            "image/png": "[encoded data removed]",
            "text/plain": [
              "<Figure size 1000x100 with 1 Axes>"
            ]
          },
          "metadata": {},
          "output_type": "display_data"
        }
      ],
      "source": [
        "plt.figure(figsize=(10,1))\n",
        "sns.boxplot(x=d['Number_of_Open_Accounts'], color='indigo')"
      ]
    },
    {
      "cell_type": "code",
      "execution_count": 36,
      "metadata": {
        "colab": {
          "base_uri": "https://localhost:8080/"
        },
        "id": "OkW_SSi0XInV",
        "outputId": "ba6b7fcc-52d9-4495-df6b-34e3c604e7ad"
      },
      "outputs": [
        {
          "data": {
            "text/plain": [
              "301"
            ]
          },
          "execution_count": null,
          "metadata": {},
          "output_type": "execute_result"
        }
      ],
      "source": [
        "#count outliers to help determine cutoff\n",
        "len(d[d[\"Number_of_Open_Accounts\"] > 30])"
      ]
    },
    {
      "cell_type": "code",
      "execution_count": 37,
      "metadata": {
        "colab": {
          "base_uri": "https://localhost:8080/"
        },
        "id": "Uix11ZE6PPwM",
        "outputId": "40a23a29-5591-4db8-f1d9-d7a97551e8d7"
      },
      "outputs": [
        {
          "data": {
            "text/plain": [
              "(79775, 18)"
            ]
          },
          "execution_count": null,
          "metadata": {},
          "output_type": "execute_result"
        }
      ],
      "source": [
        "#limit dataframe to remove outliers\n",
        "d = d.query('Number_of_Open_Accounts < 30')\n",
        "d.shape"
      ]
    },
    {
      "cell_type": "code",
      "execution_count": 38,
      "metadata": {
        "colab": {
          "base_uri": "https://localhost:8080/",
          "height": 184
        },
        "id": "dM0aDbfGMnhS",
        "outputId": "e96d858e-a294-49c3-a914-38a4cfa0883e"
      },
      "outputs": [
        {
          "data": {
            "text/plain": [
              "<Axes: xlabel='Number_of_Credit_Problems'>"
            ]
          },
          "execution_count": null,
          "metadata": {},
          "output_type": "execute_result"
        },
        {
          "data": {
            "image/png": "[encoded data removed]",
            "text/plain": [
              "<Figure size 1000x100 with 1 Axes>"
            ]
          },
          "metadata": {},
          "output_type": "display_data"
        }
      ],
      "source": [
        "plt.figure(figsize=(10,1))\n",
        "sns.boxplot(x=d['Number_of_Credit_Problems'], color='darkorange')"
      ]
    },
    {
      "cell_type": "code",
      "execution_count": 39,
      "metadata": {
        "colab": {
          "base_uri": "https://localhost:8080/"
        },
        "id": "Zh7JBev6XRbQ",
        "outputId": "5ce9dc60-fd25-4e04-851a-1d9ed726ca12"
      },
      "outputs": [
        {
          "data": {
            "text/plain": [
              "476"
            ]
          },
          "execution_count": null,
          "metadata": {},
          "output_type": "execute_result"
        }
      ],
      "source": [
        "#count outliers to help determine cutoff\n",
        "len(d[d[\"Number_of_Credit_Problems\"] > 2])"
      ]
    },
    {
      "cell_type": "code",
      "execution_count": 40,
      "metadata": {
        "colab": {
          "base_uri": "https://localhost:8080/"
        },
        "id": "CoCrQdawPWvz",
        "outputId": "56680167-3846-4807-a60e-e3039526ad96"
      },
      "outputs": [
        {
          "data": {
            "text/plain": [
              "(78258, 18)"
            ]
          },
          "execution_count": null,
          "metadata": {},
          "output_type": "execute_result"
        }
      ],
      "source": [
        "#limit dataframe to remove outliers\n",
        "d = d.query('Number_of_Credit_Problems < 2')\n",
        "d.shape"
      ]
    },
    {
      "cell_type": "code",
      "execution_count": 41,
      "metadata": {
        "colab": {
          "base_uri": "https://localhost:8080/",
          "height": 184
        },
        "id": "OZF09xhaMo8F",
        "outputId": "25e263ce-0aed-4a08-ef5b-153a2bcc0405"
      },
      "outputs": [
        {
          "data": {
            "text/plain": [
              "<Axes: xlabel='Current_Credit_Balance'>"
            ]
          },
          "execution_count": null,
          "metadata": {},
          "output_type": "execute_result"
        },
        {
          "data": {
            "image/png": "[encoded data removed]",
            "text/plain": [
              "<Figure size 1000x100 with 1 Axes>"
            ]
          },
          "metadata": {},
          "output_type": "display_data"
        }
      ],
      "source": [
        "plt.figure(figsize=(10,1))\n",
        "sns.boxplot(x=d['Current_Credit_Balance'], color='indigo')"
      ]
    },
    {
      "cell_type": "code",
      "execution_count": 42,
      "metadata": {
        "colab": {
          "base_uri": "https://localhost:8080/"
        },
        "id": "IArM1wNNPm6_",
        "outputId": "13097691-399f-4dc4-874e-9212957870f5"
      },
      "outputs": [
        {
          "data": {
            "text/plain": [
              "728"
            ]
          },
          "execution_count": null,
          "metadata": {},
          "output_type": "execute_result"
        }
      ],
      "source": [
        "#review count of upper credit balances to determine cutoff\n",
        "len(d[d[\"Current_Credit_Balance\"] > 1500000])"
      ]
    },
    {
      "cell_type": "code",
      "execution_count": 43,
      "metadata": {
        "colab": {
          "base_uri": "https://localhost:8080/"
        },
        "id": "aDydkbIpPr-q",
        "outputId": "3587adc9-f43f-494d-b097-9e5a27be399e"
      },
      "outputs": [
        {
          "data": {
            "text/plain": [
              "(77530, 18)"
            ]
          },
          "execution_count": null,
          "metadata": {},
          "output_type": "execute_result"
        }
      ],
      "source": [
        "#limit dataframe to below cutoff\n",
        "d = d.query('Current_Credit_Balance < 1500000')\n",
        "d.shape"
      ]
    },
    {
      "cell_type": "code",
      "execution_count": 44,
      "metadata": {
        "colab": {
          "base_uri": "https://localhost:8080/",
          "height": 184
        },
        "id": "TZDp6EYsMqEb",
        "outputId": "5903a105-6291-4c5a-de5c-2fbfa5a68364"
      },
      "outputs": [
        {
          "data": {
            "text/plain": [
              "<Axes: xlabel='Maximum_Open_Credit'>"
            ]
          },
          "execution_count": null,
          "metadata": {},
          "output_type": "execute_result"
        },
        {
          "data": {
            "image/png": "[encoded data removed]",
            "text/plain": [
              "<Figure size 1000x100 with 1 Axes>"
            ]
          },
          "metadata": {},
          "output_type": "display_data"
        }
      ],
      "source": [
        "plt.figure(figsize=(10,1))\n",
        "sns.boxplot(x=d['Maximum_Open_Credit'], color='darkorange')"
      ]
    },
    {
      "cell_type": "code",
      "execution_count": 45,
      "metadata": {
        "colab": {
          "base_uri": "https://localhost:8080/"
        },
        "id": "8QlLG06IP7jH",
        "outputId": "01259c00-4061-4e73-d053-709a5733c834"
      },
      "outputs": [
        {
          "data": {
            "text/plain": [
              "728"
            ]
          },
          "execution_count": null,
          "metadata": {},
          "output_type": "execute_result"
        }
      ],
      "source": [
        "#review count of maximum open credit to determine cutoff\n",
        "len(d[d[\"Maximum_Open_Credit\"] > 2500000])"
      ]
    },
    {
      "cell_type": "code",
      "execution_count": 46,
      "metadata": {
        "colab": {
          "base_uri": "https://localhost:8080/"
        },
        "id": "5q9FlarLP-lV",
        "outputId": "e9798b45-eb43-4f6d-b203-a63266a2f0bd"
      },
      "outputs": [
        {
          "data": {
            "text/plain": [
              "(76802, 18)"
            ]
          },
          "execution_count": null,
          "metadata": {},
          "output_type": "execute_result"
        }
      ],
      "source": [
        "#limit dataframe to below cutoff\n",
        "d = d.query('Maximum_Open_Credit < 2500000')\n",
        "d.shape"
      ]
    },
    {
      "cell_type": "code",
      "execution_count": 47,
      "metadata": {
        "colab": {
          "base_uri": "https://localhost:8080/",
          "height": 183
        },
        "id": "HOpeqrh2MrIY",
        "outputId": "f680cde3-42eb-4cf1-9f1d-ee4b6c97d24c"
      },
      "outputs": [
        {
          "data": {
            "text/plain": [
              "<Axes: xlabel='Bankruptcies'>"
            ]
          },
          "execution_count": null,
          "metadata": {},
          "output_type": "execute_result"
        },
        {
          "data": {
            "image/png": "[encoded data removed]",
            "text/plain": [
              "<Figure size 1000x100 with 1 Axes>"
            ]
          },
          "metadata": {},
          "output_type": "display_data"
        }
      ],
      "source": [
        "plt.figure(figsize=(10,1))\n",
        "sns.boxplot(x=d['Bankruptcies'], color='indigo')"
      ]
    },
    {
      "cell_type": "code",
      "execution_count": 48,
      "metadata": {
        "colab": {
          "base_uri": "https://localhost:8080/"
        },
        "id": "G2q6hn1XQaA_",
        "outputId": "d7578e40-846f-4773-90d2-edea409c395c"
      },
      "outputs": [
        {
          "data": {
            "text/plain": [
              "8016"
            ]
          },
          "execution_count": null,
          "metadata": {},
          "output_type": "execute_result"
        }
      ],
      "source": [
        "#review count of individuals with bankrupcies\n",
        "len(d[d[\"Bankruptcies\"] > 0]) #do not remove bankruptcies"
      ]
    },
    {
      "cell_type": "code",
      "execution_count": 49,
      "metadata": {
        "colab": {
          "base_uri": "https://localhost:8080/",
          "height": 184
        },
        "id": "7GFP_sC0MsLG",
        "outputId": "57d5f4cd-7cef-47ec-e5c8-babc9324df85"
      },
      "outputs": [
        {
          "data": {
            "text/plain": [
              "(76802, 18)"
            ]
          },
          "execution_count": null,
          "metadata": {},
          "output_type": "execute_result"
        },
        {
          "data": {
            "image/png": "[encoded data removed]",
            "text/plain": [
              "<Figure size 1000x100 with 1 Axes>"
            ]
          },
          "metadata": {},
          "output_type": "display_data"
        }
      ],
      "source": [
        "plt.figure(figsize=(10,1))\n",
        "sns.boxplot(x=d['Tax_Liens'], color='darkorange')\n",
        "d.shape"
      ]
    },
    {
      "cell_type": "code",
      "execution_count": 50,
      "metadata": {
        "colab": {
          "base_uri": "https://localhost:8080/"
        },
        "id": "E5KlhUprQuf3",
        "outputId": "2a13baff-cc9b-4618-c347-4d54b17bab9f"
      },
      "outputs": [
        {
          "data": {
            "text/plain": [
              "750"
            ]
          },
          "execution_count": null,
          "metadata": {},
          "output_type": "execute_result"
        }
      ],
      "source": [
        "#review count of individuals with bankrupcies\n",
        "len(d[d[\"Tax_Liens\"] > 0])"
      ]
    },
    {
      "cell_type": "code",
      "execution_count": 51,
      "metadata": {
        "colab": {
          "base_uri": "https://localhost:8080/"
        },
        "id": "lw9nflZIQ6Mx",
        "outputId": "52cc2633-e3d9-4294-e1d4-c4fcca730194"
      },
      "outputs": [
        {
          "data": {
            "text/plain": [
              "(76052, 17)"
            ]
          },
          "execution_count": null,
          "metadata": {},
          "output_type": "execute_result"
        }
      ],
      "source": [
        "#remove rows with tax liens\n",
        "d = d.query('Tax_Liens == 0')\n",
        "d = d.drop(columns = 'Tax_Liens')\n",
        "d.shape"
      ]
    },
    {
      "cell_type": "code",
      "execution_count": 52,
      "metadata": {
        "colab": {
          "base_uri": "https://localhost:8080/"
        },
        "id": "bmxn4rCuayRn",
        "outputId": "06574079-774e-47c7-cca9-e97c0e7dcd71"
      },
      "outputs": [
        {
          "name": "stdout",
          "output_type": "stream",
          "text": [
            "<class 'pandas.core.frame.DataFrame'>\n",
            "RangeIndex: 76052 entries, 0 to 76051\n",
            "Data columns (total 25 columns):\n",
            " #   Column                        Non-Null Count  Dtype  \n",
            "---  ------                        --------------  -----  \n",
            " 0   Charged_Off                   76052 non-null  bool   \n",
            " 1   Loan_Amount                   76052 non-null  int64  \n",
            " 2   Credit_Score                  76052 non-null  float64\n",
            " 3   Annual_Income                 76052 non-null  float64\n",
            " 4   Employment_Years              76052 non-null  float64\n",
            " 5   Monthly_Debt                  76052 non-null  float64\n",
            " 6   Credit_History_Years          76052 non-null  float64\n",
            " 7   Months_Last_Delinquent        76052 non-null  float64\n",
            " 8   Total_Open_Accts              76052 non-null  int64  \n",
            " 9   Credit_Problems               76052 non-null  int64  \n",
            " 10  Credit_Balance                76052 non-null  int64  \n",
            " 11  Max_Credit                    76052 non-null  float64\n",
            " 12  Bankruptcies                  76052 non-null  float64\n",
            " 13  Num_Loans                     76052 non-null  int64  \n",
            " 14  Term_Short                    76052 non-null  bool   \n",
            " 15  Home_Mortgage                 76052 non-null  bool   \n",
            " 16  Home_Own                      76052 non-null  bool   \n",
            " 17  Home_Rent                     76052 non-null  bool   \n",
            " 18  Purpose_Business              76052 non-null  bool   \n",
            " 19  Purpose_Debt                  76052 non-null  bool   \n",
            " 20  Purpose_Educational_Expenses  76052 non-null  bool   \n",
            " 21  Purpose_HomeImprovement       76052 non-null  bool   \n",
            " 22  Purpose_MajorPurchase         76052 non-null  bool   \n",
            " 23  Purpose_Other                 76052 non-null  bool   \n",
            " 24  Purpose_Recreation            76052 non-null  bool   \n",
            "dtypes: bool(12), float64(8), int64(5)\n",
            "memory usage: 8.4 MB\n",
            "<class 'pandas.core.frame.DataFrame'>\n",
            "RangeIndex: 76052 entries, 0 to 76051\n",
            "Data columns (total 25 columns):\n",
            " #   Column                        Non-Null Count  Dtype  \n",
            "---  ------                        --------------  -----  \n",
            " 0   Charged_Off                   76052 non-null  bool   \n",
            " 1   Loan_Amount                   76052 non-null  int64  \n",
            " 2   Credit_Score                  76052 non-null  float64\n",
            " 3   Annual_Income                 76052 non-null  float64\n",
            " 4   Employment_Years              76052 non-null  float64\n",
            " 5   Monthly_Debt                  76052 non-null  float64\n",
            " 6   Credit_History_Years          76052 non-null  float64\n",
            " 7   Months_Last_Delinquent        76052 non-null  float64\n",
            " 8   Total_Open_Accts              76052 non-null  int64  \n",
            " 9   Credit_Problems               76052 non-null  int64  \n",
            " 10  Credit_Balance                76052 non-null  int64  \n",
            " 11  Max_Credit                    76052 non-null  float64\n",
            " 12  Bankruptcies                  76052 non-null  float64\n",
            " 13  Num_Loans                     76052 non-null  int64  \n",
            " 14  Term_Short                    76052 non-null  bool   \n",
            " 15  Home_Mortgage                 76052 non-null  bool   \n",
            " 16  Home_Own                      76052 non-null  bool   \n",
            " 17  Home_Rent                     76052 non-null  bool   \n",
            " 18  Purpose_Business              76052 non-null  bool   \n",
            " 19  Purpose_Debt                  76052 non-null  bool   \n",
            " 20  Purpose_Educational_Expenses  76052 non-null  bool   \n",
            " 21  Purpose_HomeImprovement       76052 non-null  bool   \n",
            " 22  Purpose_MajorPurchase         76052 non-null  bool   \n",
            " 23  Purpose_Other                 76052 non-null  bool   \n",
            " 24  Purpose_Recreation            76052 non-null  bool   \n",
            "dtypes: bool(12), float64(8), int64(5)\n",
            "memory usage: 8.4 MB\n"
          ]
        }
      ],
      "source": [
        "#make new column to account for customers with more than one lean in this list\n",
        "dupcust = pd.DataFrame(d.pivot_table(index = ['Customer_ID'], aggfunc ='size'),columns=['Num_Loans']).reset_index()\n",
        "d = d.merge(dupcust, on='Customer_ID', how='left').drop(columns = 'Customer_ID')\n",
        "\n",
        "#make dummies values for categorical values\n",
        "d = pd.get_dummies(d, columns=list(d.select_dtypes(include=['object', 'category']).columns), drop_first=False)\n",
        "\n",
        "#drop columns are duplicative\n",
        "d = d.drop(columns={'Loan_Status_Fully_Paid','Term_Long'})\n",
        "\n",
        "#rename columns\n",
        "d = d.rename(columns = {'Current_Loan_Amount': 'Loan_Amount',\n",
        "                        'Years_in_current_job': 'Employment_Years',\n",
        "                        'Years_of_Credit_History': 'Credit_History_Years',\n",
        "                        'Months_since_last_delinquent': 'Months_Last_Delinquent',\n",
        "                        'Number_of_Open_Accounts': 'Total_Open_Accts',\n",
        "                        'Number_of_Credit_Problems': 'Credit_Problems',\n",
        "                        'Current_Credit_Balance': 'Credit_Balance',\n",
        "                        'Maximum_Open_Credit': 'Max_Credit',\n",
        "                        'Loan_Status_Charged_Off': 'Charged_Off',\n",
        "                        'Home_Ownership_Mortgage': 'Home_Mortgage',\n",
        "                        'Home_Ownership_Own': 'Home_Own',\n",
        "                        'Home_Ownership_Rent': 'Home_Rent'})\n",
        "\n",
        "#move target to front of dataframe\n",
        "d.insert(0, 'Charged_Off', d.pop('Charged_Off'))\n",
        "\n",
        "d.info()"
      ]
    },
    {
      "cell_type": "code",
      "execution_count": 53,
      "metadata": {
        "colab": {
          "base_uri": "https://localhost:8080/",
          "height": 486
        },
        "id": "auxSKZFIJhmB",
        "outputId": "2bf08df7-38ec-4e3d-945f-c81d2201566c"
      },
      "outputs": [
        {
          "name": "stdout",
          "output_type": "stream",
          "text": [
            "Charged_Off\n",
            "False    59735\n",
            "True     16317\n",
            "Name: count, dtype: int64 \n",
            "\n",
            "Charged_Off\n",
            "False    59735\n",
            "True     16317\n",
            "Name: count, dtype: int64 \n",
            "\n"
          ]
        },
        {
          "data": {
            "text/plain": [
              "<Axes: xlabel='Charged_Off', ylabel='count'>"
            ]
          },
          "execution_count": null,
          "metadata": {},
          "output_type": "execute_result"
        },
        {
          "data": {
            "image/png": "[encoded data removed]",
            "text/plain": [
              "<Figure size 500x400 with 1 Axes>"
            ]
          },
          "metadata": {},
          "output_type": "display_data"
        }
      ],
      "source": [
        "#frequency counts for values in target\n",
        "freq = d['Charged_Off'].value_counts()\n",
        "print(freq,'\\n')\n",
        "\n",
        "#visualization of target value counts\n",
        "sns.set(rc={\"figure.figsize\":(5, 4)})\n",
        "sns.countplot(x=d['Charged_Off'], color='orange')"
      ]
    },
    {
      "cell_type": "code",
      "execution_count": 54,
      "metadata": {
        "colab": {
          "base_uri": "https://localhost:8080/",
          "height": 833
        },
        "id": "MWesP5h-5tBg",
        "outputId": "b67181ad-6709-4028-a1f4-3920e746078b"
      },
      "outputs": [
        {
          "data": {
            "text/html": [
              "<div>\n",
              "<style scoped>\n",
              "    .dataframe tbody tr th:only-of-type {\n",
              "        vertical-align: middle;\n",
              "    }\n",
              "\n",
              "    .dataframe tbody tr th {\n",
              "        vertical-align: top;\n",
              "    }\n",
              "\n",
              "    .dataframe thead th {\n",
              "        text-align: right;\n",
              "    }\n",
              "</style>\n",
              "<table border=\"1\" class=\"dataframe\">\n",
              "  <thead>\n",
              "    <tr style=\"text-align: right;\">\n",
              "      <th></th>\n",
              "      <th>0</th>\n",
              "      <th>1</th>\n",
              "      <th>2</th>\n",
              "      <th>3</th>\n",
              "      <th>4</th>\n",
              "    </tr>\n",
              "  </thead>\n",
              "  <tbody>\n",
              "    <tr>\n",
              "      <th>Charged_Off</th>\n",
              "      <td>0.000000</td>\n",
              "      <td>0.000000</td>\n",
              "      <td>0.000000</td>\n",
              "      <td>1.000000</td>\n",
              "      <td>0.000000</td>\n",
              "    </tr>\n",
              "    <tr>\n",
              "      <th>Loan_Amount</th>\n",
              "      <td>0.439106</td>\n",
              "      <td>1.000000</td>\n",
              "      <td>0.340249</td>\n",
              "      <td>0.197581</td>\n",
              "      <td>0.208751</td>\n",
              "    </tr>\n",
              "    <tr>\n",
              "      <th>Credit_Score</th>\n",
              "      <td>0.746988</td>\n",
              "      <td>0.939759</td>\n",
              "      <td>0.819277</td>\n",
              "      <td>0.867470</td>\n",
              "      <td>0.873494</td>\n",
              "    </tr>\n",
              "    <tr>\n",
              "      <th>Annual_Income</th>\n",
              "      <td>0.221779</td>\n",
              "      <td>0.438178</td>\n",
              "      <td>0.148479</td>\n",
              "      <td>0.166757</td>\n",
              "      <td>0.225175</td>\n",
              "    </tr>\n",
              "    <tr>\n",
              "      <th>Employment_Years</th>\n",
              "      <td>0.777778</td>\n",
              "      <td>0.777778</td>\n",
              "      <td>0.222222</td>\n",
              "      <td>1.000000</td>\n",
              "      <td>0.000000</td>\n",
              "    </tr>\n",
              "    <tr>\n",
              "      <th>Monthly_Debt</th>\n",
              "      <td>0.053349</td>\n",
              "      <td>0.298735</td>\n",
              "      <td>0.089434</td>\n",
              "      <td>0.167449</td>\n",
              "      <td>0.111052</td>\n",
              "    </tr>\n",
              "    <tr>\n",
              "      <th>Credit_History_Years</th>\n",
              "      <td>0.292208</td>\n",
              "      <td>0.242424</td>\n",
              "      <td>0.179654</td>\n",
              "      <td>0.294372</td>\n",
              "      <td>0.344156</td>\n",
              "    </tr>\n",
              "    <tr>\n",
              "      <th>Months_Last_Delinquent</th>\n",
              "      <td>0.329897</td>\n",
              "      <td>0.298969</td>\n",
              "      <td>0.329897</td>\n",
              "      <td>0.329897</td>\n",
              "      <td>0.103093</td>\n",
              "    </tr>\n",
              "    <tr>\n",
              "      <th>Total_Open_Accts</th>\n",
              "      <td>0.178571</td>\n",
              "      <td>0.607143</td>\n",
              "      <td>0.285714</td>\n",
              "      <td>0.178571</td>\n",
              "      <td>0.428571</td>\n",
              "    </tr>\n",
              "    <tr>\n",
              "      <th>Credit_Problems</th>\n",
              "      <td>1.000000</td>\n",
              "      <td>1.000000</td>\n",
              "      <td>0.000000</td>\n",
              "      <td>0.000000</td>\n",
              "      <td>1.000000</td>\n",
              "    </tr>\n",
              "    <tr>\n",
              "      <th>Credit_Balance</th>\n",
              "      <td>0.152174</td>\n",
              "      <td>0.198725</td>\n",
              "      <td>0.170939</td>\n",
              "      <td>0.143583</td>\n",
              "      <td>0.081472</td>\n",
              "    </tr>\n",
              "    <tr>\n",
              "      <th>Max_Credit</th>\n",
              "      <td>0.166796</td>\n",
              "      <td>0.300211</td>\n",
              "      <td>0.154874</td>\n",
              "      <td>0.109043</td>\n",
              "      <td>0.108884</td>\n",
              "    </tr>\n",
              "    <tr>\n",
              "      <th>Bankruptcies</th>\n",
              "      <td>1.000000</td>\n",
              "      <td>0.000000</td>\n",
              "      <td>0.000000</td>\n",
              "      <td>0.000000</td>\n",
              "      <td>1.000000</td>\n",
              "    </tr>\n",
              "    <tr>\n",
              "      <th>Num_Loans</th>\n",
              "      <td>1.000000</td>\n",
              "      <td>0.000000</td>\n",
              "      <td>1.000000</td>\n",
              "      <td>0.000000</td>\n",
              "      <td>0.000000</td>\n",
              "    </tr>\n",
              "    <tr>\n",
              "      <th>Term_Short</th>\n",
              "      <td>1.000000</td>\n",
              "      <td>1.000000</td>\n",
              "      <td>0.000000</td>\n",
              "      <td>1.000000</td>\n",
              "      <td>1.000000</td>\n",
              "    </tr>\n",
              "    <tr>\n",
              "      <th>Home_Mortgage</th>\n",
              "      <td>1.000000</td>\n",
              "      <td>0.000000</td>\n",
              "      <td>0.000000</td>\n",
              "      <td>1.000000</td>\n",
              "      <td>1.000000</td>\n",
              "    </tr>\n",
              "    <tr>\n",
              "      <th>Home_Own</th>\n",
              "      <td>0.000000</td>\n",
              "      <td>1.000000</td>\n",
              "      <td>1.000000</td>\n",
              "      <td>0.000000</td>\n",
              "      <td>0.000000</td>\n",
              "    </tr>\n",
              "    <tr>\n",
              "      <th>Home_Rent</th>\n",
              "      <td>0.000000</td>\n",
              "      <td>0.000000</td>\n",
              "      <td>0.000000</td>\n",
              "      <td>0.000000</td>\n",
              "      <td>0.000000</td>\n",
              "    </tr>\n",
              "    <tr>\n",
              "      <th>Purpose_Business</th>\n",
              "      <td>0.000000</td>\n",
              "      <td>0.000000</td>\n",
              "      <td>0.000000</td>\n",
              "      <td>0.000000</td>\n",
              "      <td>0.000000</td>\n",
              "    </tr>\n",
              "    <tr>\n",
              "      <th>Purpose_Debt</th>\n",
              "      <td>0.000000</td>\n",
              "      <td>1.000000</td>\n",
              "      <td>1.000000</td>\n",
              "      <td>1.000000</td>\n",
              "      <td>1.000000</td>\n",
              "    </tr>\n",
              "    <tr>\n",
              "      <th>Purpose_Educational_Expenses</th>\n",
              "      <td>0.000000</td>\n",
              "      <td>0.000000</td>\n",
              "      <td>0.000000</td>\n",
              "      <td>0.000000</td>\n",
              "      <td>0.000000</td>\n",
              "    </tr>\n",
              "    <tr>\n",
              "      <th>Purpose_HomeImprovement</th>\n",
              "      <td>1.000000</td>\n",
              "      <td>0.000000</td>\n",
              "      <td>0.000000</td>\n",
              "      <td>0.000000</td>\n",
              "      <td>0.000000</td>\n",
              "    </tr>\n",
              "    <tr>\n",
              "      <th>Purpose_MajorPurchase</th>\n",
              "      <td>0.000000</td>\n",
              "      <td>0.000000</td>\n",
              "      <td>0.000000</td>\n",
              "      <td>0.000000</td>\n",
              "      <td>0.000000</td>\n",
              "    </tr>\n",
              "    <tr>\n",
              "      <th>Purpose_Other</th>\n",
              "      <td>0.000000</td>\n",
              "      <td>0.000000</td>\n",
              "      <td>0.000000</td>\n",
              "      <td>0.000000</td>\n",
              "      <td>0.000000</td>\n",
              "    </tr>\n",
              "    <tr>\n",
              "      <th>Purpose_Recreation</th>\n",
              "      <td>0.000000</td>\n",
              "      <td>0.000000</td>\n",
              "      <td>0.000000</td>\n",
              "      <td>0.000000</td>\n",
              "      <td>0.000000</td>\n",
              "    </tr>\n",
              "  </tbody>\n",
              "</table>\n",
              "</div>"
            ],
            "text/plain": [
              "                                     0         1         2         3         4\n",
              "Charged_Off                   0.000000  0.000000  0.000000  1.000000  0.000000\n",
              "Loan_Amount                   0.439106  1.000000  0.340249  0.197581  0.208751\n",
              "Credit_Score                  0.746988  0.939759  0.819277  0.867470  0.873494\n",
              "Annual_Income                 0.221779  0.438178  0.148479  0.166757  0.225175\n",
              "Employment_Years              0.777778  0.777778  0.222222  1.000000  0.000000\n",
              "Monthly_Debt                  0.053349  0.298735  0.089434  0.167449  0.111052\n",
              "Credit_History_Years          0.292208  0.242424  0.179654  0.294372  0.344156\n",
              "Months_Last_Delinquent        0.329897  0.298969  0.329897  0.329897  0.103093\n",
              "Total_Open_Accts              0.178571  0.607143  0.285714  0.178571  0.428571\n",
              "Credit_Problems               1.000000  1.000000  0.000000  0.000000  1.000000\n",
              "Credit_Balance                0.152174  0.198725  0.170939  0.143583  0.081472\n",
              "Max_Credit                    0.166796  0.300211  0.154874  0.109043  0.108884\n",
              "Bankruptcies                  1.000000  0.000000  0.000000  0.000000  1.000000\n",
              "Num_Loans                     1.000000  0.000000  1.000000  0.000000  0.000000\n",
              "Term_Short                    1.000000  1.000000  0.000000  1.000000  1.000000\n",
              "Home_Mortgage                 1.000000  0.000000  0.000000  1.000000  1.000000\n",
              "Home_Own                      0.000000  1.000000  1.000000  0.000000  0.000000\n",
              "Home_Rent                     0.000000  0.000000  0.000000  0.000000  0.000000\n",
              "Purpose_Business              0.000000  0.000000  0.000000  0.000000  0.000000\n",
              "Purpose_Debt                  0.000000  1.000000  1.000000  1.000000  1.000000\n",
              "Purpose_Educational_Expenses  0.000000  0.000000  0.000000  0.000000  0.000000\n",
              "Purpose_HomeImprovement       1.000000  0.000000  0.000000  0.000000  0.000000\n",
              "Purpose_MajorPurchase         0.000000  0.000000  0.000000  0.000000  0.000000\n",
              "Purpose_Other                 0.000000  0.000000  0.000000  0.000000  0.000000\n",
              "Purpose_Recreation            0.000000  0.000000  0.000000  0.000000  0.000000"
            ]
          },
          "execution_count": null,
          "metadata": {},
          "output_type": "execute_result"
        }
      ],
      "source": [
        "columns = list(d.columns)\n",
        "\n",
        "#standardize values\n",
        "d = mm_scaler.fit_transform(d) #normally we would do this later on to individual data, but I'm shortcutting\n",
        "\n",
        "#refit standardized values into dataframe and verify\n",
        "d = pd.DataFrame(d, columns=columns)\n",
        "\n",
        "d.head().transpose()"
      ]
    },
    {
      "cell_type": "markdown",
      "metadata": {
        "id": "inDHKU_tBxgA"
      },
      "source": [
        "## Feature selection\n",
        "At this point we will conduct a feature review to narrow down the variables used for analysis.  "
      ]
    },
    {
      "cell_type": "code",
      "execution_count": 55,
      "metadata": {
        "colab": {
          "base_uri": "https://localhost:8080/"
        },
        "id": "ooXaCeRHmAcE",
        "outputId": "ddc035c8-ec0d-4954-b83e-6a8ac34beb28"
      },
      "outputs": [
        {
          "data": {
            "text/plain": [
              "Num_Loans                      -0.37\n",
              "Loan_Amount                    -0.15\n",
              "Credit_Score                   -0.11\n",
              "Term_Short                     -0.10\n",
              "Annual_Income                  -0.08\n",
              "Home_Mortgage                  -0.05\n",
              "Max_Credit                     -0.03\n",
              "Credit_History_Years           -0.02\n",
              "Purpose_HomeImprovement        -0.01\n",
              "Purpose_MajorPurchase          -0.01\n",
              "Bankruptcies                   -0.01\n",
              "Months_Last_Delinquent         -0.01\n",
              "Credit_Problems                -0.01\n",
              "Purpose_Recreation             -0.01\n",
              "Purpose_Other                  -0.01\n",
              "Employment_Years               -0.01\n",
              "Purpose_Educational_Expenses   -0.00\n",
              "Home_Own                        0.00\n",
              "Credit_Balance                  0.01\n",
              "Purpose_Debt                    0.01\n",
              "Total_Open_Accts                0.01\n",
              "Monthly_Debt                    0.01\n",
              "Purpose_Business                0.03\n",
              "Home_Rent                       0.05\n",
              "Charged_Off                     1.00\n",
              "Name: Charged_Off, dtype: float64"
            ]
          },
          "execution_count": null,
          "metadata": {},
          "output_type": "execute_result"
        }
      ],
      "source": [
        "#review correlation between target and features\n",
        "d.corr()['Charged_Off'].sort_values().round(2)"
      ]
    },
    {
      "cell_type": "code",
      "execution_count": 56,
      "metadata": {
        "id": "XcWXD1wlkzJp"
      },
      "outputs": [],
      "source": [
        "#limit d to target and features with correlation > |.01|\n",
        "d = d.drop(columns = {'Purpose_HomeImprovement',\n",
        "                      'Purpose_MajorPurchase',\n",
        "                      'Bankruptcies',\n",
        "                      'Months_Last_Delinquent',\n",
        "                      'Credit_Problems',\n",
        "                      'Purpose_Recreation',\n",
        "                      'Purpose_Other',\n",
        "                      'Employment_Years',\n",
        "                      'Purpose_Educational_Expenses',\n",
        "                      'Home_Own',\n",
        "                      'Credit_Balance',\n",
        "                      'Purpose_Debt',\n",
        "                      'Total_Open_Accts',\n",
        "                      'Monthly_Debt'})"
      ]
    },
    {
      "cell_type": "code",
      "execution_count": 57,
      "metadata": {
        "colab": {
          "base_uri": "https://localhost:8080/",
          "height": 615
        },
        "id": "cNrQZuRKEKR6",
        "outputId": "79d9f1c2-fc62-4762-ce4f-93e1dcddaa4d"
      },
      "outputs": [
        {
          "data": {
            "text/plain": [
              "<Axes: >"
            ]
          },
          "execution_count": null,
          "metadata": {},
          "output_type": "execute_result"
        },
        {
          "data": {
            "image/png": "[encoded data removed]",
            "text/plain": [
              "<Figure size 700x500 with 2 Axes>"
            ]
          },
          "metadata": {},
          "output_type": "display_data"
        }
      ],
      "source": [
        "#check for intercorrelation between features\n",
        "sns.set(rc={\"figure.figsize\":(7, 5)})\n",
        "sns.heatmap(d.corr().round(2), linewidths=2.0,\n",
        "            annot=True, annot_kws={\"size\": 10},\n",
        "            cmap=sns.dark_palette(\"darkorange\")\n",
        "            )"
      ]
    },
    {
      "cell_type": "code",
      "execution_count": 58,
      "metadata": {
        "colab": {
          "base_uri": "https://localhost:8080/",
          "height": 332
        },
        "id": "NU5maSl381IX",
        "outputId": "043969e7-65af-4e6f-cff4-b375fcf48e8d"
      },
      "outputs": [
        {
          "name": "stderr",
          "output_type": "stream",
          "text": [
            "<positron-console-cell-58>:16: FutureWarning: Series.__getitem__ treating keys as positions is deprecated. In a future version, integer keys will always be treated as labels (consistent with DataFrame behavior). To access a value by position, use `ser.iloc[pos]`\n"
          ]
        },
        {
          "data": {
            "text/html": [
              "<div>\n",
              "<style scoped>\n",
              "    .dataframe tbody tr th:only-of-type {\n",
              "        vertical-align: middle;\n",
              "    }\n",
              "\n",
              "    .dataframe tbody tr th {\n",
              "        vertical-align: top;\n",
              "    }\n",
              "\n",
              "    .dataframe thead th {\n",
              "        text-align: right;\n",
              "    }\n",
              "</style>\n",
              "<table border=\"1\" class=\"dataframe\">\n",
              "  <thead>\n",
              "    <tr style=\"text-align: right;\">\n",
              "      <th></th>\n",
              "      <th>Predictor</th>\n",
              "      <th>VIF</th>\n",
              "      <th>Relevance</th>\n",
              "    </tr>\n",
              "  </thead>\n",
              "  <tbody>\n",
              "    <tr>\n",
              "      <th>0</th>\n",
              "      <td>Loan_Amount</td>\n",
              "      <td>3.116823</td>\n",
              "      <td>1.000</td>\n",
              "    </tr>\n",
              "    <tr>\n",
              "      <th>1</th>\n",
              "      <td>Credit_Score</td>\n",
              "      <td>13.201130</td>\n",
              "      <td>-0.152</td>\n",
              "    </tr>\n",
              "    <tr>\n",
              "      <th>2</th>\n",
              "      <td>Annual_Income</td>\n",
              "      <td>5.214027</td>\n",
              "      <td>-0.108</td>\n",
              "    </tr>\n",
              "    <tr>\n",
              "      <th>3</th>\n",
              "      <td>Credit_History_Years</td>\n",
              "      <td>5.628883</td>\n",
              "      <td>-0.077</td>\n",
              "    </tr>\n",
              "    <tr>\n",
              "      <th>4</th>\n",
              "      <td>Max_Credit</td>\n",
              "      <td>3.646951</td>\n",
              "      <td>-0.019</td>\n",
              "    </tr>\n",
              "    <tr>\n",
              "      <th>5</th>\n",
              "      <td>Num_Loans</td>\n",
              "      <td>1.420106</td>\n",
              "      <td>-0.031</td>\n",
              "    </tr>\n",
              "    <tr>\n",
              "      <th>6</th>\n",
              "      <td>Term_Short</td>\n",
              "      <td>4.873710</td>\n",
              "      <td>-0.375</td>\n",
              "    </tr>\n",
              "    <tr>\n",
              "      <th>7</th>\n",
              "      <td>Home_Mortgage</td>\n",
              "      <td>2.119601</td>\n",
              "      <td>-0.101</td>\n",
              "    </tr>\n",
              "    <tr>\n",
              "      <th>8</th>\n",
              "      <td>Purpose_Business</td>\n",
              "      <td>1.021335</td>\n",
              "      <td>-0.047</td>\n",
              "    </tr>\n",
              "  </tbody>\n",
              "</table>\n",
              "</div>"
            ],
            "text/plain": [
              "              Predictor        VIF  Relevance\n",
              "0           Loan_Amount   3.116823      1.000\n",
              "1          Credit_Score  13.201130     -0.152\n",
              "2         Annual_Income   5.214027     -0.108\n",
              "3  Credit_History_Years   5.628883     -0.077\n",
              "4            Max_Credit   3.646951     -0.019\n",
              "5             Num_Loans   1.420106     -0.031\n",
              "6            Term_Short   4.873710     -0.375\n",
              "7         Home_Mortgage   2.119601     -0.101\n",
              "8      Purpose_Business   1.021335     -0.047"
            ]
          },
          "execution_count": null,
          "metadata": {},
          "output_type": "execute_result"
        }
      ],
      "source": [
        "#drop columns with high intercorrelation\n",
        "d = d.drop(columns='Home_Rent')\n",
        "\n",
        "#set target and predictors to continue feature selection\n",
        "y = d['Charged_Off']\n",
        "pred_vars = list(d.columns[1:])\n",
        "X = d[pred_vars]\n",
        "\n",
        "#manual feature selection\n",
        "from statsmodels.stats.outliers_influence import variance_inflation_factor\n",
        "vif = pd.DataFrame()\n",
        "vif['Predictor'] = X.columns\n",
        "vif['VIF'] = [variance_inflation_factor(X.values, i)\n",
        "  for i in range(X.shape[1])]\n",
        "cr = d.corr()['Charged_Off'].round(3)\n",
        "vif['Relevance'] = [cr[i]\n",
        "  for i in range(X.shape[1])]\n",
        "vif"
      ]
    },
    {
      "cell_type": "code",
      "execution_count": 59,
      "metadata": {
        "colab": {
          "base_uri": "https://localhost:8080/",
          "height": 332
        },
        "id": "0t_poY4O9jKZ",
        "outputId": "4a4ff47d-f4e5-4a04-c2ad-fefac7223983"
      },
      "outputs": [
        {
          "data": {
            "text/html": [
              "<div>\n",
              "<style scoped>\n",
              "    .dataframe tbody tr th:only-of-type {\n",
              "        vertical-align: middle;\n",
              "    }\n",
              "\n",
              "    .dataframe tbody tr th {\n",
              "        vertical-align: top;\n",
              "    }\n",
              "\n",
              "    .dataframe thead th {\n",
              "        text-align: right;\n",
              "    }\n",
              "</style>\n",
              "<table border=\"1\" class=\"dataframe\">\n",
              "  <thead>\n",
              "    <tr style=\"text-align: right;\">\n",
              "      <th></th>\n",
              "      <th>Feature</th>\n",
              "      <th>Rank</th>\n",
              "    </tr>\n",
              "  </thead>\n",
              "  <tbody>\n",
              "    <tr>\n",
              "      <th>0</th>\n",
              "      <td>Loan_Amount</td>\n",
              "      <td>1</td>\n",
              "    </tr>\n",
              "    <tr>\n",
              "      <th>1</th>\n",
              "      <td>Credit_Score</td>\n",
              "      <td>1</td>\n",
              "    </tr>\n",
              "    <tr>\n",
              "      <th>2</th>\n",
              "      <td>Annual_Income</td>\n",
              "      <td>1</td>\n",
              "    </tr>\n",
              "    <tr>\n",
              "      <th>5</th>\n",
              "      <td>Num_Loans</td>\n",
              "      <td>1</td>\n",
              "    </tr>\n",
              "    <tr>\n",
              "      <th>6</th>\n",
              "      <td>Term_Short</td>\n",
              "      <td>1</td>\n",
              "    </tr>\n",
              "    <tr>\n",
              "      <th>8</th>\n",
              "      <td>Purpose_Business</td>\n",
              "      <td>2</td>\n",
              "    </tr>\n",
              "    <tr>\n",
              "      <th>7</th>\n",
              "      <td>Home_Mortgage</td>\n",
              "      <td>3</td>\n",
              "    </tr>\n",
              "    <tr>\n",
              "      <th>3</th>\n",
              "      <td>Credit_History_Years</td>\n",
              "      <td>4</td>\n",
              "    </tr>\n",
              "    <tr>\n",
              "      <th>4</th>\n",
              "      <td>Max_Credit</td>\n",
              "      <td>5</td>\n",
              "    </tr>\n",
              "  </tbody>\n",
              "</table>\n",
              "</div>"
            ],
            "text/plain": [
              "                Feature  Rank\n",
              "0           Loan_Amount     1\n",
              "1          Credit_Score     1\n",
              "2         Annual_Income     1\n",
              "5             Num_Loans     1\n",
              "6            Term_Short     1\n",
              "8      Purpose_Business     2\n",
              "7         Home_Mortgage     3\n",
              "3  Credit_History_Years     4\n",
              "4            Max_Credit     5"
            ]
          },
          "execution_count": null,
          "metadata": {},
          "output_type": "execute_result"
        }
      ],
      "source": [
        "#multivariate feature selection\n",
        "estimator = LinearRegression()\n",
        "selector = RFE(estimator, n_features_to_select=5, step=1).fit(X,y)\n",
        "\n",
        "rnk = pd.DataFrame()\n",
        "rnk['Feature'] = X.columns\n",
        "rnk['Rank']= selector.ranking_\n",
        "rnk.sort_values('Rank')"
      ]
    },
    {
      "cell_type": "code",
      "execution_count": 60,
      "metadata": {
        "id": "apg-Np9X_iAL"
      },
      "outputs": [],
      "source": [
        "#update predictor variables\n",
        "pred_vars = ['Loan_Amount','Credit_Score','Annual_Income','Num_Loans','Term_Short']\n",
        "X = d[pred_vars]"
      ]
    },
    {
      "cell_type": "markdown",
      "metadata": {
        "id": "9ex3sWShyFkc"
      },
      "source": [
        "## Initial analysis: k-cluster\n",
        "\n",
        "Prior to completing supervised machine learning, we would like to establish a stronger understanding of the groupings our features. We'll complete this task with a k-cluster analysis, a form of unsupervised machine learning."
      ]
    },
    {
      "cell_type": "code",
      "execution_count": 61,
      "metadata": {
        "colab": {
          "base_uri": "https://localhost:8080/"
        },
        "id": "FiT8-_zzPGRu",
        "outputId": "19e18725-f850-4082-8707-1338c61e6b7c"
      },
      "outputs": [
        {
          "ename": "KeyboardInterrupt",
          "evalue": "",
          "output_type": "error",
          "traceback": [
            "\u001b[0;31m---------------------------------------------------------------------------\u001b[0m\n",
            "\u001b[0;31mKeyboardInterrupt\u001b[0m                         Traceback (most recent call last)\n",
            "Cell \u001b[0;32mIn[61], line 16\u001b[0m\n",
            "\u001b[1;32m     14\u001b[0m \u001b[38;5;28;01mfor\u001b[39;00m i \u001b[38;5;129;01min\u001b[39;00m \u001b[38;5;28mrange\u001b[39m(\u001b[38;5;241m2\u001b[39m, max_nc):\n",
            "\u001b[1;32m     15\u001b[0m   model \u001b[38;5;241m=\u001b[39m KMeans(n_clusters\u001b[38;5;241m=\u001b[39mi, init\u001b[38;5;241m=\u001b[39m\u001b[38;5;124m'\u001b[39m\u001b[38;5;124mk-means++\u001b[39m\u001b[38;5;124m'\u001b[39m, n_init\u001b[38;5;241m=\u001b[39m\u001b[38;5;241m100\u001b[39m, random_state\u001b[38;5;241m=\u001b[39mstart)\n",
            "\u001b[0;32m---> 16\u001b[0m   \u001b[43mmodel\u001b[49m\u001b[38;5;241;43m.\u001b[39;49m\u001b[43mfit\u001b[49m\u001b[43m(\u001b[49m\u001b[43mX0\u001b[49m\u001b[43m)\u001b[49m\n",
            "\u001b[1;32m     17\u001b[0m   inertia\u001b[38;5;241m.\u001b[39mappend(model\u001b[38;5;241m.\u001b[39minertia_)\n",
            "\u001b[1;32m     18\u001b[0m   s_score \u001b[38;5;241m=\u001b[39m metrics\u001b[38;5;241m.\u001b[39msilhouette_score(X0, model\u001b[38;5;241m.\u001b[39mlabels_, metric\u001b[38;5;241m=\u001b[39m\u001b[38;5;124m'\u001b[39m\u001b[38;5;124meuclidean\u001b[39m\u001b[38;5;124m'\u001b[39m)\n",
            "\n",
            "File \u001b[0;32m/Library/Frameworks/Python.framework/Versions/3.12/lib/python3.12/site-packages/sklearn/base.py:1474\u001b[0m, in \u001b[0;36m_fit_context.<locals>.decorator.<locals>.wrapper\u001b[0;34m(estimator, *args, **kwargs)\u001b[0m\n",
            "\u001b[1;32m   1467\u001b[0m     estimator\u001b[38;5;241m.\u001b[39m_validate_params()\n",
            "\u001b[1;32m   1469\u001b[0m \u001b[38;5;28;01mwith\u001b[39;00m config_context(\n",
            "\u001b[1;32m   1470\u001b[0m     skip_parameter_validation\u001b[38;5;241m=\u001b[39m(\n",
            "\u001b[1;32m   1471\u001b[0m         prefer_skip_nested_validation \u001b[38;5;129;01mor\u001b[39;00m global_skip_validation\n",
            "\u001b[1;32m   1472\u001b[0m     )\n",
            "\u001b[1;32m   1473\u001b[0m ):\n",
            "\u001b[0;32m-> 1474\u001b[0m     \u001b[38;5;28;01mreturn\u001b[39;00m \u001b[43mfit_method\u001b[49m\u001b[43m(\u001b[49m\u001b[43mestimator\u001b[49m\u001b[43m,\u001b[49m\u001b[43m \u001b[49m\u001b[38;5;241;43m*\u001b[39;49m\u001b[43margs\u001b[49m\u001b[43m,\u001b[49m\u001b[43m \u001b[49m\u001b[38;5;241;43m*\u001b[39;49m\u001b[38;5;241;43m*\u001b[39;49m\u001b[43mkwargs\u001b[49m\u001b[43m)\u001b[49m\n",
            "\n",
            "File \u001b[0;32m/Library/Frameworks/Python.framework/Versions/3.12/lib/python3.12/site-packages/sklearn/cluster/_kmeans.py:1513\u001b[0m, in \u001b[0;36mKMeans.fit\u001b[0;34m(self, X, y, sample_weight)\u001b[0m\n",
            "\u001b[1;32m   1510\u001b[0m         init \u001b[38;5;241m-\u001b[39m\u001b[38;5;241m=\u001b[39m X_mean\n",
            "\u001b[1;32m   1512\u001b[0m \u001b[38;5;66;03m# precompute squared norms of data points\u001b[39;00m\n",
            "\u001b[0;32m-> 1513\u001b[0m x_squared_norms \u001b[38;5;241m=\u001b[39m \u001b[43mrow_norms\u001b[49m\u001b[43m(\u001b[49m\u001b[43mX\u001b[49m\u001b[43m,\u001b[49m\u001b[43m \u001b[49m\u001b[43msquared\u001b[49m\u001b[38;5;241;43m=\u001b[39;49m\u001b[38;5;28;43;01mTrue\u001b[39;49;00m\u001b[43m)\u001b[49m\n",
            "\u001b[1;32m   1515\u001b[0m \u001b[38;5;28;01mif\u001b[39;00m \u001b[38;5;28mself\u001b[39m\u001b[38;5;241m.\u001b[39m_algorithm \u001b[38;5;241m==\u001b[39m \u001b[38;5;124m\"\u001b[39m\u001b[38;5;124melkan\u001b[39m\u001b[38;5;124m\"\u001b[39m:\n",
            "\u001b[1;32m   1516\u001b[0m     kmeans_single \u001b[38;5;241m=\u001b[39m _kmeans_single_elkan\n",
            "\n",
            "File \u001b[0;32m/Library/Frameworks/Python.framework/Versions/3.12/lib/python3.12/site-packages/sklearn/utils/extmath.py:58\u001b[0m, in \u001b[0;36mrow_norms\u001b[0;34m(X, squared)\u001b[0m\n",
            "\u001b[1;32m     48\u001b[0m         warnings\u001b[38;5;241m.\u001b[39mwarn(\n",
            "\u001b[1;32m     49\u001b[0m             (\n",
            "\u001b[1;32m     50\u001b[0m                 \u001b[38;5;124m\"\u001b[39m\u001b[38;5;124mArray type is integer, np.dot may overflow. \u001b[39m\u001b[38;5;124m\"\u001b[39m\n",
            "\u001b[0;32m   (...)\u001b[0m\n",
            "\u001b[1;32m     53\u001b[0m             \u001b[38;5;167;01mUserWarning\u001b[39;00m,\n",
            "\u001b[1;32m     54\u001b[0m         )\n",
            "\u001b[1;32m     55\u001b[0m     \u001b[38;5;28;01mreturn\u001b[39;00m np\u001b[38;5;241m.\u001b[39mdot(x, x)\n",
            "\u001b[0;32m---> 58\u001b[0m \u001b[38;5;28;01mdef\u001b[39;00m \u001b[38;5;21mrow_norms\u001b[39m(X, squared\u001b[38;5;241m=\u001b[39m\u001b[38;5;28;01mFalse\u001b[39;00m):\n",
            "\u001b[1;32m     59\u001b[0m \u001b[38;5;250m    \u001b[39m\u001b[38;5;124;03m\"\"\"Row-wise (squared) Euclidean norm of X.\u001b[39;00m\n",
            "\u001b[1;32m     60\u001b[0m \n",
            "\u001b[1;32m     61\u001b[0m \u001b[38;5;124;03m    Equivalent to np.sqrt((X * X).sum(axis=1)), but also supports sparse\u001b[39;00m\n",
            "\u001b[0;32m   (...)\u001b[0m\n",
            "\u001b[1;32m     76\u001b[0m \u001b[38;5;124;03m        The row-wise (squared) Euclidean norm of X.\u001b[39;00m\n",
            "\u001b[1;32m     77\u001b[0m \u001b[38;5;124;03m    \"\"\"\u001b[39;00m\n",
            "\u001b[1;32m     78\u001b[0m     \u001b[38;5;28;01mif\u001b[39;00m sparse\u001b[38;5;241m.\u001b[39missparse(X):\n",
            "\n",
            "\u001b[0;31mKeyboardInterrupt\u001b[0m: "
          ]
        }
      ],
      "source": [
        "#identify features\n",
        "features = ['Charged_Off','Loan_Amount','Credit_Score','Annual_Income','Num_Loans','Term_Short']\n",
        "X0 = d[features]\n",
        "\n",
        "#set arbitrary start for random_state\n",
        "start = 42\n",
        "\n",
        "#prep for cluster review\n",
        "max_nc = 15\n",
        "inertia = []\n",
        "silhouette = []\n",
        "\n",
        "#calculate silhousette and inertia for differing cluster counts\n",
        "for i in range(2, max_nc):\n",
        "  model = KMeans(n_clusters=i, init='k-means++', n_init=100, random_state=start)\n",
        "  model.fit(X0)\n",
        "  inertia.append(model.inertia_)\n",
        "  s_score = metrics.silhouette_score(X0, model.labels_, metric='euclidean')\n",
        "  silhouette.append(s_score)\n",
        "\n",
        "#print analysis\n",
        "print('{:>2}{:>11}{:>9}'.format('nc', 'Silhouette', 'Inertia'))\n",
        "print('-' * 24)\n",
        "for i in range(2, max_nc):\n",
        "  print('{:>2d}{:>8.3f}{:>12.3f}'.\\\n",
        "  format(i, silhouette[i-2], inertia[i-2]))"
      ]
    },
    {
      "cell_type": "code",
      "execution_count": null,
      "metadata": {
        "colab": {
          "base_uri": "https://localhost:8080/",
          "height": 396
        },
        "id": "mGBI46nvPj_s",
        "outputId": "9fd9ed33-74d8-4436-b5b2-4e039596ee0d"
      },
      "outputs": [
        {
          "data": {
            "image/png": "[encoded data removed]",
            "text/plain": [
              "<Figure size 600x400 with 1 Axes>"
            ]
          },
          "metadata": {},
          "output_type": "display_data"
        }
      ],
      "source": [
        "#set plot for inertia\n",
        "sns.set(rc={\"figure.figsize\":(6, 4)})\n",
        "plt.plot(range(2, max_nc), inertia, marker='o')\n",
        "plt.xlabel('Number of clusters')\n",
        "plt.ylabel('Inertia')\n",
        "plt.show()"
      ]
    },
    {
      "cell_type": "code",
      "execution_count": null,
      "metadata": {
        "colab": {
          "base_uri": "https://localhost:8080/",
          "height": 396
        },
        "id": "so0_QmzdPm2m",
        "outputId": "2df5b490-833a-4846-ed7b-b9498b55079f"
      },
      "outputs": [
        {
          "data": {
            "image/png": "[encoded data removed]",
            "text/plain": [
              "<Figure size 600x400 with 1 Axes>"
            ]
          },
          "metadata": {},
          "output_type": "display_data"
        }
      ],
      "source": [
        "#set plot for silhouette\n",
        "plt.plot(range(2, max_nc), silhouette, marker='o')\n",
        "plt.xlabel('Number of clusters')\n",
        "plt.ylabel('Silhouette')\n",
        "plt.show()"
      ]
    },
    {
      "cell_type": "code",
      "execution_count": null,
      "metadata": {
        "colab": {
          "base_uri": "https://localhost:8080/",
          "height": 75
        },
        "id": "ZtKAGPOnPzbO",
        "outputId": "bc50bd2b-1794-48f9-dead-12bdaab72f22"
      },
      "outputs": [
        {
          "data": {
            "text/html": [
              "<style>#sk-container-id-6 {color: black;background-color: white;}#sk-container-id-6 pre{padding: 0;}#sk-container-id-6 div.sk-toggleable {background-color: white;}#sk-container-id-6 label.sk-toggleable__label {cursor: pointer;display: block;width: 100%;margin-bottom: 0;padding: 0.3em;box-sizing: border-box;text-align: center;}#sk-container-id-6 label.sk-toggleable__label-arrow:before {content: \"▸\";float: left;margin-right: 0.25em;color: #696969;}#sk-container-id-6 label.sk-toggleable__label-arrow:hover:before {color: black;}#sk-container-id-6 div.sk-estimator:hover label.sk-toggleable__label-arrow:before {color: black;}#sk-container-id-6 div.sk-toggleable__content {max-height: 0;max-width: 0;overflow: hidden;text-align: left;background-color: #f0f8ff;}#sk-container-id-6 div.sk-toggleable__content pre {margin: 0.2em;color: black;border-radius: 0.25em;background-color: #f0f8ff;}#sk-container-id-6 input.sk-toggleable__control:checked~div.sk-toggleable__content {max-height: 200px;max-width: 100%;overflow: auto;}#sk-container-id-6 input.sk-toggleable__control:checked~label.sk-toggleable__label-arrow:before {content: \"▾\";}#sk-container-id-6 div.sk-estimator input.sk-toggleable__control:checked~label.sk-toggleable__label {background-color: #d4ebff;}#sk-container-id-6 div.sk-label input.sk-toggleable__control:checked~label.sk-toggleable__label {background-color: #d4ebff;}#sk-container-id-6 input.sk-hidden--visually {border: 0;clip: rect(1px 1px 1px 1px);clip: rect(1px, 1px, 1px, 1px);height: 1px;margin: -1px;overflow: hidden;padding: 0;position: absolute;width: 1px;}#sk-container-id-6 div.sk-estimator {font-family: monospace;background-color: #f0f8ff;border: 1px dotted black;border-radius: 0.25em;box-sizing: border-box;margin-bottom: 0.5em;}#sk-container-id-6 div.sk-estimator:hover {background-color: #d4ebff;}#sk-container-id-6 div.sk-parallel-item::after {content: \"\";width: 100%;border-bottom: 1px solid gray;flex-grow: 1;}#sk-container-id-6 div.sk-label:hover label.sk-toggleable__label {background-color: #d4ebff;}#sk-container-id-6 div.sk-serial::before {content: \"\";position: absolute;border-left: 1px solid gray;box-sizing: border-box;top: 0;bottom: 0;left: 50%;z-index: 0;}#sk-container-id-6 div.sk-serial {display: flex;flex-direction: column;align-items: center;background-color: white;padding-right: 0.2em;padding-left: 0.2em;position: relative;}#sk-container-id-6 div.sk-item {position: relative;z-index: 1;}#sk-container-id-6 div.sk-parallel {display: flex;align-items: stretch;justify-content: center;background-color: white;position: relative;}#sk-container-id-6 div.sk-item::before, #sk-container-id-6 div.sk-parallel-item::before {content: \"\";position: absolute;border-left: 1px solid gray;box-sizing: border-box;top: 0;bottom: 0;left: 50%;z-index: -1;}#sk-container-id-6 div.sk-parallel-item {display: flex;flex-direction: column;z-index: 1;position: relative;background-color: white;}#sk-container-id-6 div.sk-parallel-item:first-child::after {align-self: flex-end;width: 50%;}#sk-container-id-6 div.sk-parallel-item:last-child::after {align-self: flex-start;width: 50%;}#sk-container-id-6 div.sk-parallel-item:only-child::after {width: 0;}#sk-container-id-6 div.sk-dashed-wrapped {border: 1px dashed gray;margin: 0 0.4em 0.5em 0.4em;box-sizing: border-box;padding-bottom: 0.4em;background-color: white;}#sk-container-id-6 div.sk-label label {font-family: monospace;font-weight: bold;display: inline-block;line-height: 1.2em;}#sk-container-id-6 div.sk-label-container {text-align: center;}#sk-container-id-6 div.sk-container {/* jupyter's `normalize.less` sets `[hidden] { display: none; }` but bootstrap.min.css set `[hidden] { display: none !important; }` so we also need the `!important` here to be able to override the default hidden behavior on the sphinx rendered scikit-learn.org. See: https://github.com/scikit-learn/scikit-learn/issues/21755 */display: inline-block !important;position: relative;}#sk-container-id-6 div.sk-text-repr-fallback {display: none;}</style><div id=\"sk-container-id-6\" class=\"sk-top-container\"><div class=\"sk-text-repr-fallback\"><pre>KMeans(n_clusters=7, n_init=100, random_state=42)</pre><b>In a Jupyter environment, please rerun this cell to show the HTML representation or trust the notebook. <br />On GitHub, the HTML representation is unable to render, please try loading this page with nbviewer.org.</b></div><div class=\"sk-container\" hidden><div class=\"sk-item\"><div class=\"sk-estimator sk-toggleable\"><input class=\"sk-toggleable__control sk-hidden--visually\" id=\"sk-estimator-id-10\" type=\"checkbox\" checked><label for=\"sk-estimator-id-10\" class=\"sk-toggleable__label sk-toggleable__label-arrow\">KMeans</label><div class=\"sk-toggleable__content\"><pre>KMeans(n_clusters=7, n_init=100, random_state=42)</pre></div></div></div></div></div>"
            ],
            "text/plain": [
              "KMeans(n_clusters=7, n_init=100, random_state=42)"
            ]
          },
          "execution_count": 535,
          "metadata": {},
          "output_type": "execute_result"
        }
      ],
      "source": [
        "model = KMeans(n_clusters=7, init='k-means++', n_init=100, random_state=start)\n",
        "model.fit(X0)"
      ]
    },
    {
      "cell_type": "code",
      "execution_count": null,
      "metadata": {
        "colab": {
          "base_uri": "https://localhost:8080/"
        },
        "id": "muwAFXRlP1sI",
        "outputId": "019afff2-4153-48dd-f9b9-dda9b44d2012"
      },
      "outputs": [
        {
          "name": "stdout",
          "output_type": "stream",
          "text": [
            "Inertia: 6078.293 \n",
            "Mean silhouette score: 0.431\n"
          ]
        }
      ],
      "source": [
        "_score = metrics.silhouette_score(X0, model.labels_, metric='euclidean')\n",
        "print('Inertia: %.3f ' % model.inertia_)\n",
        "print('Mean silhouette score: %.3f' % s_score)"
      ]
    },
    {
      "cell_type": "code",
      "execution_count": null,
      "metadata": {
        "colab": {
          "base_uri": "https://localhost:8080/",
          "height": 414
        },
        "id": "8QATGSNcqB0a",
        "outputId": "6207d703-fe2f-44dc-91f6-08246dc45d97"
      },
      "outputs": [
        {
          "data": {
            "text/plain": [
              "Text(0, 0.5, 'Count')"
            ]
          },
          "execution_count": 537,
          "metadata": {},
          "output_type": "execute_result"
        },
        {
          "data": {
            "image/png": "[encoded data removed]",
            "text/plain": [
              "<Figure size 600x400 with 1 Axes>"
            ]
          },
          "metadata": {},
          "output_type": "display_data"
        }
      ],
      "source": [
        "s_values = silhouette_samples(X0, model.labels_)\n",
        "plt.hist(s_values.round(3))\n",
        "plt.xlabel('Silhouette Coefficient')\n",
        "plt.ylabel('Count')"
      ]
    },
    {
      "cell_type": "code",
      "execution_count": null,
      "metadata": {
        "colab": {
          "base_uri": "https://localhost:8080/"
        },
        "id": "cbPr540FP6y3",
        "outputId": "75192414-abec-454f-9507-14a7c9c0f738"
      },
      "outputs": [
        {
          "data": {
            "text/plain": [
              "1    20961\n",
              "0    15606\n",
              "2    10243\n",
              "4    10210\n",
              "6     7558\n",
              "5     6074\n",
              "3     5400\n",
              "Name: labels, dtype: int64"
            ]
          },
          "execution_count": 552,
          "metadata": {},
          "output_type": "execute_result"
        }
      ],
      "source": [
        "dc = d[features].copy()\n",
        "dc['Cluster'] = model.labels_\n",
        "dc['S'] = s_values.round(3)\n",
        "d_lab = pd.DataFrame(model.labels_, columns=['labels'])\n",
        "count = d_lab['labels'].value_counts()\n",
        "count"
      ]
    },
    {
      "cell_type": "code",
      "execution_count": null,
      "metadata": {
        "colab": {
          "base_uri": "https://localhost:8080/",
          "height": 269
        },
        "id": "_FNI-im3P_Gh",
        "outputId": "92df50a5-9ceb-4d9e-9dfc-053d2e832cd6"
      },
      "outputs": [
        {
          "data": {
            "text/html": [
              "\n",
              "  <div id=\"df-d88a4873-320c-487d-8429-d4d5af467a43\" class=\"colab-df-container\">\n",
              "    <div>\n",
              "<style scoped>\n",
              "    .dataframe tbody tr th:only-of-type {\n",
              "        vertical-align: middle;\n",
              "    }\n",
              "\n",
              "    .dataframe tbody tr th {\n",
              "        vertical-align: top;\n",
              "    }\n",
              "\n",
              "    .dataframe thead th {\n",
              "        text-align: right;\n",
              "    }\n",
              "</style>\n",
              "<table border=\"1\" class=\"dataframe\">\n",
              "  <thead>\n",
              "    <tr style=\"text-align: right;\">\n",
              "      <th></th>\n",
              "      <th>Charged_Off</th>\n",
              "      <th>Loan_Amount</th>\n",
              "      <th>Credit_Score</th>\n",
              "      <th>Annual_Income</th>\n",
              "      <th>Num_Loans</th>\n",
              "      <th>Term_Short</th>\n",
              "      <th>Count</th>\n",
              "    </tr>\n",
              "  </thead>\n",
              "  <tbody>\n",
              "    <tr>\n",
              "      <th>2</th>\n",
              "      <td>1.0</td>\n",
              "      <td>0.249</td>\n",
              "      <td>0.824</td>\n",
              "      <td>0.213</td>\n",
              "      <td>-0.0</td>\n",
              "      <td>1.0</td>\n",
              "      <td>10243</td>\n",
              "    </tr>\n",
              "    <tr>\n",
              "      <th>5</th>\n",
              "      <td>1.0</td>\n",
              "      <td>0.423</td>\n",
              "      <td>0.642</td>\n",
              "      <td>0.260</td>\n",
              "      <td>-0.0</td>\n",
              "      <td>-0.0</td>\n",
              "      <td>6074</td>\n",
              "    </tr>\n",
              "    <tr>\n",
              "      <th>0</th>\n",
              "      <td>0.0</td>\n",
              "      <td>0.340</td>\n",
              "      <td>0.735</td>\n",
              "      <td>0.230</td>\n",
              "      <td>1.0</td>\n",
              "      <td>1.0</td>\n",
              "      <td>15606</td>\n",
              "    </tr>\n",
              "    <tr>\n",
              "      <th>1</th>\n",
              "      <td>0.0</td>\n",
              "      <td>0.232</td>\n",
              "      <td>0.900</td>\n",
              "      <td>0.244</td>\n",
              "      <td>0.0</td>\n",
              "      <td>1.0</td>\n",
              "      <td>20961</td>\n",
              "    </tr>\n",
              "    <tr>\n",
              "      <th>3</th>\n",
              "      <td>-0.0</td>\n",
              "      <td>0.509</td>\n",
              "      <td>0.756</td>\n",
              "      <td>0.289</td>\n",
              "      <td>-0.0</td>\n",
              "      <td>-0.0</td>\n",
              "      <td>5400</td>\n",
              "    </tr>\n",
              "    <tr>\n",
              "      <th>4</th>\n",
              "      <td>0.0</td>\n",
              "      <td>0.507</td>\n",
              "      <td>0.633</td>\n",
              "      <td>0.287</td>\n",
              "      <td>1.0</td>\n",
              "      <td>-0.0</td>\n",
              "      <td>10210</td>\n",
              "    </tr>\n",
              "    <tr>\n",
              "      <th>6</th>\n",
              "      <td>0.0</td>\n",
              "      <td>0.961</td>\n",
              "      <td>0.921</td>\n",
              "      <td>0.280</td>\n",
              "      <td>-0.0</td>\n",
              "      <td>1.0</td>\n",
              "      <td>7558</td>\n",
              "    </tr>\n",
              "  </tbody>\n",
              "</table>\n",
              "</div>\n",
              "    <div class=\"colab-df-buttons\">\n",
              "\n",
              "  <div class=\"colab-df-container\">\n",
              "    <button class=\"colab-df-convert\" onclick=\"convertToInteractive('df-d88a4873-320c-487d-8429-d4d5af467a43')\"\n",
              "            title=\"Convert this dataframe to an interactive table.\"\n",
              "            style=\"display:none;\">\n",
              "\n",
              "  <svg xmlns=\"http://www.w3.org/2000/svg\" height=\"24px\" viewBox=\"0 -960 960 960\">\n",
              "    <path d=\"M120-120v-720h720v720H120Zm60-500h600v-160H180v160Zm220 220h160v-160H400v160Zm0 220h160v-160H400v160ZM180-400h160v-160H180v160Zm440 0h160v-160H620v160ZM180-180h160v-160H180v160Zm440 0h160v-160H620v160Z\"/>\n",
              "  </svg>\n",
              "    </button>\n",
              "\n",
              "  <style>\n",
              "    .colab-df-container {\n",
              "      display:flex;\n",
              "      gap: 12px;\n",
              "    }\n",
              "\n",
              "    .colab-df-convert {\n",
              "      background-color: #E8F0FE;\n",
              "      border: none;\n",
              "      border-radius: 50%;\n",
              "      cursor: pointer;\n",
              "      display: none;\n",
              "      fill: #1967D2;\n",
              "      height: 32px;\n",
              "      padding: 0 0 0 0;\n",
              "      width: 32px;\n",
              "    }\n",
              "\n",
              "    .colab-df-convert:hover {\n",
              "      background-color: #E2EBFA;\n",
              "      box-shadow: 0px 1px 2px rgba(60, 64, 67, 0.3), 0px 1px 3px 1px rgba(60, 64, 67, 0.15);\n",
              "      fill: #174EA6;\n",
              "    }\n",
              "\n",
              "    .colab-df-buttons div {\n",
              "      margin-bottom: 4px;\n",
              "    }\n",
              "\n",
              "    [theme=dark] .colab-df-convert {\n",
              "      background-color: #3B4455;\n",
              "      fill: #D2E3FC;\n",
              "    }\n",
              "\n",
              "    [theme=dark] .colab-df-convert:hover {\n",
              "      background-color: #434B5C;\n",
              "      box-shadow: 0px 1px 3px 1px rgba(0, 0, 0, 0.15);\n",
              "      filter: drop-shadow(0px 1px 2px rgba(0, 0, 0, 0.3));\n",
              "      fill: #FFFFFF;\n",
              "    }\n",
              "  </style>\n",
              "\n",
              "    <script>\n",
              "      const buttonEl =\n",
              "        document.querySelector('#df-d88a4873-320c-487d-8429-d4d5af467a43 button.colab-df-convert');\n",
              "      buttonEl.style.display =\n",
              "        google.colab.kernel.accessAllowed ? 'block' : 'none';\n",
              "\n",
              "      async function convertToInteractive(key) {\n",
              "        const element = document.querySelector('#df-d88a4873-320c-487d-8429-d4d5af467a43');\n",
              "        const dataTable =\n",
              "          await google.colab.kernel.invokeFunction('convertToInteractive',\n",
              "                                                    [key], {});\n",
              "        if (!dataTable) return;\n",
              "\n",
              "        const docLinkHtml = 'Like what you see? Visit the ' +\n",
              "          '<a target=\"_blank\" href=https://colab.research.google.com/notebooks/data_table.ipynb>data table notebook</a>'\n",
              "          + ' to learn more about interactive tables.';\n",
              "        element.innerHTML = '';\n",
              "        dataTable['output_type'] = 'display_data';\n",
              "        await google.colab.output.renderOutput(dataTable, element);\n",
              "        const docLink = document.createElement('div');\n",
              "        docLink.innerHTML = docLinkHtml;\n",
              "        element.appendChild(docLink);\n",
              "      }\n",
              "    </script>\n",
              "  </div>\n",
              "\n",
              "\n",
              "<div id=\"df-afe51286-d1ad-4cb5-9285-2a622405cdf1\">\n",
              "  <button class=\"colab-df-quickchart\" onclick=\"quickchart('df-afe51286-d1ad-4cb5-9285-2a622405cdf1')\"\n",
              "            title=\"Suggest charts.\"\n",
              "            style=\"display:none;\">\n",
              "\n",
              "<svg xmlns=\"http://www.w3.org/2000/svg\" height=\"24px\"viewBox=\"0 0 24 24\"\n",
              "     width=\"24px\">\n",
              "    <g>\n",
              "        <path d=\"M19 3H5c-1.1 0-2 .9-2 2v14c0 1.1.9 2 2 2h14c1.1 0 2-.9 2-2V5c0-1.1-.9-2-2-2zM9 17H7v-7h2v7zm4 0h-2V7h2v10zm4 0h-2v-4h2v4z\"/>\n",
              "    </g>\n",
              "</svg>\n",
              "  </button>\n",
              "\n",
              "<style>\n",
              "  .colab-df-quickchart {\n",
              "    background-color: #E8F0FE;\n",
              "    border: none;\n",
              "    border-radius: 50%;\n",
              "    cursor: pointer;\n",
              "    display: none;\n",
              "    fill: #1967D2;\n",
              "    height: 32px;\n",
              "    padding: 0 0 0 0;\n",
              "    width: 32px;\n",
              "  }\n",
              "\n",
              "  .colab-df-quickchart:hover {\n",
              "    background-color: #E2EBFA;\n",
              "    box-shadow: 0px 1px 2px rgba(60, 64, 67, 0.3), 0px 1px 3px 1px rgba(60, 64, 67, 0.15);\n",
              "    fill: #174EA6;\n",
              "  }\n",
              "\n",
              "  [theme=dark] .colab-df-quickchart {\n",
              "    background-color: #3B4455;\n",
              "    fill: #D2E3FC;\n",
              "  }\n",
              "\n",
              "  [theme=dark] .colab-df-quickchart:hover {\n",
              "    background-color: #434B5C;\n",
              "    box-shadow: 0px 1px 3px 1px rgba(0, 0, 0, 0.15);\n",
              "    filter: drop-shadow(0px 1px 2px rgba(0, 0, 0, 0.3));\n",
              "    fill: #FFFFFF;\n",
              "  }\n",
              "</style>\n",
              "\n",
              "  <script>\n",
              "    async function quickchart(key) {\n",
              "      const charts = await google.colab.kernel.invokeFunction(\n",
              "          'suggestCharts', [key], {});\n",
              "    }\n",
              "    (() => {\n",
              "      let quickchartButtonEl =\n",
              "        document.querySelector('#df-afe51286-d1ad-4cb5-9285-2a622405cdf1 button');\n",
              "      quickchartButtonEl.style.display =\n",
              "        google.colab.kernel.accessAllowed ? 'block' : 'none';\n",
              "    })();\n",
              "  </script>\n",
              "</div>\n",
              "    </div>\n",
              "  </div>\n"
            ],
            "text/plain": [
              "   Charged_Off  Loan_Amount  Credit_Score  Annual_Income  Num_Loans  \\\n",
              "2          1.0        0.249         0.824          0.213       -0.0   \n",
              "5          1.0        0.423         0.642          0.260       -0.0   \n",
              "0          0.0        0.340         0.735          0.230        1.0   \n",
              "1          0.0        0.232         0.900          0.244        0.0   \n",
              "3         -0.0        0.509         0.756          0.289       -0.0   \n",
              "4          0.0        0.507         0.633          0.287        1.0   \n",
              "6          0.0        0.961         0.921          0.280       -0.0   \n",
              "\n",
              "   Term_Short  Count  \n",
              "2         1.0  10243  \n",
              "5        -0.0   6074  \n",
              "0         1.0  15606  \n",
              "1         1.0  20961  \n",
              "3        -0.0   5400  \n",
              "4        -0.0  10210  \n",
              "6         1.0   7558  "
            ]
          },
          "execution_count": 553,
          "metadata": {},
          "output_type": "execute_result"
        }
      ],
      "source": [
        "dcc = pd.DataFrame(model.cluster_centers_,\n",
        "  columns=list(X0.columns)).round(3)\n",
        "dcc['Count'] = count\n",
        "dcc.sort_values('Charged_Off', ascending=False)"
      ]
    },
    {
      "cell_type": "code",
      "execution_count": null,
      "metadata": {
        "colab": {
          "base_uri": "https://localhost:8080/",
          "height": 300
        },
        "id": "XY8ulfI8QBMK",
        "outputId": "7cf2a62b-831d-4264-afcc-668bc4571bad"
      },
      "outputs": [
        {
          "data": {
            "text/html": [
              "\n",
              "  <div id=\"df-d00dcacb-00b0-44ef-9dd1-d351bf57d84f\" class=\"colab-df-container\">\n",
              "    <div>\n",
              "<style scoped>\n",
              "    .dataframe tbody tr th:only-of-type {\n",
              "        vertical-align: middle;\n",
              "    }\n",
              "\n",
              "    .dataframe tbody tr th {\n",
              "        vertical-align: top;\n",
              "    }\n",
              "\n",
              "    .dataframe thead th {\n",
              "        text-align: right;\n",
              "    }\n",
              "</style>\n",
              "<table border=\"1\" class=\"dataframe\">\n",
              "  <thead>\n",
              "    <tr style=\"text-align: right;\">\n",
              "      <th></th>\n",
              "      <th>Charged_Off</th>\n",
              "      <th>Loan_Amount</th>\n",
              "      <th>Credit_Score</th>\n",
              "      <th>Annual_Income</th>\n",
              "      <th>Num_Loans</th>\n",
              "      <th>Term_Short</th>\n",
              "      <th>Count</th>\n",
              "    </tr>\n",
              "    <tr>\n",
              "      <th>Cluster</th>\n",
              "      <th></th>\n",
              "      <th></th>\n",
              "      <th></th>\n",
              "      <th></th>\n",
              "      <th></th>\n",
              "      <th></th>\n",
              "      <th></th>\n",
              "    </tr>\n",
              "  </thead>\n",
              "  <tbody>\n",
              "    <tr>\n",
              "      <th>2</th>\n",
              "      <td>1.0</td>\n",
              "      <td>0.25</td>\n",
              "      <td>0.82</td>\n",
              "      <td>0.21</td>\n",
              "      <td>0.0</td>\n",
              "      <td>1.0</td>\n",
              "      <td>10243</td>\n",
              "    </tr>\n",
              "    <tr>\n",
              "      <th>5</th>\n",
              "      <td>1.0</td>\n",
              "      <td>0.42</td>\n",
              "      <td>0.64</td>\n",
              "      <td>0.26</td>\n",
              "      <td>0.0</td>\n",
              "      <td>0.0</td>\n",
              "      <td>6074</td>\n",
              "    </tr>\n",
              "    <tr>\n",
              "      <th>0</th>\n",
              "      <td>0.0</td>\n",
              "      <td>0.34</td>\n",
              "      <td>0.74</td>\n",
              "      <td>0.23</td>\n",
              "      <td>1.0</td>\n",
              "      <td>1.0</td>\n",
              "      <td>15606</td>\n",
              "    </tr>\n",
              "    <tr>\n",
              "      <th>1</th>\n",
              "      <td>0.0</td>\n",
              "      <td>0.23</td>\n",
              "      <td>0.90</td>\n",
              "      <td>0.24</td>\n",
              "      <td>0.0</td>\n",
              "      <td>1.0</td>\n",
              "      <td>20961</td>\n",
              "    </tr>\n",
              "    <tr>\n",
              "      <th>3</th>\n",
              "      <td>0.0</td>\n",
              "      <td>0.51</td>\n",
              "      <td>0.76</td>\n",
              "      <td>0.29</td>\n",
              "      <td>0.0</td>\n",
              "      <td>0.0</td>\n",
              "      <td>5400</td>\n",
              "    </tr>\n",
              "    <tr>\n",
              "      <th>4</th>\n",
              "      <td>0.0</td>\n",
              "      <td>0.51</td>\n",
              "      <td>0.63</td>\n",
              "      <td>0.29</td>\n",
              "      <td>1.0</td>\n",
              "      <td>0.0</td>\n",
              "      <td>10210</td>\n",
              "    </tr>\n",
              "    <tr>\n",
              "      <th>6</th>\n",
              "      <td>0.0</td>\n",
              "      <td>0.96</td>\n",
              "      <td>0.92</td>\n",
              "      <td>0.28</td>\n",
              "      <td>0.0</td>\n",
              "      <td>1.0</td>\n",
              "      <td>7558</td>\n",
              "    </tr>\n",
              "  </tbody>\n",
              "</table>\n",
              "</div>\n",
              "    <div class=\"colab-df-buttons\">\n",
              "\n",
              "  <div class=\"colab-df-container\">\n",
              "    <button class=\"colab-df-convert\" onclick=\"convertToInteractive('df-d00dcacb-00b0-44ef-9dd1-d351bf57d84f')\"\n",
              "            title=\"Convert this dataframe to an interactive table.\"\n",
              "            style=\"display:none;\">\n",
              "\n",
              "  <svg xmlns=\"http://www.w3.org/2000/svg\" height=\"24px\" viewBox=\"0 -960 960 960\">\n",
              "    <path d=\"M120-120v-720h720v720H120Zm60-500h600v-160H180v160Zm220 220h160v-160H400v160Zm0 220h160v-160H400v160ZM180-400h160v-160H180v160Zm440 0h160v-160H620v160ZM180-180h160v-160H180v160Zm440 0h160v-160H620v160Z\"/>\n",
              "  </svg>\n",
              "    </button>\n",
              "\n",
              "  <style>\n",
              "    .colab-df-container {\n",
              "      display:flex;\n",
              "      gap: 12px;\n",
              "    }\n",
              "\n",
              "    .colab-df-convert {\n",
              "      background-color: #E8F0FE;\n",
              "      border: none;\n",
              "      border-radius: 50%;\n",
              "      cursor: pointer;\n",
              "      display: none;\n",
              "      fill: #1967D2;\n",
              "      height: 32px;\n",
              "      padding: 0 0 0 0;\n",
              "      width: 32px;\n",
              "    }\n",
              "\n",
              "    .colab-df-convert:hover {\n",
              "      background-color: #E2EBFA;\n",
              "      box-shadow: 0px 1px 2px rgba(60, 64, 67, 0.3), 0px 1px 3px 1px rgba(60, 64, 67, 0.15);\n",
              "      fill: #174EA6;\n",
              "    }\n",
              "\n",
              "    .colab-df-buttons div {\n",
              "      margin-bottom: 4px;\n",
              "    }\n",
              "\n",
              "    [theme=dark] .colab-df-convert {\n",
              "      background-color: #3B4455;\n",
              "      fill: #D2E3FC;\n",
              "    }\n",
              "\n",
              "    [theme=dark] .colab-df-convert:hover {\n",
              "      background-color: #434B5C;\n",
              "      box-shadow: 0px 1px 3px 1px rgba(0, 0, 0, 0.15);\n",
              "      filter: drop-shadow(0px 1px 2px rgba(0, 0, 0, 0.3));\n",
              "      fill: #FFFFFF;\n",
              "    }\n",
              "  </style>\n",
              "\n",
              "    <script>\n",
              "      const buttonEl =\n",
              "        document.querySelector('#df-d00dcacb-00b0-44ef-9dd1-d351bf57d84f button.colab-df-convert');\n",
              "      buttonEl.style.display =\n",
              "        google.colab.kernel.accessAllowed ? 'block' : 'none';\n",
              "\n",
              "      async function convertToInteractive(key) {\n",
              "        const element = document.querySelector('#df-d00dcacb-00b0-44ef-9dd1-d351bf57d84f');\n",
              "        const dataTable =\n",
              "          await google.colab.kernel.invokeFunction('convertToInteractive',\n",
              "                                                    [key], {});\n",
              "        if (!dataTable) return;\n",
              "\n",
              "        const docLinkHtml = 'Like what you see? Visit the ' +\n",
              "          '<a target=\"_blank\" href=https://colab.research.google.com/notebooks/data_table.ipynb>data table notebook</a>'\n",
              "          + ' to learn more about interactive tables.';\n",
              "        element.innerHTML = '';\n",
              "        dataTable['output_type'] = 'display_data';\n",
              "        await google.colab.output.renderOutput(dataTable, element);\n",
              "        const docLink = document.createElement('div');\n",
              "        docLink.innerHTML = docLinkHtml;\n",
              "        element.appendChild(docLink);\n",
              "      }\n",
              "    </script>\n",
              "  </div>\n",
              "\n",
              "\n",
              "<div id=\"df-5c9a6fc0-4133-4069-a23a-588391625907\">\n",
              "  <button class=\"colab-df-quickchart\" onclick=\"quickchart('df-5c9a6fc0-4133-4069-a23a-588391625907')\"\n",
              "            title=\"Suggest charts.\"\n",
              "            style=\"display:none;\">\n",
              "\n",
              "<svg xmlns=\"http://www.w3.org/2000/svg\" height=\"24px\"viewBox=\"0 0 24 24\"\n",
              "     width=\"24px\">\n",
              "    <g>\n",
              "        <path d=\"M19 3H5c-1.1 0-2 .9-2 2v14c0 1.1.9 2 2 2h14c1.1 0 2-.9 2-2V5c0-1.1-.9-2-2-2zM9 17H7v-7h2v7zm4 0h-2V7h2v10zm4 0h-2v-4h2v4z\"/>\n",
              "    </g>\n",
              "</svg>\n",
              "  </button>\n",
              "\n",
              "<style>\n",
              "  .colab-df-quickchart {\n",
              "    background-color: #E8F0FE;\n",
              "    border: none;\n",
              "    border-radius: 50%;\n",
              "    cursor: pointer;\n",
              "    display: none;\n",
              "    fill: #1967D2;\n",
              "    height: 32px;\n",
              "    padding: 0 0 0 0;\n",
              "    width: 32px;\n",
              "  }\n",
              "\n",
              "  .colab-df-quickchart:hover {\n",
              "    background-color: #E2EBFA;\n",
              "    box-shadow: 0px 1px 2px rgba(60, 64, 67, 0.3), 0px 1px 3px 1px rgba(60, 64, 67, 0.15);\n",
              "    fill: #174EA6;\n",
              "  }\n",
              "\n",
              "  [theme=dark] .colab-df-quickchart {\n",
              "    background-color: #3B4455;\n",
              "    fill: #D2E3FC;\n",
              "  }\n",
              "\n",
              "  [theme=dark] .colab-df-quickchart:hover {\n",
              "    background-color: #434B5C;\n",
              "    box-shadow: 0px 1px 3px 1px rgba(0, 0, 0, 0.15);\n",
              "    filter: drop-shadow(0px 1px 2px rgba(0, 0, 0, 0.3));\n",
              "    fill: #FFFFFF;\n",
              "  }\n",
              "</style>\n",
              "\n",
              "  <script>\n",
              "    async function quickchart(key) {\n",
              "      const charts = await google.colab.kernel.invokeFunction(\n",
              "          'suggestCharts', [key], {});\n",
              "    }\n",
              "    (() => {\n",
              "      let quickchartButtonEl =\n",
              "        document.querySelector('#df-5c9a6fc0-4133-4069-a23a-588391625907 button');\n",
              "      quickchartButtonEl.style.display =\n",
              "        google.colab.kernel.accessAllowed ? 'block' : 'none';\n",
              "    })();\n",
              "  </script>\n",
              "</div>\n",
              "    </div>\n",
              "  </div>\n"
            ],
            "text/plain": [
              "         Charged_Off  Loan_Amount  Credit_Score  Annual_Income  Num_Loans  \\\n",
              "Cluster                                                                     \n",
              "2                1.0         0.25          0.82           0.21        0.0   \n",
              "5                1.0         0.42          0.64           0.26        0.0   \n",
              "0                0.0         0.34          0.74           0.23        1.0   \n",
              "1                0.0         0.23          0.90           0.24        0.0   \n",
              "3                0.0         0.51          0.76           0.29        0.0   \n",
              "4                0.0         0.51          0.63           0.29        1.0   \n",
              "6                0.0         0.96          0.92           0.28        0.0   \n",
              "\n",
              "         Term_Short  Count  \n",
              "Cluster                     \n",
              "2               1.0  10243  \n",
              "5               0.0   6074  \n",
              "0               1.0  15606  \n",
              "1               1.0  20961  \n",
              "3               0.0   5400  \n",
              "4               0.0  10210  \n",
              "6               1.0   7558  "
            ]
          },
          "execution_count": 554,
          "metadata": {},
          "output_type": "execute_result"
        }
      ],
      "source": [
        "avg = dc.groupby(dc['Cluster'])[features].mean().round(2)\n",
        "d_avg = pd.DataFrame(avg, columns=features).round(3)\n",
        "d_avg['Count'] = count\n",
        "d_avg = d_avg.sort_values('Charged_Off', ascending=False)\n",
        "d_avg"
      ]
    },
    {
      "cell_type": "markdown",
      "metadata": {
        "id": "Cf2TuE6MxOIm"
      },
      "source": [
        "To get a better understanding of the groupings in relation to the target value, we're going to group clusters with no, all, and some charge offs."
      ]
    },
    {
      "cell_type": "code",
      "execution_count": null,
      "metadata": {
        "colab": {
          "base_uri": "https://localhost:8080/"
        },
        "id": "G0Bb7Vsthzm9",
        "outputId": "91069ec3-d995-4d17-f54b-022a000035a5"
      },
      "outputs": [
        {
          "name": "stdout",
          "output_type": "stream",
          "text": [
            "GROUP 0 , DETAILS\n",
            " ---------- \n",
            " Charge Off Count: 0 / 59735 \n",
            " Loan Amount Range: 0.0 - 1.0 \n",
            " Credit Score Range: 0.0 - 1.0 \n",
            " Income Range: 0.0009077599959826793 - 1.0 \n",
            " Loan Count Range: 0.0 - 1.0 \n",
            " Short Term Percent: 73.86791663179041 %\n",
            "\n",
            "GROUP 1 , DETAILS\n",
            " ---------- \n",
            " Charge Off Count: 16317 / 16317 \n",
            " Loan Amount Range: 0.010324063117567697 - 0.7866980595858644 \n",
            " Credit Score Range: 0.0 - 1.0 \n",
            " Income Range: 0.0 - 0.9897287922156683 \n",
            " Loan Count Range: 0.0 - 0.0 \n",
            " Short Term Percent: 62.77501991787706 %\n",
            "\n"
          ]
        }
      ],
      "source": [
        "dc['Cluster'] = dc['Cluster'].replace({1,3,4,6}, 0)\n",
        "dc['Cluster'] = dc['Cluster'].replace({2,5}, 1)\n",
        "\n",
        "for cluster in range (0,2):\n",
        "  c = dc[dc['Cluster'] == cluster]\n",
        "  print('GROUP',cluster,', DETAILS\\n','-'*10,'\\n',\n",
        "        'Charge Off Count:',len(c[c['Charged_Off'] == 1]),'/',len(c.index),'\\n',\n",
        "        'Loan Amount Range:',c['Loan_Amount'].min(),'-',c['Loan_Amount'].max(),'\\n',\n",
        "        'Credit Score Range:',c['Credit_Score'].min(),'-',c['Credit_Score'].max(),'\\n',\n",
        "        'Income Range:',c['Annual_Income'].min(),'-',c['Annual_Income'].max(),'\\n',\n",
        "        'Loan Count Range:',c['Num_Loans'].min(),'-',c['Num_Loans'].max(),'\\n',\n",
        "        'Short Term Percent:',len(c[c['Term_Short'] == 1])/len(c.index)*100,'%\\n')"
      ]
    },
    {
      "cell_type": "markdown",
      "metadata": {
        "id": "_ww3lK8bSVCa"
      },
      "source": [
        "### Summary: K-cluster analysis\n",
        "\n",
        "Based on final inertia and silhouette scores, the k-cluster analysis did not create distinct enough clusters to use as a standalone analysis. However, the individual clusters did create a full divide between charged-off loans and those that were not charged off. From that, we can see the following trends about loans that are more likely to be charged off:\n",
        "\n",
        "*   Loan amounts are generally in the middling range (at neither extreme of amount)\n",
        "*   Usually the only loan the customer has on file with us\n",
        "* Less likely to be a short term loan\n",
        "\n",
        "However, further refinement of the data being used prior to analysis would be needed to confirm any of these statements.\n",
        "\n",
        "\n",
        "\n"
      ]
    },
    {
      "cell_type": "markdown",
      "metadata": {
        "id": "-DLzbaQ6_5-l"
      },
      "source": [
        "## Linear regression\n",
        "As a basic form of review, we will now conduct a linear regression analysis using the previously identified predictor variables for X and Charged_Off as y.   "
      ]
    },
    {
      "cell_type": "code",
      "execution_count": null,
      "metadata": {
        "colab": {
          "base_uri": "https://localhost:8080/"
        },
        "id": "KnJxJyaa_8dW",
        "outputId": "87fe5e4a-5951-4411-d5e5-6ff304e4d20c"
      },
      "outputs": [
        {
          "name": "stdout",
          "output_type": "stream",
          "text": [
            "   fit_time  score_time  test_r2  train_r2  test_MSE  train_MSE\n",
            "0    0.0152      0.0030   0.2615    0.2501    0.1265     0.1259\n",
            "1    0.0191      0.0031   0.2516    0.2526    0.1236     0.1266\n",
            "2    0.0191      0.0045   0.2408    0.2553    0.1279     0.1255\n",
            "3    0.0191      0.0030   0.2537    0.2521    0.1259     0.1260\n",
            "4    0.0189      0.0031   0.2534    0.2522    0.1261     0.1260\n"
          ]
        }
      ],
      "source": [
        "reg_model = LinearRegression()\n",
        "\n",
        "kf = KFold(n_splits=5, shuffle=True, random_state=1)\n",
        "\n",
        "scores = cross_validate(reg_model, X, y, cv=kf,\n",
        "scoring=('r2', 'neg_mean_squared_error'),\n",
        "                        return_train_score=True)\n",
        "\n",
        "ds = pd.DataFrame(scores)\n",
        "ds.rename(columns = {'test_neg_mean_squared_error': 'test_MSE',\n",
        "'train_neg_mean_squared_error': 'train_MSE'},\n",
        "inplace=True)\n",
        "ds['test_MSE'] = -ds['test_MSE']\n",
        "ds['train_MSE'] = -ds['train_MSE']\n",
        "print(ds.round(4))"
      ]
    },
    {
      "cell_type": "code",
      "execution_count": null,
      "metadata": {
        "colab": {
          "base_uri": "https://localhost:8080/"
        },
        "id": "8untT1KUBlq-",
        "outputId": "773f7ad6-de68-4361-a274-57ab3adec362"
      },
      "outputs": [
        {
          "name": "stdout",
          "output_type": "stream",
          "text": [
            "Mean of test R-squared scores: 0.252 \n",
            "\n",
            "Mean of test MSE scores: 0.126\n",
            "Standard deviation of mean test MSE scores: 0.355\n"
          ]
        }
      ],
      "source": [
        "print('Mean of test R-squared scores: %.3f' % ds['test_r2'].mean(),'\\n')\n",
        "print('Mean of test MSE scores: %.3f' % ds['test_MSE'].mean())\n",
        "\n",
        "se = np.sqrt(ds['test_MSE'].mean())\n",
        "print('Standard deviation of mean test MSE scores: %.3f' % se)"
      ]
    },
    {
      "cell_type": "markdown",
      "metadata": {
        "id": "4qu9m3swIti7"
      },
      "source": [
        "### Summary: Linear regression\n",
        "As with the k-cluster analysis, the results from our linear regression analysis are inconclusive. While we have a low average for our Mean Squared Errors (MSE), we also have low r-squared scores. As such, the information available from this analysis cannot be used to make accurate predictions at this point."
      ]
    },
    {
      "cell_type": "markdown",
      "metadata": {
        "id": "C9IEauocex5m"
      },
      "source": [
        "# Logistic regression\n",
        "\n",
        "As a final analysis, we will review the data using logistic regression."
      ]
    },
    {
      "cell_type": "code",
      "execution_count": null,
      "metadata": {
        "colab": {
          "base_uri": "https://localhost:8080/"
        },
        "id": "xTVKnVT3nyOT",
        "outputId": "e91a1bce-5b39-4033-ca05-701a695299e1"
      },
      "outputs": [
        {
          "name": "stdout",
          "output_type": "stream",
          "text": [
            "size of X data structures:  (53236, 5) (22816, 5)\n",
            "size of y data structures:  (53236,) (22816,)\n"
          ]
        }
      ],
      "source": [
        "X_train, X_test, y_train, y_test = train_test_split(X, y, test_size=.30,\n",
        "                                                    stratify=d['Charged_Off'], random_state=9)\n",
        "print(\"size of X data structures: \", X_train.shape, X_test.shape)\n",
        "print(\"size of y data structures: \", y_train.shape, y_test.shape)"
      ]
    },
    {
      "cell_type": "code",
      "execution_count": null,
      "metadata": {
        "colab": {
          "base_uri": "https://localhost:8080/",
          "height": 75
        },
        "id": "aiftfWUEoIJ9",
        "outputId": "b2fbb15c-1b63-43ee-b0be-0fe8c3cf853e"
      },
      "outputs": [
        {
          "data": {
            "text/html": [
              "<style>#sk-container-id-7 {color: black;background-color: white;}#sk-container-id-7 pre{padding: 0;}#sk-container-id-7 div.sk-toggleable {background-color: white;}#sk-container-id-7 label.sk-toggleable__label {cursor: pointer;display: block;width: 100%;margin-bottom: 0;padding: 0.3em;box-sizing: border-box;text-align: center;}#sk-container-id-7 label.sk-toggleable__label-arrow:before {content: \"▸\";float: left;margin-right: 0.25em;color: #696969;}#sk-container-id-7 label.sk-toggleable__label-arrow:hover:before {color: black;}#sk-container-id-7 div.sk-estimator:hover label.sk-toggleable__label-arrow:before {color: black;}#sk-container-id-7 div.sk-toggleable__content {max-height: 0;max-width: 0;overflow: hidden;text-align: left;background-color: #f0f8ff;}#sk-container-id-7 div.sk-toggleable__content pre {margin: 0.2em;color: black;border-radius: 0.25em;background-color: #f0f8ff;}#sk-container-id-7 input.sk-toggleable__control:checked~div.sk-toggleable__content {max-height: 200px;max-width: 100%;overflow: auto;}#sk-container-id-7 input.sk-toggleable__control:checked~label.sk-toggleable__label-arrow:before {content: \"▾\";}#sk-container-id-7 div.sk-estimator input.sk-toggleable__control:checked~label.sk-toggleable__label {background-color: #d4ebff;}#sk-container-id-7 div.sk-label input.sk-toggleable__control:checked~label.sk-toggleable__label {background-color: #d4ebff;}#sk-container-id-7 input.sk-hidden--visually {border: 0;clip: rect(1px 1px 1px 1px);clip: rect(1px, 1px, 1px, 1px);height: 1px;margin: -1px;overflow: hidden;padding: 0;position: absolute;width: 1px;}#sk-container-id-7 div.sk-estimator {font-family: monospace;background-color: #f0f8ff;border: 1px dotted black;border-radius: 0.25em;box-sizing: border-box;margin-bottom: 0.5em;}#sk-container-id-7 div.sk-estimator:hover {background-color: #d4ebff;}#sk-container-id-7 div.sk-parallel-item::after {content: \"\";width: 100%;border-bottom: 1px solid gray;flex-grow: 1;}#sk-container-id-7 div.sk-label:hover label.sk-toggleable__label {background-color: #d4ebff;}#sk-container-id-7 div.sk-serial::before {content: \"\";position: absolute;border-left: 1px solid gray;box-sizing: border-box;top: 0;bottom: 0;left: 50%;z-index: 0;}#sk-container-id-7 div.sk-serial {display: flex;flex-direction: column;align-items: center;background-color: white;padding-right: 0.2em;padding-left: 0.2em;position: relative;}#sk-container-id-7 div.sk-item {position: relative;z-index: 1;}#sk-container-id-7 div.sk-parallel {display: flex;align-items: stretch;justify-content: center;background-color: white;position: relative;}#sk-container-id-7 div.sk-item::before, #sk-container-id-7 div.sk-parallel-item::before {content: \"\";position: absolute;border-left: 1px solid gray;box-sizing: border-box;top: 0;bottom: 0;left: 50%;z-index: -1;}#sk-container-id-7 div.sk-parallel-item {display: flex;flex-direction: column;z-index: 1;position: relative;background-color: white;}#sk-container-id-7 div.sk-parallel-item:first-child::after {align-self: flex-end;width: 50%;}#sk-container-id-7 div.sk-parallel-item:last-child::after {align-self: flex-start;width: 50%;}#sk-container-id-7 div.sk-parallel-item:only-child::after {width: 0;}#sk-container-id-7 div.sk-dashed-wrapped {border: 1px dashed gray;margin: 0 0.4em 0.5em 0.4em;box-sizing: border-box;padding-bottom: 0.4em;background-color: white;}#sk-container-id-7 div.sk-label label {font-family: monospace;font-weight: bold;display: inline-block;line-height: 1.2em;}#sk-container-id-7 div.sk-label-container {text-align: center;}#sk-container-id-7 div.sk-container {/* jupyter's `normalize.less` sets `[hidden] { display: none; }` but bootstrap.min.css set `[hidden] { display: none !important; }` so we also need the `!important` here to be able to override the default hidden behavior on the sphinx rendered scikit-learn.org. See: https://github.com/scikit-learn/scikit-learn/issues/21755 */display: inline-block !important;position: relative;}#sk-container-id-7 div.sk-text-repr-fallback {display: none;}</style><div id=\"sk-container-id-7\" class=\"sk-top-container\"><div class=\"sk-text-repr-fallback\"><pre>LogisticRegression(max_iter=500)</pre><b>In a Jupyter environment, please rerun this cell to show the HTML representation or trust the notebook. <br />On GitHub, the HTML representation is unable to render, please try loading this page with nbviewer.org.</b></div><div class=\"sk-container\" hidden><div class=\"sk-item\"><div class=\"sk-estimator sk-toggleable\"><input class=\"sk-toggleable__control sk-hidden--visually\" id=\"sk-estimator-id-11\" type=\"checkbox\" checked><label for=\"sk-estimator-id-11\" class=\"sk-toggleable__label sk-toggleable__label-arrow\">LogisticRegression</label><div class=\"sk-toggleable__content\"><pre>LogisticRegression(max_iter=500)</pre></div></div></div></div></div>"
            ],
            "text/plain": [
              "LogisticRegression(max_iter=500)"
            ]
          },
          "execution_count": 571,
          "metadata": {},
          "output_type": "execute_result"
        }
      ],
      "source": [
        "logistic_model = LogisticRegression(solver='lbfgs', max_iter=500)\n",
        "logistic_model.fit(X_train, y_train)"
      ]
    },
    {
      "cell_type": "code",
      "execution_count": null,
      "metadata": {
        "colab": {
          "base_uri": "https://localhost:8080/",
          "height": 148
        },
        "id": "lnSfrfEMoPqt",
        "outputId": "d35149bc-2b42-407f-87fb-b52161c78ca1"
      },
      "outputs": [
        {
          "name": "stdout",
          "output_type": "stream",
          "text": [
            "intercept 4.310 \n",
            "\n"
          ]
        },
        {
          "data": {
            "text/html": [
              "\n",
              "  <div id=\"df-10e08cca-2c67-41e5-842a-bed51e9f2c27\" class=\"colab-df-container\">\n",
              "    <div>\n",
              "<style scoped>\n",
              "    .dataframe tbody tr th:only-of-type {\n",
              "        vertical-align: middle;\n",
              "    }\n",
              "\n",
              "    .dataframe tbody tr th {\n",
              "        vertical-align: top;\n",
              "    }\n",
              "\n",
              "    .dataframe thead th {\n",
              "        text-align: right;\n",
              "    }\n",
              "</style>\n",
              "<table border=\"1\" class=\"dataframe\">\n",
              "  <thead>\n",
              "    <tr style=\"text-align: right;\">\n",
              "      <th></th>\n",
              "      <th>0</th>\n",
              "      <th>1</th>\n",
              "      <th>2</th>\n",
              "      <th>3</th>\n",
              "      <th>4</th>\n",
              "    </tr>\n",
              "  </thead>\n",
              "  <tbody>\n",
              "    <tr>\n",
              "      <th>Feature</th>\n",
              "      <td>Loan_Amount</td>\n",
              "      <td>Credit_Score</td>\n",
              "      <td>Annual_Income</td>\n",
              "      <td>Num_Loans</td>\n",
              "      <td>Term_Short</td>\n",
              "    </tr>\n",
              "    <tr>\n",
              "      <th>Coef</th>\n",
              "      <td>-1.944</td>\n",
              "      <td>-4.337</td>\n",
              "      <td>-0.905</td>\n",
              "      <td>-8.051</td>\n",
              "      <td>-0.702</td>\n",
              "    </tr>\n",
              "  </tbody>\n",
              "</table>\n",
              "</div>\n",
              "    <div class=\"colab-df-buttons\">\n",
              "\n",
              "  <div class=\"colab-df-container\">\n",
              "    <button class=\"colab-df-convert\" onclick=\"convertToInteractive('df-10e08cca-2c67-41e5-842a-bed51e9f2c27')\"\n",
              "            title=\"Convert this dataframe to an interactive table.\"\n",
              "            style=\"display:none;\">\n",
              "\n",
              "  <svg xmlns=\"http://www.w3.org/2000/svg\" height=\"24px\" viewBox=\"0 -960 960 960\">\n",
              "    <path d=\"M120-120v-720h720v720H120Zm60-500h600v-160H180v160Zm220 220h160v-160H400v160Zm0 220h160v-160H400v160ZM180-400h160v-160H180v160Zm440 0h160v-160H620v160ZM180-180h160v-160H180v160Zm440 0h160v-160H620v160Z\"/>\n",
              "  </svg>\n",
              "    </button>\n",
              "\n",
              "  <style>\n",
              "    .colab-df-container {\n",
              "      display:flex;\n",
              "      gap: 12px;\n",
              "    }\n",
              "\n",
              "    .colab-df-convert {\n",
              "      background-color: #E8F0FE;\n",
              "      border: none;\n",
              "      border-radius: 50%;\n",
              "      cursor: pointer;\n",
              "      display: none;\n",
              "      fill: #1967D2;\n",
              "      height: 32px;\n",
              "      padding: 0 0 0 0;\n",
              "      width: 32px;\n",
              "    }\n",
              "\n",
              "    .colab-df-convert:hover {\n",
              "      background-color: #E2EBFA;\n",
              "      box-shadow: 0px 1px 2px rgba(60, 64, 67, 0.3), 0px 1px 3px 1px rgba(60, 64, 67, 0.15);\n",
              "      fill: #174EA6;\n",
              "    }\n",
              "\n",
              "    .colab-df-buttons div {\n",
              "      margin-bottom: 4px;\n",
              "    }\n",
              "\n",
              "    [theme=dark] .colab-df-convert {\n",
              "      background-color: #3B4455;\n",
              "      fill: #D2E3FC;\n",
              "    }\n",
              "\n",
              "    [theme=dark] .colab-df-convert:hover {\n",
              "      background-color: #434B5C;\n",
              "      box-shadow: 0px 1px 3px 1px rgba(0, 0, 0, 0.15);\n",
              "      filter: drop-shadow(0px 1px 2px rgba(0, 0, 0, 0.3));\n",
              "      fill: #FFFFFF;\n",
              "    }\n",
              "  </style>\n",
              "\n",
              "    <script>\n",
              "      const buttonEl =\n",
              "        document.querySelector('#df-10e08cca-2c67-41e5-842a-bed51e9f2c27 button.colab-df-convert');\n",
              "      buttonEl.style.display =\n",
              "        google.colab.kernel.accessAllowed ? 'block' : 'none';\n",
              "\n",
              "      async function convertToInteractive(key) {\n",
              "        const element = document.querySelector('#df-10e08cca-2c67-41e5-842a-bed51e9f2c27');\n",
              "        const dataTable =\n",
              "          await google.colab.kernel.invokeFunction('convertToInteractive',\n",
              "                                                    [key], {});\n",
              "        if (!dataTable) return;\n",
              "\n",
              "        const docLinkHtml = 'Like what you see? Visit the ' +\n",
              "          '<a target=\"_blank\" href=https://colab.research.google.com/notebooks/data_table.ipynb>data table notebook</a>'\n",
              "          + ' to learn more about interactive tables.';\n",
              "        element.innerHTML = '';\n",
              "        dataTable['output_type'] = 'display_data';\n",
              "        await google.colab.output.renderOutput(dataTable, element);\n",
              "        const docLink = document.createElement('div');\n",
              "        docLink.innerHTML = docLinkHtml;\n",
              "        element.appendChild(docLink);\n",
              "      }\n",
              "    </script>\n",
              "  </div>\n",
              "\n",
              "\n",
              "<div id=\"df-c1b57ea2-47b7-4502-afc2-3936a295a6c6\">\n",
              "  <button class=\"colab-df-quickchart\" onclick=\"quickchart('df-c1b57ea2-47b7-4502-afc2-3936a295a6c6')\"\n",
              "            title=\"Suggest charts.\"\n",
              "            style=\"display:none;\">\n",
              "\n",
              "<svg xmlns=\"http://www.w3.org/2000/svg\" height=\"24px\"viewBox=\"0 0 24 24\"\n",
              "     width=\"24px\">\n",
              "    <g>\n",
              "        <path d=\"M19 3H5c-1.1 0-2 .9-2 2v14c0 1.1.9 2 2 2h14c1.1 0 2-.9 2-2V5c0-1.1-.9-2-2-2zM9 17H7v-7h2v7zm4 0h-2V7h2v10zm4 0h-2v-4h2v4z\"/>\n",
              "    </g>\n",
              "</svg>\n",
              "  </button>\n",
              "\n",
              "<style>\n",
              "  .colab-df-quickchart {\n",
              "    background-color: #E8F0FE;\n",
              "    border: none;\n",
              "    border-radius: 50%;\n",
              "    cursor: pointer;\n",
              "    display: none;\n",
              "    fill: #1967D2;\n",
              "    height: 32px;\n",
              "    padding: 0 0 0 0;\n",
              "    width: 32px;\n",
              "  }\n",
              "\n",
              "  .colab-df-quickchart:hover {\n",
              "    background-color: #E2EBFA;\n",
              "    box-shadow: 0px 1px 2px rgba(60, 64, 67, 0.3), 0px 1px 3px 1px rgba(60, 64, 67, 0.15);\n",
              "    fill: #174EA6;\n",
              "  }\n",
              "\n",
              "  [theme=dark] .colab-df-quickchart {\n",
              "    background-color: #3B4455;\n",
              "    fill: #D2E3FC;\n",
              "  }\n",
              "\n",
              "  [theme=dark] .colab-df-quickchart:hover {\n",
              "    background-color: #434B5C;\n",
              "    box-shadow: 0px 1px 3px 1px rgba(0, 0, 0, 0.15);\n",
              "    filter: drop-shadow(0px 1px 2px rgba(0, 0, 0, 0.3));\n",
              "    fill: #FFFFFF;\n",
              "  }\n",
              "</style>\n",
              "\n",
              "  <script>\n",
              "    async function quickchart(key) {\n",
              "      const charts = await google.colab.kernel.invokeFunction(\n",
              "          'suggestCharts', [key], {});\n",
              "    }\n",
              "    (() => {\n",
              "      let quickchartButtonEl =\n",
              "        document.querySelector('#df-c1b57ea2-47b7-4502-afc2-3936a295a6c6 button');\n",
              "      quickchartButtonEl.style.display =\n",
              "        google.colab.kernel.accessAllowed ? 'block' : 'none';\n",
              "    })();\n",
              "  </script>\n",
              "</div>\n",
              "    </div>\n",
              "  </div>\n"
            ],
            "text/plain": [
              "                   0             1              2          3           4\n",
              "Feature  Loan_Amount  Credit_Score  Annual_Income  Num_Loans  Term_Short\n",
              "Coef          -1.944        -4.337         -0.905     -8.051      -0.702"
            ]
          },
          "execution_count": 572,
          "metadata": {},
          "output_type": "execute_result"
        }
      ],
      "source": [
        "print(\"intercept %.3f\" % logistic_model.intercept_, \"\\n\")\n",
        "cf = pd.DataFrame()\n",
        "cf['Feature'] = X.columns\n",
        "cf['Coef']= np.transpose(logistic_model.coef_).round(3)\n",
        "cf.transpose()"
      ]
    },
    {
      "cell_type": "code",
      "execution_count": null,
      "metadata": {
        "colab": {
          "base_uri": "https://localhost:8080/"
        },
        "id": "yO-sHxW9ohft",
        "outputId": "0ab50f54-b244-4f17-f178-8b5fab82db60"
      },
      "outputs": [
        {
          "name": "stdout",
          "output_type": "stream",
          "text": [
            "Accuracy for training data: 0.818\n",
            "Accuracy for testing data: 0.818\n"
          ]
        }
      ],
      "source": [
        "y_fit = logistic_model.predict(X_train)\n",
        "y_pred = logistic_model.predict(X_test)\n",
        "probs = [i[1] for i in logistic_model.predict_proba(X_test)]\n",
        "pred_df = pd.DataFrame({'true_values': y_test,\n",
        "                        'pred_values': y_pred,\n",
        "                        'pred_probs':probs})\n",
        "\n",
        "print ('Accuracy for training data: %.3f' % accuracy_score(y_train, y_fit))\n",
        "print ('Accuracy for testing data: %.3f' % accuracy_score(y_test, y_pred))"
      ]
    },
    {
      "cell_type": "code",
      "execution_count": null,
      "metadata": {
        "colab": {
          "base_uri": "https://localhost:8080/",
          "height": 219
        },
        "id": "6jfL3bUwpBzo",
        "outputId": "276af412-ac05-4163-cde6-e6effcd2540a"
      },
      "outputs": [
        {
          "name": "stdout",
          "output_type": "stream",
          "text": [
            "True Negatives:  17017\n",
            "True Positives:  1639\n",
            "False Negatives:  3256\n",
            "False Positives:  904\n",
            "\n",
            "\n"
          ]
        },
        {
          "data": {
            "text/html": [
              "\n",
              "  <div id=\"df-c408f311-b6f6-4b54-bc1c-e4850d9230a0\" class=\"colab-df-container\">\n",
              "    <div>\n",
              "<style scoped>\n",
              "    .dataframe tbody tr th:only-of-type {\n",
              "        vertical-align: middle;\n",
              "    }\n",
              "\n",
              "    .dataframe tbody tr th {\n",
              "        vertical-align: top;\n",
              "    }\n",
              "\n",
              "    .dataframe thead th {\n",
              "        text-align: right;\n",
              "    }\n",
              "</style>\n",
              "<table border=\"1\" class=\"dataframe\">\n",
              "  <thead>\n",
              "    <tr style=\"text-align: right;\">\n",
              "      <th></th>\n",
              "      <th>0</th>\n",
              "      <th>1</th>\n",
              "    </tr>\n",
              "  </thead>\n",
              "  <tbody>\n",
              "    <tr>\n",
              "      <th>0</th>\n",
              "      <td>17017</td>\n",
              "      <td>904</td>\n",
              "    </tr>\n",
              "    <tr>\n",
              "      <th>1</th>\n",
              "      <td>3256</td>\n",
              "      <td>1639</td>\n",
              "    </tr>\n",
              "  </tbody>\n",
              "</table>\n",
              "</div>\n",
              "    <div class=\"colab-df-buttons\">\n",
              "\n",
              "  <div class=\"colab-df-container\">\n",
              "    <button class=\"colab-df-convert\" onclick=\"convertToInteractive('df-c408f311-b6f6-4b54-bc1c-e4850d9230a0')\"\n",
              "            title=\"Convert this dataframe to an interactive table.\"\n",
              "            style=\"display:none;\">\n",
              "\n",
              "  <svg xmlns=\"http://www.w3.org/2000/svg\" height=\"24px\" viewBox=\"0 -960 960 960\">\n",
              "    <path d=\"M120-120v-720h720v720H120Zm60-500h600v-160H180v160Zm220 220h160v-160H400v160Zm0 220h160v-160H400v160ZM180-400h160v-160H180v160Zm440 0h160v-160H620v160ZM180-180h160v-160H180v160Zm440 0h160v-160H620v160Z\"/>\n",
              "  </svg>\n",
              "    </button>\n",
              "\n",
              "  <style>\n",
              "    .colab-df-container {\n",
              "      display:flex;\n",
              "      gap: 12px;\n",
              "    }\n",
              "\n",
              "    .colab-df-convert {\n",
              "      background-color: #E8F0FE;\n",
              "      border: none;\n",
              "      border-radius: 50%;\n",
              "      cursor: pointer;\n",
              "      display: none;\n",
              "      fill: #1967D2;\n",
              "      height: 32px;\n",
              "      padding: 0 0 0 0;\n",
              "      width: 32px;\n",
              "    }\n",
              "\n",
              "    .colab-df-convert:hover {\n",
              "      background-color: #E2EBFA;\n",
              "      box-shadow: 0px 1px 2px rgba(60, 64, 67, 0.3), 0px 1px 3px 1px rgba(60, 64, 67, 0.15);\n",
              "      fill: #174EA6;\n",
              "    }\n",
              "\n",
              "    .colab-df-buttons div {\n",
              "      margin-bottom: 4px;\n",
              "    }\n",
              "\n",
              "    [theme=dark] .colab-df-convert {\n",
              "      background-color: #3B4455;\n",
              "      fill: #D2E3FC;\n",
              "    }\n",
              "\n",
              "    [theme=dark] .colab-df-convert:hover {\n",
              "      background-color: #434B5C;\n",
              "      box-shadow: 0px 1px 3px 1px rgba(0, 0, 0, 0.15);\n",
              "      filter: drop-shadow(0px 1px 2px rgba(0, 0, 0, 0.3));\n",
              "      fill: #FFFFFF;\n",
              "    }\n",
              "  </style>\n",
              "\n",
              "    <script>\n",
              "      const buttonEl =\n",
              "        document.querySelector('#df-c408f311-b6f6-4b54-bc1c-e4850d9230a0 button.colab-df-convert');\n",
              "      buttonEl.style.display =\n",
              "        google.colab.kernel.accessAllowed ? 'block' : 'none';\n",
              "\n",
              "      async function convertToInteractive(key) {\n",
              "        const element = document.querySelector('#df-c408f311-b6f6-4b54-bc1c-e4850d9230a0');\n",
              "        const dataTable =\n",
              "          await google.colab.kernel.invokeFunction('convertToInteractive',\n",
              "                                                    [key], {});\n",
              "        if (!dataTable) return;\n",
              "\n",
              "        const docLinkHtml = 'Like what you see? Visit the ' +\n",
              "          '<a target=\"_blank\" href=https://colab.research.google.com/notebooks/data_table.ipynb>data table notebook</a>'\n",
              "          + ' to learn more about interactive tables.';\n",
              "        element.innerHTML = '';\n",
              "        dataTable['output_type'] = 'display_data';\n",
              "        await google.colab.output.renderOutput(dataTable, element);\n",
              "        const docLink = document.createElement('div');\n",
              "        docLink.innerHTML = docLinkHtml;\n",
              "        element.appendChild(docLink);\n",
              "      }\n",
              "    </script>\n",
              "  </div>\n",
              "\n",
              "\n",
              "<div id=\"df-914dc9a7-2d74-4eaa-8f7e-f89b29c6ab3e\">\n",
              "  <button class=\"colab-df-quickchart\" onclick=\"quickchart('df-914dc9a7-2d74-4eaa-8f7e-f89b29c6ab3e')\"\n",
              "            title=\"Suggest charts.\"\n",
              "            style=\"display:none;\">\n",
              "\n",
              "<svg xmlns=\"http://www.w3.org/2000/svg\" height=\"24px\"viewBox=\"0 0 24 24\"\n",
              "     width=\"24px\">\n",
              "    <g>\n",
              "        <path d=\"M19 3H5c-1.1 0-2 .9-2 2v14c0 1.1.9 2 2 2h14c1.1 0 2-.9 2-2V5c0-1.1-.9-2-2-2zM9 17H7v-7h2v7zm4 0h-2V7h2v10zm4 0h-2v-4h2v4z\"/>\n",
              "    </g>\n",
              "</svg>\n",
              "  </button>\n",
              "\n",
              "<style>\n",
              "  .colab-df-quickchart {\n",
              "    background-color: #E8F0FE;\n",
              "    border: none;\n",
              "    border-radius: 50%;\n",
              "    cursor: pointer;\n",
              "    display: none;\n",
              "    fill: #1967D2;\n",
              "    height: 32px;\n",
              "    padding: 0 0 0 0;\n",
              "    width: 32px;\n",
              "  }\n",
              "\n",
              "  .colab-df-quickchart:hover {\n",
              "    background-color: #E2EBFA;\n",
              "    box-shadow: 0px 1px 2px rgba(60, 64, 67, 0.3), 0px 1px 3px 1px rgba(60, 64, 67, 0.15);\n",
              "    fill: #174EA6;\n",
              "  }\n",
              "\n",
              "  [theme=dark] .colab-df-quickchart {\n",
              "    background-color: #3B4455;\n",
              "    fill: #D2E3FC;\n",
              "  }\n",
              "\n",
              "  [theme=dark] .colab-df-quickchart:hover {\n",
              "    background-color: #434B5C;\n",
              "    box-shadow: 0px 1px 3px 1px rgba(0, 0, 0, 0.15);\n",
              "    filter: drop-shadow(0px 1px 2px rgba(0, 0, 0, 0.3));\n",
              "    fill: #FFFFFF;\n",
              "  }\n",
              "</style>\n",
              "\n",
              "  <script>\n",
              "    async function quickchart(key) {\n",
              "      const charts = await google.colab.kernel.invokeFunction(\n",
              "          'suggestCharts', [key], {});\n",
              "    }\n",
              "    (() => {\n",
              "      let quickchartButtonEl =\n",
              "        document.querySelector('#df-914dc9a7-2d74-4eaa-8f7e-f89b29c6ab3e button');\n",
              "      quickchartButtonEl.style.display =\n",
              "        google.colab.kernel.accessAllowed ? 'block' : 'none';\n",
              "    })();\n",
              "  </script>\n",
              "</div>\n",
              "    </div>\n",
              "  </div>\n"
            ],
            "text/plain": [
              "       0     1\n",
              "0  17017   904\n",
              "1   3256  1639"
            ]
          },
          "execution_count": 574,
          "metadata": {},
          "output_type": "execute_result"
        }
      ],
      "source": [
        "dc = pd.DataFrame(confusion_matrix(y_test, y_pred))\n",
        "\n",
        "print(\"True Negatives: \", dc.iloc[0,0])\n",
        "print(\"True Positives: \", dc.iloc[1,1])\n",
        "print(\"False Negatives: \", dc.iloc[1,0])\n",
        "print(\"False Positives: \", dc.iloc[0,1])\n",
        "print('\\n')\n",
        "dc"
      ]
    },
    {
      "cell_type": "code",
      "execution_count": null,
      "metadata": {
        "colab": {
          "base_uri": "https://localhost:8080/"
        },
        "id": "IzvaINg4pyeR",
        "outputId": "c148313a-e84b-4392-8c21-d145c654abbe"
      },
      "outputs": [
        {
          "name": "stdout",
          "output_type": "stream",
          "text": [
            "Recall for testing data: 0.335\n",
            "Precision for testing data: 0.645\n",
            "F1 for testing data: 0.441\n"
          ]
        }
      ],
      "source": [
        "print ('Recall for testing data: %.3f' % recall_score(y_test, y_pred))\n",
        "print ('Precision for testing data: %.3f' % precision_score(y_test, y_pred))\n",
        "print ('F1 for testing data: %.3f' % f1_score(y_test, y_pred))"
      ]
    },
    {
      "cell_type": "code",
      "execution_count": null,
      "metadata": {
        "colab": {
          "base_uri": "https://localhost:8080/"
        },
        "id": "kMOJwZoVp276",
        "outputId": "c5b5dc41-d429-46c1-8789-ac2340f29e87"
      },
      "outputs": [
        {
          "name": "stdout",
          "output_type": "stream",
          "text": [
            "Proportion of 0's (Fully Paid): 0.785\n",
            "Proportion of 1's (Charged Off): 0.215\n",
            "Null model accuracy: 0.785\n"
          ]
        }
      ],
      "source": [
        "my = y.mean()\n",
        "max_my = np.max([y.mean(), 1-y.mean()])\n",
        "print('Proportion of 0\\'s (Fully Paid): %.3f' % (1-my))\n",
        "print('Proportion of 1\\'s (Charged Off): %.3f' % my)\n",
        "print('Null model accuracy: %.3f' % max_my)"
      ]
    },
    {
      "cell_type": "markdown",
      "metadata": {
        "id": "0PGzRymJKV5F"
      },
      "source": [
        "### Summary: Logistic regression\n",
        "\n",
        "For our model, the most important scoring value is recall. We do not want to provide loans to individuals likely to have their loans go into charge-off, and so it's imperative that we have minimal false negatives. However, our model's best score comes from precision, identifying false-positives, and even with that it performs worse than the null model."
      ]
    }
  ],
  "metadata": {
    "colab": {
      "provenance": []
    },
    "kernelspec": {
      "display_name": "Python 3",
      "name": "python3"
    },
    "language_info": {
      "name": "python"
    }
  },
  "nbformat": 4,
  "nbformat_minor": 0
}
